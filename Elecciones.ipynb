{
 "cells": [
  {
   "cell_type": "markdown",
   "id": "dfe37963-1af6-44fc-a841-8e462443f5e6",
   "metadata": {},
   "source": [
    "## Bot experto en leyes electorales"
   ]
  },
  {
   "cell_type": "code",
   "execution_count": 1,
   "id": "ba2779af-84ef-4227-9e9e-6eaf0df87e77",
   "metadata": {},
   "outputs": [],
   "source": [
    "# imports\n",
    "\n",
    "import os\n",
    "import glob\n",
    "from dotenv import load_dotenv\n",
    "import gradio as gr"
   ]
  },
  {
   "cell_type": "code",
   "execution_count": 2,
   "id": "802137aa-8a74-45e0-a487-d1974927d7ca",
   "metadata": {},
   "outputs": [],
   "source": [
    "# Importamos LangChain, Chroma, Plotly y herramientas necesarias\n",
    "\n",
    "from langchain.document_loaders import DirectoryLoader, TextLoader\n",
    "from langchain.text_splitter import CharacterTextSplitter\n",
    "from langchain.schema import Document\n",
    "from langchain_openai import OpenAIEmbeddings, ChatOpenAI\n",
    "from langchain_chroma import Chroma\n",
    "import matplotlib.pyplot as plt\n",
    "from sklearn.manifold import TSNE\n",
    "import numpy as np\n",
    "import plotly.graph_objects as go\n",
    "from langchain.memory import ConversationBufferMemory\n",
    "from langchain.chains import ConversationalRetrievalChain\n",
    "from langchain.embeddings import HuggingFaceEmbeddings"
   ]
  },
  {
   "cell_type": "code",
   "execution_count": 3,
   "id": "58c85082-e417-4708-9efe-81a5d55d1424",
   "metadata": {},
   "outputs": [],
   "source": [
    "# Nombre del directorio donde se guardará la base de datos vectorial\n",
    "db_name = \"vector_db\""
   ]
  },
  {
   "cell_type": "code",
   "execution_count": 4,
   "id": "ee78efcb-60fe-449e-a944-40bab26261af",
   "metadata": {},
   "outputs": [],
   "source": [
    "# Cargar las variables de entorno desde el archivo llamado .env\n",
    "load_dotenv(override=True)  \n",
    "\n",
    "# Obtener la clave de la API de OpenAI desde las variables de entorno\n",
    "# Si no se encuentra, se asigna un valor por defecto (útil si no estás usando un archivo .env)\n",
    "os.environ['OPENAI_API_KEY'] = os.getenv('OPENAI_API_KEY',  'your-key-if-not-using-env')\n"
   ]
  },
  {
   "cell_type": "code",
   "execution_count": null,
   "id": "730711a9-6ffe-4eee-8f48-d6cfb7314905",
   "metadata": {},
   "outputs": [
    {
     "name": "stderr",
     "output_type": "stream",
     "text": [
      "Created a chunk of size 1931, which is longer than the specified 1000\n",
      "Created a chunk of size 1039, which is longer than the specified 1000\n",
      "Created a chunk of size 2010, which is longer than the specified 1000\n",
      "Created a chunk of size 1373, which is longer than the specified 1000\n",
      "Created a chunk of size 2203, which is longer than the specified 1000\n",
      "Created a chunk of size 1633, which is longer than the specified 1000\n",
      "Created a chunk of size 1095, which is longer than the specified 1000\n",
      "Created a chunk of size 1188, which is longer than the specified 1000\n",
      "Created a chunk of size 1197, which is longer than the specified 1000\n",
      "Created a chunk of size 1420, which is longer than the specified 1000\n",
      "Created a chunk of size 2569, which is longer than the specified 1000\n",
      "Created a chunk of size 2760, which is longer than the specified 1000\n",
      "Created a chunk of size 1307, which is longer than the specified 1000\n",
      "Created a chunk of size 1212, which is longer than the specified 1000\n"
     ]
    },
    {
     "name": "stderr",
     "output_type": "stream",
     "text": [
      "Created a chunk of size 1870, which is longer than the specified 1000\n",
      "Created a chunk of size 1349, which is longer than the specified 1000\n",
      "Created a chunk of size 2385, which is longer than the specified 1000\n",
      "Created a chunk of size 2614, which is longer than the specified 1000\n",
      "Created a chunk of size 1801, which is longer than the specified 1000\n",
      "Created a chunk of size 1206, which is longer than the specified 1000\n",
      "Created a chunk of size 1146, which is longer than the specified 1000\n",
      "Created a chunk of size 2339, which is longer than the specified 1000\n",
      "Created a chunk of size 1468, which is longer than the specified 1000\n",
      "Created a chunk of size 1223, which is longer than the specified 1000\n",
      "Created a chunk of size 1744, which is longer than the specified 1000\n",
      "Created a chunk of size 2022, which is longer than the specified 1000\n",
      "Created a chunk of size 1796, which is longer than the specified 1000\n",
      "Created a chunk of size 1080, which is longer than the specified 1000\n",
      "Created a chunk of size 1344, which is longer than the specified 1000\n",
      "Created a chunk of size 2146, which is longer than the specified 1000\n",
      "Created a chunk of size 1581, which is longer than the specified 1000\n",
      "Created a chunk of size 2133, which is longer than the specified 1000\n",
      "Created a chunk of size 1146, which is longer than the specified 1000\n",
      "Created a chunk of size 1094, which is longer than the specified 1000\n",
      "Created a chunk of size 1026, which is longer than the specified 1000\n",
      "Created a chunk of size 1976, which is longer than the specified 1000\n",
      "Created a chunk of size 1136, which is longer than the specified 1000\n",
      "Created a chunk of size 1606, which is longer than the specified 1000\n",
      "Created a chunk of size 1313, which is longer than the specified 1000\n",
      "Created a chunk of size 1133, which is longer than the specified 1000\n",
      "Created a chunk of size 3207, which is longer than the specified 1000\n",
      "Created a chunk of size 1213, which is longer than the specified 1000\n",
      "Created a chunk of size 1095, which is longer than the specified 1000\n",
      "Created a chunk of size 1033, which is longer than the specified 1000\n",
      "Created a chunk of size 3186, which is longer than the specified 1000\n",
      "Created a chunk of size 1041, which is longer than the specified 1000\n",
      "Created a chunk of size 1823, which is longer than the specified 1000\n",
      "Created a chunk of size 1054, which is longer than the specified 1000\n",
      "Created a chunk of size 1154, which is longer than the specified 1000\n",
      "Created a chunk of size 1902, which is longer than the specified 1000\n",
      "Created a chunk of size 2452, which is longer than the specified 1000\n",
      "Created a chunk of size 1222, which is longer than the specified 1000\n",
      "Created a chunk of size 1631, which is longer than the specified 1000\n",
      "Created a chunk of size 1004, which is longer than the specified 1000\n",
      "Created a chunk of size 1032, which is longer than the specified 1000\n",
      "Created a chunk of size 1132, which is longer than the specified 1000\n",
      "Created a chunk of size 1607, which is longer than the specified 1000\n",
      "Created a chunk of size 1169, which is longer than the specified 1000\n"
     ]
    },
    {
     "name": "stdout",
     "output_type": "stream",
     "text": [
      "Número total de fragmentos: 263\n",
      "Tipos de documento encontrados: {'Manual autoridades de mesa', 'Código electoral', 'Candidatos'}\n"
     ]
    }
   ],
   "source": [
    "# Cargar documentos usando los cargadores (loaders) de LangChain\n",
    "# Se toma todo lo que esté en las subcarpetas dentro de \"knowledge-base\"\n",
    "folders = glob.glob(\"knowledge-base/*\")\n",
    "\n",
    "# Función para agregar un tipo de documento como metadato.\n",
    "# Esto permite identificar más adelante de qué subcarpeta provino cada documento.\n",
    "def agregar_metadatos(doc, tipo_doc):\n",
    "    doc.metadata[\"doc_type\"] = tipo_doc\n",
    "    return doc\n",
    "\n",
    "text_loader_kwargs = {'encoding': 'utf-8'}\n",
    "\n",
    "# Lista donde se almacenarán todos los documentos cargados\n",
    "documents = []\n",
    "\n",
    "# Recorremos cada carpeta dentro de la base de conocimiento\n",
    "for folder in folders:\n",
    "    # El tipo de documento se extrae del nombre de la carpeta\n",
    "    tipo_doc = os.path.basename(folder)\n",
    "    \n",
    "    # Se crea un cargador para todos los archivos Markdown (*.md) dentro de la carpeta\n",
    "    loader = DirectoryLoader(\n",
    "        folder,\n",
    "        glob=\"**/*.md\",\n",
    "        loader_cls=TextLoader,\n",
    "        loader_kwargs=text_loader_kwargs\n",
    "    )\n",
    "    \n",
    "    # Se cargan los documentos desde esa carpeta\n",
    "    folder_docs = loader.load()\n",
    "    \n",
    "    # Se agregan los metadatos y se agregan a la lista principal\n",
    "    documents.extend([agregar_metadatos(doc, tipo_doc) for doc in folder_docs])\n",
    "\n",
    "# Se define cómo se dividirán los documentos en fragmentos (chunks)\n",
    "text_splitter = CharacterTextSplitter(chunk_size=1000, chunk_overlap=200)\n",
    "\n",
    "# Versión alternativa de splitter, mejora las separaciones porque para dividir intenta respetar las jerarquías (títulos, subtítulos, párrafos, oraciones...):\n",
    "# from langchain.text_splitter import RecursiveCharacterTextSplitter\n",
    "\n",
    "# text_splitter = RecursiveCharacterTextSplitter(\n",
    "#     chunk_size=1000,\n",
    "#     chunk_overlap=300,\n",
    "#     separators=[\"\\n# \", \"\\n## \"]\n",
    "# )\n",
    "\n",
    "chunks = text_splitter.split_documents(documents)\n",
    "\n",
    "# Imprime la cantidad total de fragmentos generados\n",
    "print(f\"Número total de fragmentos: {len(chunks)}\")\n",
    "\n",
    "# Imprime los tipos de documentos (carpetas origen) que se encontraron\n",
    "print(f\"Tipos de documento encontrados: {set(doc.metadata['doc_type'] for doc in documents)}\")\n"
   ]
  },
  {
   "cell_type": "markdown",
   "id": "77f7d2a6-ccfa-425b-a1c3-5e55b23bd013",
   "metadata": {},
   "source": [
    "## Armamos los embeddings"
   ]
  },
  {
   "cell_type": "code",
   "execution_count": 6,
   "id": "78998399-ac17-4e28-b15f-0b5f51e6ee23",
   "metadata": {},
   "outputs": [
    {
     "name": "stdout",
     "output_type": "stream",
     "text": [
      "Base de datos vectorial creada con 263 documentos\n"
     ]
    }
   ],
   "source": [
    "# Importa el modelo de embeddings de OpenAI (usa representaciones vectoriales del texto)\n",
    "embeddings = OpenAIEmbeddings()\n",
    "\n",
    "# Para usar embeddings gratuitos de HuggingFace (por ejemplo, el modelo \"all-MiniLM-L6-v2\"),\n",
    "# reemplazar la línea anterior con estas dos:\n",
    "#from langchain.embeddings import HuggingFaceEmbeddings\n",
    "#embeddings = HuggingFaceEmbeddings(model_name=\"sentence-transformers/all-MiniLM-L6-v2\")\n",
    "\n",
    "# Si ya existe una base de datos vectorial con ese nombre, se elimina.\n",
    "# Esto se hace para evitar conflictos o duplicados al rehacer el proceso desde cero.\n",
    "if os.path.exists(db_name):\n",
    "    Chroma(persist_directory=db_name, embedding_function=embeddings).delete_collection()\n",
    "\n",
    "# Crea una nueva base de datos vectorial (vectorstore) a partir de los documentos fragmentados.\n",
    "# Cada fragmento es convertido en un vector usando el modelo de embeddings.\n",
    "# La base de datos se guarda en el directorio especificado por 'db_name'.\n",
    "vectorstore = Chroma.from_documents(\n",
    "    documents=chunks,\n",
    "    embedding=embeddings,\n",
    "    persist_directory=db_name\n",
    ")\n",
    "\n",
    "# Imprime cuántos documentos (fragmentos de texto) fueron almacenados en la base de datos vectorial.\n",
    "print(f\"Base de datos vectorial creada con {vectorstore._collection.count()} documentos\")"
   ]
  },
  {
   "cell_type": "code",
   "execution_count": 7,
   "id": "ff2e7687-60d4-4920-a1d7-a34b9f70a250",
   "metadata": {},
   "outputs": [
    {
     "name": "stdout",
     "output_type": "stream",
     "text": [
      "Hay 263 vectores con 1,536 dimensiones en la base de datos vectorial\n"
     ]
    }
   ],
   "source": [
    "# Vamos a investigar los vectores almacenados\n",
    "\n",
    "# Se accede directamente a la colección subyacente del almacén vectorial\n",
    "collection = vectorstore._collection\n",
    "\n",
    "# Se obtiene la cantidad total de vectores almacenados\n",
    "count = collection.count()\n",
    "\n",
    "# Se extrae un vector de ejemplo (el primero) incluyendo sus embeddings (representación numérica)\n",
    "sample_embedding = collection.get(limit=1, include=[\"embeddings\"])[\"embeddings\"][0]\n",
    "\n",
    "# Se calcula cuántas dimensiones tiene ese vector\n",
    "dimensions = len(sample_embedding)\n",
    "\n",
    "# Se imprime cuántos vectores hay y cuántas dimensiones tiene cada uno\n",
    "print(f\"Hay {count:,} vectores con {dimensions:,} dimensiones en la base de datos vectorial\")\n"
   ]
  },
  {
   "cell_type": "markdown",
   "id": "63d48d0c",
   "metadata": {},
   "source": [
    "## Visualización"
   ]
  },
  {
   "cell_type": "code",
   "execution_count": 8,
   "id": "c3cd3f13",
   "metadata": {},
   "outputs": [],
   "source": [
    "# Obtener los vectores, textos y metadatos de la base\n",
    "result = collection.get(include=['embeddings', 'documents', 'metadatas'])\n",
    "vectors = np.array(result['embeddings'])\n",
    "documents = result['documents']\n",
    "metadatas = result['metadatas']\n",
    "\n",
    "# Extraer los tipos de documento desde los metadatos\n",
    "doc_types = [metadata['doc_type'] for metadata in metadatas]\n",
    "\n",
    "# Asignar un color por tipo de documento\n",
    "color_map = {\n",
    "    \"Candidatos\": \"blue\",\n",
    "    \"Código electoral\": \"green\",\n",
    "    \"Manual autoridades de mesa\": \"red\"\n",
    "}\n",
    "colors = [color_map.get(t, \"gray\") for t in doc_types]  # 'gray' por si aparece alguno no esperado\n"
   ]
  },
  {
   "cell_type": "code",
   "execution_count": 10,
   "id": "541f094f",
   "metadata": {},
   "outputs": [
    {
     "data": {
      "application/vnd.plotly.v1+json": {
       "config": {
        "plotlyServerURL": "https://plot.ly"
       },
       "data": [
        {
         "hoverinfo": "text",
         "marker": {
          "color": [
           "blue",
           "blue",
           "blue",
           "blue",
           "blue",
           "blue",
           "blue",
           "blue",
           "blue",
           "blue",
           "blue",
           "blue",
           "blue",
           "blue",
           "blue",
           "blue",
           "blue",
           "blue",
           "blue",
           "blue",
           "green",
           "green",
           "green",
           "green",
           "green",
           "green",
           "green",
           "green",
           "green",
           "green",
           "green",
           "green",
           "green",
           "green",
           "green",
           "green",
           "green",
           "green",
           "green",
           "green",
           "green",
           "green",
           "green",
           "green",
           "green",
           "green",
           "green",
           "green",
           "green",
           "green",
           "green",
           "green",
           "green",
           "green",
           "green",
           "green",
           "green",
           "green",
           "green",
           "green",
           "green",
           "green",
           "green",
           "green",
           "green",
           "green",
           "green",
           "green",
           "green",
           "green",
           "green",
           "green",
           "green",
           "green",
           "green",
           "green",
           "green",
           "green",
           "green",
           "green",
           "green",
           "green",
           "green",
           "green",
           "green",
           "green",
           "green",
           "green",
           "green",
           "green",
           "green",
           "green",
           "green",
           "green",
           "green",
           "green",
           "green",
           "green",
           "green",
           "green",
           "green",
           "green",
           "green",
           "green",
           "green",
           "green",
           "green",
           "green",
           "green",
           "green",
           "green",
           "green",
           "green",
           "green",
           "green",
           "green",
           "green",
           "green",
           "green",
           "green",
           "green",
           "green",
           "green",
           "green",
           "green",
           "green",
           "green",
           "green",
           "green",
           "green",
           "green",
           "green",
           "green",
           "green",
           "green",
           "green",
           "green",
           "green",
           "green",
           "green",
           "green",
           "green",
           "green",
           "green",
           "green",
           "green",
           "green",
           "green",
           "green",
           "green",
           "green",
           "green",
           "green",
           "green",
           "green",
           "green",
           "green",
           "green",
           "green",
           "green",
           "green",
           "green",
           "green",
           "green",
           "green",
           "green",
           "green",
           "green",
           "green",
           "green",
           "green",
           "green",
           "green",
           "green",
           "green",
           "green",
           "green",
           "green",
           "green",
           "green",
           "green",
           "green",
           "green",
           "green",
           "green",
           "green",
           "green",
           "green",
           "green",
           "green",
           "green",
           "green",
           "green",
           "green",
           "green",
           "green",
           "green",
           "green",
           "green",
           "green",
           "green",
           "green",
           "green",
           "green",
           "green",
           "green",
           "green",
           "green",
           "green",
           "green",
           "green",
           "green",
           "green",
           "green",
           "green",
           "green",
           "green",
           "green",
           "green",
           "green",
           "green",
           "green",
           "green",
           "green",
           "green",
           "green",
           "green",
           "green",
           "green",
           "green",
           "green",
           "green",
           "green",
           "green",
           "green",
           "green",
           "green",
           "green",
           "green",
           "green",
           "green",
           "green",
           "green",
           "green",
           "green",
           "green",
           "green",
           "green",
           "green",
           "green",
           "green",
           "green",
           "green",
           "green",
           "green",
           "green",
           "green",
           "red",
           "red",
           "red",
           "red",
           "red",
           "red"
          ],
          "opacity": 0.8,
          "size": 5
         },
         "mode": "markers",
         "text": [
          "Tipo: Candidatos<br>Texto: # Lista 1 – MOVIMIENTO DE INTEGRACIÓN Y DESARROLLO\n\n**Candidatos (lista completa)**\n\n1. Caruso Lomba...",
          "Tipo: Candidatos<br>Texto: # Lista 20 – UNIÓN DEL CENTRO DEMOCRÁTICO\n\n**Candidatos (lista completa)**\n\n1. Marra Ramiro Daniel  ...",
          "Tipo: Candidatos<br>Texto: # Lista 262 – EL MOVIMIENTO\n\n**Candidatos (lista completa)**\n\n1. Zurbriggen Schaller Mila  \n2. Arias...",
          "Tipo: Candidatos<br>Texto: # Lista 329 – SEAMOS LIBRES\n\n**Candidatos (lista completa)**\n\n1. Abal Medina Juan Manuel  \n2. Papale...",
          "Tipo: Candidatos<br>Texto: # Lista 350 – LA IZQUIERDA EN LA CIUDAD\n\n**Candidatos (lista completa)**\n\n1. Winokur Federico  \n2. A...",
          "Tipo: Candidatos<br>Texto: # Lista 352 – MOVIMIENTO PLURAL\n\n**Candidatos (lista completa)**\n\n1. Peretta Marcelo Daniel  \n2. Per...",
          "Tipo: Candidatos<br>Texto: # Lista 47 – COALICIÓN CÍVICA\n\n**Candidatos (lista completa)**\n\n1. Oliveto Lago Paula Mariana  \n2. S...",
          "Tipo: Candidatos<br>Texto: # Lista 701 – ES AHORA BUENOS AIRES\n\n**Candidatos (lista completa)**\n\n1. Santoro Leandro Jorge  \n2. ...",
          "Tipo: Candidatos<br>Texto: # Lista 702 – PRINCIPIOS Y VALORES\n\n**Candidatos (lista completa)**\n\n1. Kim Alejandro  \n2. Lirola Ny...",
          "Tipo: Candidatos<br>Texto: # Lista 703 – CONFLUENCIA POR LA SOBERANÍA\n\n**Candidatos (lista completa)**\n\n1. Koutsovitis María Ev...",
          "Tipo: Candidatos<br>Texto: # Lista 704 – VOLVAMOS BUENOS AIRES\n\n**Candidatos (lista completa)**\n\n1. Rodríguez Larreta Horacio A...",
          "Tipo: Candidatos<br>Texto: # Lista 705 – EVOLUCIÓN\n\n**Candidatos (lista completa)**\n\n1. Agnone Conte Daniel Alejandro  \n2. Alba...",
          "Tipo: Candidatos<br>Texto: # Lista 706 – BUENOS AIRES PRIMERO\n\n**Candidatos Titulares (lista completa)**\n\n1. Lospennato Silvia ...",
          "Tipo: Candidatos<br>Texto: # Lista 707 – UNIÓN PORTEÑA LIBERTARIA\n\n**Candidatos (lista completa)**\n\n1. Santoro Yamil Darío  \n2....",
          "Tipo: Candidatos<br>Texto: # Lista 708 – FRENTE DE IZQUIERDA Y TRABAJADORES – UNIDAD\n\n**Candidatos (lista completa)**\n\n1. Biasi...",
          "Tipo: Candidatos<br>Texto: # Lista 95 – FRENTE PATRIOTA FEDERAL\n\n**Candidatos (lista completa)**\n\n1. Biondini César  \n2. Cardoz...",
          "Tipo: Candidatos<br>Texto: # Lista 96 – LA LIBERTAD AVANZA\n\n**Candidatos (lista completa)**\n\n1. Adorni Manuel  \n2. Pelayo Solan...",
          "Tipo: Candidatos<br>Texto: ## Partidos y sus principales candidatos (Lista 2025 CABA)\n\n- **20 – UNIÓN DEL CENTRO DEMOCRÁTICO** ...",
          "Tipo: Candidatos<br>Texto: - **95 – FRENTE PATRIOTA FEDERAL**  \n  1. Biondini César  \n  2. Cardozo Analía Verónica  \n  3. Jaime...",
          "Tipo: Candidatos<br>Texto: - **705 – EVOLUCIÓN**  \n  1. Levy “Lula”  \n  2. Cedeira Facundo Gabriel  \n  3. Barreto Jessica Soled...",
          "Tipo: Código electoral<br>Texto: # TÍTULO PRIMERO\nÁMBITO DE APLICACIÓN, PRINCIPIOS Y DISPOSICIONES GENERALES\n\n## CAPÍTULO ÚNICO\n\n####...",
          "Tipo: Código electoral<br>Texto: #### Artículo 3: Principios Generales. Los procesos electorales deben ajustarse\na los siguientes pri...",
          "Tipo: Código electoral<br>Texto: #### Artículo 4: Publicidad de la Información en formatos digitales. Toda la información que de acue...",
          "Tipo: Código electoral<br>Texto: #### Artículo 5: Organismos Electorales. Son Organismos Electorales de la Ciudad Autónoma de Buenos\n...",
          "Tipo: Código electoral<br>Texto: #### Artículo 7: \"Elecciones primarias”, “elecciones generales” y “segunda vuelta\". La elección de J...",
          "Tipo: Código electoral<br>Texto: #### Artículo 8: Tecnologías. A los efectos del presente Código se entiende por “tecnologías” a las ...",
          "Tipo: Código electoral<br>Texto: # TÍTULO SEGUNDO\nCUERPO ELECTORAL\n\n## CAPÍTULO I\nDE LA CONDICIÓN DE ELECTOR/A, DERECHOS, DEBERES E I...",
          "Tipo: Código electoral<br>Texto: #### Artículo 10: Electores/as extranjeros/as. Los extranjeros y las extranjeras, desde los dieciséi...",
          "Tipo: Código electoral<br>Texto: #### Artículo 11: Difusión. El Poder Ejecutivo instrumentará, en coordinación con los Organismos Ele...",
          "Tipo: Código electoral<br>Texto: #### Artículo 12: Privados de la libertad. Los/as electores/as que se encuentren privados/as de la l...",
          "Tipo: Código electoral<br>Texto: #### Artículo 13: Prueba del carácter de elector/a. Deber de votar. La calidad de elector/a se prueb...",
          "Tipo: Código electoral<br>Texto: SECCIÓN II\nINHABILIDADES.\n\n#### Artículo 14: Inhabilitados/as. Se encuentran inhabilitados/as para e...",
          "Tipo: Código electoral<br>Texto: #### Artículo 15: Forma y plazo de las inhabilitaciones. El Tribunal Electoral entiende en la determ...",
          "Tipo: Código electoral<br>Texto: #### Artículo 16: Rehabilitación. El Tribunal Electoral decreta de oficio la rehabilitación de aquel...",
          "Tipo: Código electoral<br>Texto: #### Artículo 17: Exclusión de sanción por no emisión del voto. No se impondrá sanción por dejar de ...",
          "Tipo: Código electoral<br>Texto: #### Artículo 18: Licencia. Los/as electores/as que deban prestar tareas durante la jornada electora...",
          "Tipo: Código electoral<br>Texto: #### Artículo 19: Amparo del/la elector/a. El/la elector/a que se considere afectado/a en sus inmuni...",
          "Tipo: Código electoral<br>Texto: #### Artículo 20: Inmunidad del/la elector/a. Ninguna autoridad estará facultada para reducir a pris...",
          "Tipo: Código electoral<br>Texto: #### Artículo 21: Carga pública. Todas las funciones que este Código atribuye a los/as electores/as ...",
          "Tipo: Código electoral<br>Texto: #### Artículo 23: Registro de Electoras Extranjeras y Electores Extranjeros Residentes.\nCréase el Re...",
          "Tipo: Código electoral<br>Texto: #### Artículo 24: Información para confección y actualización del Registro de Electoras Extranjeras ...",
          "Tipo: Código electoral<br>Texto: #### Artículo 25: Exclusión del Registro. Serán excluidos/as del Registro de Electoras Extranjeras y...",
          "Tipo: Código electoral<br>Texto: #### Artículo 26: Registro de Infractores/as al deber de votar. Créase el Registro de Infractores/as...",
          "Tipo: Código electoral<br>Texto: CAPÍTULO III\nPADRONES PROVISORIOS Y DEFINITIVOS\n\n#### Artículo 27: Padrones Provisorios. Los padrone...",
          "Tipo: Código electoral<br>Texto: #### Artículo 28: Difusión de padrones provisorios. El Tribunal Electoral dispondrá la publicación d...",
          "Tipo: Código electoral<br>Texto: #### Artículo 29: Reclamo de los/as electores/as y enmiendas. Los/as electores/as que por cualquier ...",
          "Tipo: Código electoral<br>Texto: #### Artículo 30: Resolución. Previa verificación sumaria de los hechos que se invoquen se concederá...",
          "Tipo: Código electoral<br>Texto: #### Artículo 31: Padrón Definitivo. Los padrones provisorios depurados constituyen el padrón electo...",
          "Tipo: Código electoral<br>Texto: #### Artículo 32: Contenido del Padrón de Mesa Definitivo. Componen el padrón de mesa definitivo des...",
          "Tipo: Código electoral<br>Texto: #### Artículo 33: Publicación de los padrones definitivos. Errores u omisiones. Plazos para subsanar...",
          "Tipo: Código electoral<br>Texto: #### Artículo 34: Impresión de ejemplares. El Instituto de Gestión Electoral dispondrá la impresión ...",
          "Tipo: Código electoral<br>Texto: #### Artículo 35: Distribución de ejemplares. El Instituto de Gestión Electoral entrega el padrón de...",
          "Tipo: Código electoral<br>Texto: #### Artículo 37: Padrón complementario del personal de las fuerzas de seguridad. Treinta y cinco (3...",
          "Tipo: Código electoral<br>Texto: # TÍTULO TERCERO\nDIVISIONES TERRITORIALES Y AGRUPACIÓN DE ELECTORES/AS\n\n##CAPÍTULO ÚNICO\n\n#### Artíc...",
          "Tipo: Código electoral<br>Texto: #### Artículo 39: Propuesta de modificación de límites de los circuitos. Propuesta de modificación d...",
          "Tipo: Código electoral<br>Texto: #### Artículo 40: Mesas receptoras de votos. Cada circuito se dividirá en mesas receptoras de votos,...",
          "Tipo: Código electoral<br>Texto: #### Artículo 41: Mesas de electores/as extranjeros/as. El Instituto de Gestión Electoral propondrá ...",
          "Tipo: Código electoral<br>Texto: # TÍTULO CUARTO\nSISTEMA ELECTORAL DE LA CIUDAD AUTÓNOMA DE BUENOS AIRES\n\n##CAPÍTULO I\nELECCIÓN DEL J...",
          "Tipo: Código electoral<br>Texto: #### Artículo 43: Elección del/la Jefe/a y Vicejefe/a de Gobierno. Las candidaturas de Jefe/a de Gob...",
          "Tipo: Código electoral<br>Texto: #### Artículo 44: Ratificación. Dentro del quinto día de proclamadas las dos (2) fórmulas más votada...",
          "Tipo: Código electoral<br>Texto: #### Artículo 47: Elección de los/as Diputados/as. Los/as Diputados/as de la Ciudad Autónoma de Buen...",
          "Tipo: Código electoral<br>Texto: #### Artículo 48: Sistema D´ Hondt. Los cargos por cubrir se asignarán conforme al orden establecido...",
          "Tipo: Código electoral<br>Texto: #### Artículo 49: Diputados/as electos/as. Se proclamarán Diputados/as de la Ciudad Autónoma de Buen...",
          "Tipo: Código electoral<br>Texto: ##CAPÍTULO III\nELECCIÓN DEL GOBIERNO COMUNAL\n\n#### Artículo 51: Integración. El gobierno de las Comu...",
          "Tipo: Código electoral<br>Texto: #### Artículo 54: Miembros de Junta Comunal electos. Se proclamarán Miembros de Junta Comunal a quie...",
          "Tipo: Código electoral<br>Texto: # TÍTULO NOVENO\nVIOLACIONES A LA LEY ELECTORAL\n\n## CAPÍTULO I\nDISPOSICIONES GENERALES\n\n#### Artículo...",
          "Tipo: Código electoral<br>Texto: #### Artículo 255: Procedimiento.\nPara la a imposición de sanciones vinculadas a contravenciones ele...",
          "Tipo: Código electoral<br>Texto: #### Artículo 257: Comunicación de contravenciones o delitos.\nLas contravenciones y delitos electora...",
          "Tipo: Código electoral<br>Texto: #### Artículo 260: Desconocimiento de carga pública.\nQuien fuere designado/a como autoridad de mesa,...",
          "Tipo: Código electoral<br>Texto: #### Artículo 263: Portación de armas. Exhibición de banderas, divisas o distintivos partidarios.\nSe...",
          "Tipo: Código electoral<br>Texto: #### Artículo 265: Negar la licencia al/la elector/a.\nEl/La empleador/a que no concediere la licenci...",
          "Tipo: Código electoral<br>Texto: # TÍTULO QUINTO\nDE LOS ACTOS PREELECTORALES\n## CAPÍTULO I\nFECHA Y CONVOCATORIA DE ELECCIONES\n\n#### A...",
          "Tipo: Código electoral<br>Texto: #### Artículo 57: Convocatoria y celebración de las elecciones primarias. La convocatoria a eleccion...",
          "Tipo: Código electoral<br>Texto: #### Artículo 58: Convocatoria y celebración de elecciones generales y segunda vuelta. El/la Jefe/a ...",
          "Tipo: Código electoral<br>Texto: #### Artículo 59: Publicidad de la convocatoria. La convocatoria a elección de cargos debe ser publi...",
          "Tipo: Código electoral<br>Texto: #### Artículo 60: Adhesión a la Simultaneidad. Concurrencia de elecciones. El Poder Ejecutivo podrá,...",
          "Tipo: Código electoral<br>Texto: #### Artículo 61: Requisitos del acto de convocatoria. La convocatoria a elección de cargos debe ind...",
          "Tipo: Código electoral<br>Texto: CAPÍTULO II\nDEBATE PÚBLICO\n\n#### Artículo 62: Marco del debate. El debate público entre candidatos/a...",
          "Tipo: Código electoral<br>Texto: #### Artículo 63: Obligatoriedad del debate. Se establece la obligatoriedad de la realización y part...",
          "Tipo: Código electoral<br>Texto: #### Artículo 64: Debate entre candidatos/as a Jefe/a de Gobierno. El debate electoral entre candida...",
          "Tipo: Código electoral<br>Texto: #### Artículo 66: Determinación del lugar, las reglas y organización. El Instituto de Gestión Electo...",
          "Tipo: Código electoral<br>Texto: #### Artículo 67: Transmisión. El debate es producido y transmitido en directo por todos los medios\n...",
          "Tipo: Código electoral<br>Texto: # TÍTULO SEXTO\nPRIMARIAS ABIERTAS, SIMULTÁNEAS Y OBLIGATORIAS\n\n## CAPÍTULO ÚNICO\n\n#### Artículo 68: ...",
          "Tipo: Código electoral<br>Texto: #### Artículo 70: Alianzas electorales transitorias. Los partidos políticos del distrito con persone...",
          "Tipo: Código electoral<br>Texto: #### Artículo 71: Juntas Electorales de las agrupaciones políticas. Las Juntas Electorales de las ag...",
          "Tipo: Código electoral<br>Texto: #### Artículo 72: Apoderados/as. Las agrupaciones políticas deben designar un/a (1) apoderado/a titu...",
          "Tipo: Código electoral<br>Texto: #### Artículo 73: Paridad en la conformación de listas. Las listas de todas las agrupaciones polític...",
          "Tipo: Código electoral<br>Texto: #### Artículo 74: Adhesiones. Jefe/a de Gobierno y Diputados/as. Las precandidaturas a Jefe/a de Gob...",
          "Tipo: Código electoral<br>Texto: #### Artículo 75: Adhesiones. Miembros de las Juntas Comunales. Las listas de precandidatos/as a Mie...",
          "Tipo: Código electoral<br>Texto: #### Artículo 76: Certificación de adhesiones. En todos los casos las adhesiones deben presentarse\nc...",
          "Tipo: Código electoral<br>Texto: #### Artículo 77: Precandidaturas. La designación de los/as precandidatos/as es exclusiva de las agr...",
          "Tipo: Código electoral<br>Texto: #### Artículo 78: Diseño de herramientas para facilitar trámites. El Tribunal Electoral proveerá un ...",
          "Tipo: Código electoral<br>Texto: #### Artículo 80: Pedido de reconocimiento y oficialización de listas de precandidatos/as. Requisito...",
          "Tipo: Código electoral<br>Texto: #### Artículo 81: Nombre. Los/as precandidatos/as pueden figurar con el nombre con el cual son conoc...",
          "Tipo: Código electoral<br>Texto: #### Artículo 83: Impugnaciones. Cualquier ciudadano/a que revista la calidad de elector/a de la Ciu...",
          "Tipo: Código electoral<br>Texto: #### Artículo 84: Resolución de la Junta Electoral de la Agrupación Política. Revocatoria. Dentro de...",
          "Tipo: Código electoral<br>Texto: #### Artículo 85: Notificaciones de las Juntas Electorales de las Agrupaciones Políticas.\nTodas las ...",
          "Tipo: Código electoral<br>Texto: #### Artículo 86: Apelación. La resolución de admisión o rechazo dictada por la Junta Electoral de l...",
          "Tipo: Código electoral<br>Texto: #### Artículo 88: Comunicación y remisión de documentos para oficialización. Dentro de las veinticua...",
          "Tipo: Código electoral<br>Texto: #### Artículo 89: Resolución de oficialización y publicidad. El Tribunal Electoral verifica de ofici...",
          "Tipo: Código electoral<br>Texto: #### Artículo 91: Asignación de distintivos de las agrupaciones políticas. Hasta los cincuenta y cin...",
          "Tipo: Código electoral<br>Texto: #### Artículo 92: Sitio web de las agrupaciones políticas. Las agrupaciones políticas habilitarán un...",
          "Tipo: Código electoral<br>Texto: #### Artículo 93: Aplicación de normas para elección general. Las normas respecto al proceso elector...",
          "Tipo: Código electoral<br>Texto: #### Artículo 94: Actas de escrutinio y otra documentación. El Instituto de Gestión Electoral defini...",
          "Tipo: Código electoral<br>Texto: #### Artículo 96: Elección del candidato/a a Jefe/a de Gobierno. La elección del/la candidato/a a Je...",
          "Tipo: Código electoral<br>Texto: #### Artículo 97: Conformación final de la lista de candidatos/as a Diputados/as y Miembros de la Ju...",
          "Tipo: Código electoral<br>Texto: #### Artículo 98: Notificación. La Junta Electoral de cada agrupación política notifica las listas d...",
          "Tipo: Código electoral<br>Texto: #### Artículo 99: Selección del candidato/a a Vicejefe/a de Gobierno. Dentro de las cuarenta y ocho ...",
          "Tipo: Código electoral<br>Texto: # TÍTULO SÉPTIMO\nOFICIALIZACIÓN DE LISTAS DE CANDIDATOS/AS, INSTRUMENTO DE SUFRAGIO E INCORPORACIÓN ...",
          "Tipo: Código electoral<br>Texto: ##CAPÍTULO 1\nDE LA OFICIALIZACIÓN DE LISTAS DE CANDIDATOS/AS\n\n#### Artículo 100: Piso electoral. Sól...",
          "Tipo: Código electoral<br>Texto: #### Artículo 101: Paridad de género en la conformación de listas. Las listas de candidatos/as a Dip...",
          "Tipo: Código electoral<br>Texto: #### Artículo 102: Registro de los/as candidatos/as y requisitos para la oficialización de listas. L...",
          "Tipo: Código electoral<br>Texto: #### Artículo 103: Presentación del pedido de oficialización de listas. Junto con el pedido de ofici...",
          "Tipo: Código electoral<br>Texto: #### Artículo 104: Declaración jurada patrimonial. La Declaración Jurada Patrimonial a la que refier...",
          "Tipo: Código electoral<br>Texto: #### Artículo 105: Datos confidenciales. Estará exenta de publicidad y deberá permanecer en formular...",
          "Tipo: Código electoral<br>Texto: #### Artículo 106: Resolución. Dentro de las cuarenta y ocho (48) horas siguientes a su presentación...",
          "Tipo: Código electoral<br>Texto: #### Artículo 107: Vacancia de Candidatos/as y Precandidatos/as a Diputados/as, Miembros de la Junta...",
          "Tipo: Código electoral<br>Texto: #### Artículo 108: Vacancia de Candidato/a y Precandidato/a a Jefe/a de Gobierno. En caso de renunci...",
          "Tipo: Código electoral<br>Texto: #### Artículo 109: Vacancia de Candidato/a a Vicejefe/a de Gobierno. En caso de renuncia, fallecimie...",
          "Tipo: Código electoral<br>Texto: #### Artículo 110: Fallecimiento o renuncia. Segunda vuelta. En caso de renuncia, fallecimiento o in...",
          "Tipo: Código electoral<br>Texto: ## CAPÍTULO II\nINSTRUMENTO DE SUFRAGIO\n\n#### Artículo 111: Boleta Única. Se establece como instrumen...",
          "Tipo: Código electoral<br>Texto: #### Artículo 112: Características de la Boleta Única. La Boleta Única incluye todas las categorías ...",
          "Tipo: Código electoral<br>Texto: #### Artículo 113: Contenido y diseño de la Boleta Única. Requisitos. La Boleta Única es confecciona...",
          "Tipo: Código electoral<br>Texto: #### Artículo 114: Campañas de capacitación. Modalidad y accesibilidad. El Gobierno de la Ciudad Aut...",
          "Tipo: Código electoral<br>Texto: #### Artículo 115: Orden de la oferta electoral. Sorteo. El Instituto de Gestión Electoral determina...",
          "Tipo: Código electoral<br>Texto: #### Artículo 116: Audiencia de Observación. El Instituto de Gestión Electoral convoca a cada agrupa...",
          "Tipo: Código electoral<br>Texto: #### Artículo 117: Aprobación de diseño de la visualización de la oferta electoral. Oídos los/as apo...",
          "Tipo: Código electoral<br>Texto: #### Artículo 118: Confección de los afiches. El Instituto de Gestión Electoral diseña y aprueba el ...",
          "Tipo: Código electoral<br>Texto: #### Artículo 119: Publicación y difusión. El Instituto de Gestión Electoral publica en su sitio web...",
          "Tipo: Código electoral<br>Texto: #### Artículo 120: Plazo para la provisión de Boletas, afiches y/o dispositivos electrónicos. El Ins...",
          "Tipo: Código electoral<br>Texto: #### Artículo 121: Entrega de material electoral, equipos, documentos y útiles. El Instituto de Gest...",
          "Tipo: Código electoral<br>Texto: #### Artículo 122: Boletas suplementarias. El Instituto de Gestión Electoral asegura la provisión de...",
          "Tipo: Código electoral<br>Texto: ## CAPÍTULO III\nINCORPORACIÓN DE TECNOLOGÍAS AL PROCESO ELECTORAL\n\n### SECCIÓN I\nDISPOSICIONES GENER...",
          "Tipo: Código electoral<br>Texto: #### Artículo 125: Principios aplicables a la incorporación de Tecnologías Electrónicas. Toda altern...",
          "Tipo: Código electoral<br>Texto: #### Artículo 126: Implementación de tecnologías. El Instituto de Gestión Electoral tiene a su cargo...",
          "Tipo: Código electoral<br>Texto: #### Artículo 127: Desarrollo y obtención. Los dispositivos electrónicos y software que sean utiliza...",
          "Tipo: Código electoral<br>Texto: ### SECCIÓN II\nPROCESOS DE AUDITORÍA Y CERTIFICACIÓN DE TECNOLOGÍAS.\n\n#### Artículo 128: Pruebas, Au...",
          "Tipo: Código electoral<br>Texto: #### Artículo 129: Registro de Proveedores de Tecnologías. El Instituto de Gestión Electoral elabora...",
          "Tipo: Código electoral<br>Texto: #### Artículo 130: Pruebas, auditorías y controles. Plazos. Con anterioridad a la aprobación de una ...",
          "Tipo: Código electoral<br>Texto: #### Artículo 131: Informe General de Conclusiones. Finalizado el proceso de auditorías y adecuación...",
          "Tipo: Código electoral<br>Texto: #### Artículo 132: Preservación y custodia de muestra final. Una vez aprobado, un sistema electrónic...",
          "Tipo: Código electoral<br>Texto: #### Artículo 134: Plan de Contingencia. El Instituto de Gestión Electoral debe elaborar un plan de ...",
          "Tipo: Código electoral<br>Texto: #### Artículo 135: Auditorías y control posterior a los comicios. Vencido el plazo de cuarenta y och...",
          "Tipo: Código electoral<br>Texto: ### SECCIÓN II\nINCORPORACIÓN DE TECNOLOGÍAS EN EL PROCEDIMIENTO DE EMISIÓN DEL VOTO.\n\n#### Artículo ...",
          "Tipo: Código electoral<br>Texto: #### Artículo 138: Estándares mínimos. Toda alternativa o solución tecnológica a incorporar en el pr...",
          "Tipo: Código electoral<br>Texto: #### Artículo 139: Garantías. Cualquier incorporación de tecnología en el procedimiento de emisión d...",
          "Tipo: Código electoral<br>Texto: #### Artículo 141: Dispositivo electrónico del Sistema electrónico de emisión de Boleta. El disposit...",
          "Tipo: Código electoral<br>Texto: #### Artículo 142: Opciones de voto. El dispositivo electrónico del Sistema electrónico de emisión d...",
          "Tipo: Código electoral<br>Texto: #### Artículo 143: Diseño para personas ciegas. El dispositivo electrónico del Sistema electrónico d...",
          "Tipo: Código electoral<br>Texto: #### Artículo 144: Diseño de Boleta. El diseño de la boleta a utilizar en el Sistema Electrónico de ...",
          "Tipo: Código electoral<br>Texto: #### Artículo 145: Entrega de material electoral, equipos, documentos y útiles ante incorporación de...",
          "Tipo: Código electoral<br>Texto: ### SECCIÓN IV\nTECNOLOGÍAS EN LA ETAPA DE ESCRUTINIO Y TRANSMISIÓN DE RESULTADOS.\n\n#### Artículo 146...",
          "Tipo: Código electoral<br>Texto: #### Artículo 148: Obligatoriedad de incorporación de tecnologías. Seguridad en la transmisión. La t...",
          "Tipo: Código electoral<br>Texto: #### Artículo 149: Determinación del procedimiento. Protocolo de Acción. El Instituto de Gestión Ele...",
          "Tipo: Código electoral<br>Texto: #### Artículo 150: Dispositivo electrónico. Reparación y reemplazo. Ante la detección de inconvenien...",
          "Tipo: Código electoral<br>Texto: # TÍTULO OCTAVO\nDEL PROCESO ELECTORAL\n\n## CAPÍTULO I\nDE LOS FISCALES PARTIDARIOS...",
          "Tipo: Código electoral<br>Texto: #### Artículo 151: Fiscales Partidarios. Con el objeto de controlar la organización y el desarrollo ...",
          "Tipo: Código electoral<br>Texto: #### Artículo 152: Actuación simultánea. Salvo lo dispuesto respecto al Fiscal General y cuando hubi...",
          "Tipo: Código electoral<br>Texto: #### Artículo 154: Designación y acreditación de fiscales. Los poderes de los/as Fiscales partidario...",
          "Tipo: Código electoral<br>Texto: #### Artículo 155: Comunicación de designación. La designación de los Fiscales partidarios debe ser\n...",
          "Tipo: Código electoral<br>Texto: ## CAPÍTULO II\nOBSERVACIÓN ELECTORAL\n\n#### Artículo 157: Objeto y organización. La observación elect...",
          "Tipo: Código electoral<br>Texto: #### Artículo 158: Sujetos Observadores. La Defensoría del Pueblo de la Ciudad Autónoma de Buenos Ai...",
          "Tipo: Código electoral<br>Texto: #### Artículo 159: Acreditación y determinación de requisitos. El Instituto de Gestión Electoral oto...",
          "Tipo: Código electoral<br>Texto: #### Artículo 160: Plan previo de observación. Las Organizaciones Observadoras deben presentar ante ...",
          "Tipo: Código electoral<br>Texto: #### Artículo 161: Facultades. La acreditación a la que refiere el artículo 159 faculta a los/as Obs...",
          "Tipo: Código electoral<br>Texto: #### Artículo 162: Reglas de conducta. Los/as Observadores/as Electorales deberán ceñir su actuación...",
          "Tipo: Código electoral<br>Texto: #### Artículo 163: Informe de Observación. Cada organización acreditada debe presentar ante el Insti...",
          "Tipo: Código electoral<br>Texto: ## CAPÍTULO III\nACTO ELECTORAL\n\n### SECCIÓN I\nDE LAS FUERZAS DE SEGURIDAD.\n\n#### Artículo 165: Fuerz...",
          "Tipo: Código electoral<br>Texto: #### Artículo 166: Disposición de las Fuerzas de Seguridad. Las Fuerzas de Seguridad asignadas a la\n...",
          "Tipo: Código electoral<br>Texto: ### SECCIÓN II\nDEL/LA DELEGADO/A JUDICIAL Y COORDINADOR/A TÉCNICO/A\n\n#### Artículo 168: Registro de ...",
          "Tipo: Código electoral<br>Texto: #### Artículo 169: Requisitos. El/La Delegado/a Judicial debe reunir las siguientes cualidades:\n1) S...",
          "Tipo: Código electoral<br>Texto: #### Artículo 170: Designación. A criterio del Tribunal Electoral se designarán para actuar en los\ne...",
          "Tipo: Código electoral<br>Texto: #### Artículo 171: Comunicación. El Tribunal Electoral pondrá a disposición de las agrupaciones polí...",
          "Tipo: Código electoral<br>Texto: #### Artículo 172: Funciones. El/La Delegado/a Judicial tiene a su cargo, las siguientes funciones y...",
          "Tipo: Código electoral<br>Texto: #### Artículo 173: Transmisión. En el caso de incorporar tecnologías electrónicas al procedimiento d...",
          "Tipo: Código electoral<br>Texto: #### Artículo 174: Inasistencia. Reemplazo. Si por cualquier causa el/la Delegado/a Judicial designa...",
          "Tipo: Código electoral<br>Texto: #### Artículo 176: Funciones de los/as Coordinadores/as Técnicos/as. Los/as Coordinadores/as Técnico...",
          "Tipo: Código electoral<br>Texto: #### Artículo 177: Viáticos. Los/as Delegados/as Judiciales y los/as Coordinadores/as Técnicos/as ti...",
          "Tipo: Código electoral<br>Texto: #### Artículo 178: Establecimientos de votación. El Instituto de Gestión Electoral determina los est...",
          "Tipo: Código electoral<br>Texto: #### Artículo 179: Obligación de los/as encargados/as y/o autoridades. Los/as encargados/as y/o auto...",
          "Tipo: Código electoral<br>Texto: #### Artículo 180: Cantidad de Mesas receptoras de votos por establecimiento de votación.\nCada estab...",
          "Tipo: Código electoral<br>Texto: #### Artículo 181: Autoridades de Mesa. El Tribunal Electoral designa para cada mesa receptora de vo...",
          "Tipo: Código electoral<br>Texto: #### Artículo 182: Requisitos. Las autoridades de las mesas receptoras de votos deben reunir los sig...",
          "Tipo: Código electoral<br>Texto: #### Artículo 184: Selección aleatoria y designación. La designación de los/as electores/as que actu...",
          "Tipo: Código electoral<br>Texto: #### Artículo 185: Registro de Postulantes a Autoridades de Mesa. El Tribunal Electoral creará un Re...",
          "Tipo: Código electoral<br>Texto: #### Artículo 186: Requisitos de Inscripción. Pueden inscribirse en el Registro de Postulantes a Aut...",
          "Tipo: Código electoral<br>Texto: #### Artículo 188: Selección de Autoridades de mesa. El Instituto de Gestión Electoral realizará la ...",
          "Tipo: Código electoral<br>Texto: #### Artículo 189: Notificación de las designaciones. El Tribunal Electoral notificará fehacientemen...",
          "Tipo: Código electoral<br>Texto: #### Artículo 190: Excusación por inhabilidad. Aquel/la ciudadano/a que sea notificado/a de su desig...",
          "Tipo: Código electoral<br>Texto: #### Artículo 191: Excepciones. La función de autoridad de mesa es una carga pública inexcusable, de...",
          "Tipo: Código electoral<br>Texto: #### Artículo 193: Capacitación Electoral. La capacitación integral de todos/as los/as ciudadanos/as...",
          "Tipo: Código electoral<br>Texto: #### Artículo 194: Actuación del Presidente de Mesa y Auxiliar. Tanto el/la Presidente de Mesa como ...",
          "Tipo: Código electoral<br>Texto: #### Artículo 195: Obligaciones de las Autoridades de Mesa. Aquellos/as ciudadanos/as que cumplan ta...",
          "Tipo: Código electoral<br>Texto: #### Artículo 196: Viáticos. Aquellos/as ciudadanos/as que cumplan funciones como autoridades de mes...",
          "Tipo: Código electoral<br>Texto: #### Artículo 197: Inasistencia. Reemplazo. Si por cualquier causa el/la Presidente de Mesa designad...",
          "Tipo: Código electoral<br>Texto: #### Artículo 198: Presencia de una sola autoridad. Implementados los mecanismos de reemplazo de\naut...",
          "Tipo: Código electoral<br>Texto: #### Artículo 200: Prohibiciones durante el día del comicio. Queda expresamente prohibido:\n1) A toda...",
          "Tipo: Código electoral<br>Texto: #### Artículo 201: Miembros de las Fuerzas Armadas y de Seguridad. Limitaciones. Los/as jefes/as u o...",
          "Tipo: Código electoral<br>Texto: ### SECCIÓN V\nAPERTURA, DESARROLLO Y CLAUSURA DEL ACTO ELECTORAL\n\n#### Artículo 202: Apertura del ac...",
          "Tipo: Código electoral<br>Texto: #### Artículo 203: Derecho a votar. Toda persona que figure en el padrón y acredite su identidad med...",
          "Tipo: Código electoral<br>Texto: #### Artículo 204: Acreditación de la identidad. Los/as electores/as acreditan su identidad mediante...",
          "Tipo: Código electoral<br>Texto: #### Artículo 205: Verificación de la identidad. El/La Presidente de Mesa es quien verifica que el/l...",
          "Tipo: Código electoral<br>Texto: #### Artículo 206: Inadmisibilidad del voto. El/La Presidente de Mesa no admitirá que el/la elector/...",
          "Tipo: Código electoral<br>Texto: #### Artículo 208: Voto de identidad impugnada. El voto de identidad impugnada es aquél en el que un...",
          "Tipo: Código electoral<br>Texto: #### Artículo 209: Procedimiento de entrega de la boleta. El día del comicio, si la identidad del/la...",
          "Tipo: Código electoral<br>Texto: #### Artículo 210: Emisión del voto. La emisión del sufragio se lleva a cabo mediante el siguiente p...",
          "Tipo: Código electoral<br>Texto: #### Artículo 211: Obligatoriedad del secreto del voto. El secreto del voto es obligatorio. Ningún/a...",
          "Tipo: Código electoral<br>Texto: #### Artículo 213: Electores/as ciegos/as. En el caso que se presenten a votar electores/as ciegos/a...",
          "Tipo: Código electoral<br>Texto: #### Artículo 214: Voto Asistido. Los/as electores/as ciegos o con una discapacidad o condición físi...",
          "Tipo: Código electoral<br>Texto: #### Artículo 215: Interrupción de las elecciones. El acto electoral no puede ser interrumpido. Sin ...",
          "Tipo: Código electoral<br>Texto: #### Artículo 216: Clausura del acto electoral. A las dieciocho horas (18 hs.) se clausurará el acto...",
          "Tipo: Código electoral<br>Texto: ESCRUTINIO\n#### Artículo 217: Escrutinio de mesa. El/La Presidente de Mesa, con asistencia del/la Au...",
          "Tipo: Código electoral<br>Texto: #### Artículo 218: Acta de Escrutinio. El/La Presidente de Mesa generará el Acta de escrutinio donde...",
          "Tipo: Código electoral<br>Texto: #### Artículo 219: Certificado de trasmisión. Finalizado el escrutinio de la mesa, el/la Presidente ...",
          "Tipo: Código electoral<br>Texto: #### Artículo 220: Certificados de escrutinio. El/La Presidente de Mesa extenderá y entregará a cada...",
          "Tipo: Código electoral<br>Texto: #### Artículo 221: Acta de cierre del comicio. Concluida la tarea del escrutinio, y emitidos los cer...",
          "Tipo: Código electoral<br>Texto: #### Artículo 222: Diseño de actas. El Instituto de Gestión Electoral definirá los modelos uniformes...",
          "Tipo: Código electoral<br>Texto: #### Artículo 223: Guarda de documentos. Una vez suscripta el Acta de Escrutinio, el Certificado de ...",
          "Tipo: Código electoral<br>Texto: #### Artículo 224: Cierre de la urna y entrega de material al/la Delegado/a Judicial. Una vez efectu...",
          "Tipo: Código electoral<br>Texto: #### Artículo 225: Instructivos. Las autoridades de mesa deberán contar con instructivos emitidos po...",
          "Tipo: Código electoral<br>Texto: #### Artículo 227: Votos nulos. Son considerados votos nulos:\n1) Los emitidos mediante boleta de suf...",
          "Tipo: Código electoral<br>Texto: #### Artículo 228: Votos recurridos. Son votos recurridos aquellos cuya validez o nulidad es cuestio...",
          "Tipo: Código electoral<br>Texto: #### Artículo 229: Centro de Recepción, Totalización y Difusión de Resultados Provisorios.\nEl Instit...",
          "Tipo: Código electoral<br>Texto: #### Artículo 230: Transmisión de resultados de la mesa. El/La Delegado/a Judicial realiza la comuni...",
          "Tipo: Código electoral<br>Texto: #### Artículo 231: Entrega y Custodia de la urna. El transporte y entrega al Tribunal Electoral de l...",
          "Tipo: Código electoral<br>Texto: ### SECCIÓN III\nESCRUTINIO PROVISORIO Y DEFINITIVO\n\n#### Artículo 232: Escrutinio provisorio. El Ins...",
          "Tipo: Código electoral<br>Texto: #### Artículo 233: Difusión del escrutinio provisorio. Los resultados parciales del escrutinio provi...",
          "Tipo: Código electoral<br>Texto: #### Artículo 234: Recepción de la documentación. El Tribunal Electoral recibirá todos los documento...",
          "Tipo: Código electoral<br>Texto: #### Artículo 236: Reclamos de las agrupaciones políticas. Durante las cuarenta y ocho (48) horas si...",
          "Tipo: Código electoral<br>Texto: #### Artículo 237: Plazo para el Escrutinio Definitivo. Vencido el plazo previsto para efectuar recl...",
          "Tipo: Código electoral<br>Texto: #### Artículo 238: Procedimiento. El escrutinio definitivo se ajustará a la verificación que realice...",
          "Tipo: Código electoral<br>Texto: #### Artículo 239: Validez de mesa receptora de votos. Efectuada la verificación de las actas de esc...",
          "Tipo: Código electoral<br>Texto: #### Artículo 240: Votos impugnados. Procedimiento. En el examen de los votos de identidad impugnada...",
          "Tipo: Código electoral<br>Texto: #### Artículo 241: Nulidad de la mesa receptora de votos. El Tribunal Electoral declarará nula, a pe...",
          "Tipo: Código electoral<br>Texto: #### Artículo 242: Recuento de sufragios por errores u omisiones en la documentación. En caso de evi...",
          "Tipo: Código electoral<br>Texto: #### Artículo 244: Nulidad de la elección. El Tribunal Electoral declara nula la elección en caso de...",
          "Tipo: Código electoral<br>Texto: #### Artículo 246: Cómputo final. El Tribunal Electoral sumará los resultados obtenidos en cada una ...",
          "Tipo: Código electoral<br>Texto: #### Artículo 247: Protestas contra el escrutinio y dictamen. Finalizadas estas operaciones, el/la P...",
          "Tipo: Código electoral<br>Texto: #### Artículo 249: Resultados definitivos. El Tribunal Electoral comunicará los resultados definitiv...",
          "Tipo: Código electoral<br>Texto: #### Artículo 252: Acta del escrutinio definitivo. Testimonios. Todos estos procedimientos constarán...",
          "Tipo: Código electoral<br>Texto: # TÍTULO DÉCIMO\nRÉGIMEN PROCESAL ELECTORAL\n\n## CAPÍTULO ÚNICO\n\n#### Artículo 267: Legitimación.\nEstá...",
          "Tipo: Código electoral<br>Texto: #### Artículo 268: Patrocinio.\nAnte el Tribunal Electoral se podrá actuar con patrocinio letrado. El...",
          "Tipo: Código electoral<br>Texto: #### Artículo 272: Ofrecimiento de Prueba.\nLa prueba se ofrece en la primera presentación y se produ...",
          "Tipo: Código electoral<br>Texto: #### Artículo 274: Prueba de testigos.\nEn la prueba testimonial no pueden ofrecerse más de tres (3) ...",
          "Tipo: Código electoral<br>Texto: #### Artículo 276: Excepciones.\nConjuntamente con la contestación de la demanda o reconvención el/la...",
          "Tipo: Código electoral<br>Texto: #### Artículo 277: Excepciones. Traslado.\nDel escrito en el que se interponen excepciones, se corre ...",
          "Tipo: Código electoral<br>Texto: #### Artículo 278: Procedencia de Excepciones.\nUna vez firme la resolución que declara procedentes l...",
          "Tipo: Código electoral<br>Texto: #### Artículo 280: Sentencia.\nContestada la demanda o vencido el plazo para hacerlo, si ninguna de l...",
          "Tipo: Código electoral<br>Texto: #### Artículo 283: Traslado.\nEl traslado se efectúa por cédula o en forma personal, con carácter urg...",
          "Tipo: Código electoral<br>Texto: #### Artículo 285: Interposición de la Queja.\nInterpuesta la queja, la parte quejosa debe acompañar ...",
          "Tipo: Código electoral<br>Texto: #### Artículo 286: Recusación y Excusación. Recusación sin causa.\nSe prohíbe la recusación sin expre...",
          "Tipo: Código electoral<br>Texto: #### Artículo 288: Notificaciones.\nSalvo los casos previstos expresamente, todas las resoluciones se...",
          "Tipo: Código electoral<br>Texto: # TÍTULO DECIMOPRIMERO\nDE LOS CONSEJOS CONSULTIVOS\n\n#### Artículo 290: Consejo consultivo de Partido...",
          "Tipo: Código electoral<br>Texto: #### Artículo 291: Participación del Consejo Consultivo de Partidos Políticos.\nEl Consejo Consultivo...",
          "Tipo: Código electoral<br>Texto: #### Artículo 293: Consejo Consultivo de Participación Cívico-Electoral.\nEl Instituto de Gestión Ele...",
          "Tipo: Código electoral<br>Texto: #### Artículo 294: Participación del Consejo Consultivo de Participación Cívico- Electoral.\nEl Conse...",
          "Tipo: Código electoral<br>Texto: # TÍTULO DECIMOSEGUNDO\nNORMAS FINALES Y COMPLEMENTARIAS\n\n## CAPÍTULO ÚNICO\n\n#### Artículo 296: Suple...",
          "Tipo: Manual autoridades de mesa<br>Texto: ---\ntitle: \"Manual de Capacitación para Autoridades de Mesa\"\nsubtitle: \"Elecciones 2025 - Ciudad Aut...",
          "Tipo: Manual autoridades de mesa<br>Texto: # Qué votamos\n\nSe elegirá una lista de candidatos/as a Diputados/as para la Legislatura de la CABA m...",
          "Tipo: Manual autoridades de mesa<br>Texto: El incumplimiento sin justificación será sancionado conforme al Código Electoral de la Ciudad.\n\n# Pe...",
          "Tipo: Manual autoridades de mesa<br>Texto: # Preparación del espacio\n\n- Ubicar la mesa y urna en zona accesible.\n- Posicionar el dispositivo ev...",
          "Tipo: Manual autoridades de mesa<br>Texto: **Documentos válidos:**\n\n- Libreta Cívica\n- Libreta de Enrolamiento\n- DNI libreta verde o celeste\n- ...",
          "Tipo: Manual autoridades de mesa<br>Texto: # Cierre del Acto Electoral (18:00 h)\n\n- Cierre de puertas y recepción de votos pendientes.\n- Inicio..."
         ],
         "type": "scatter",
         "x": {
          "bdata": "tyw1QSPjKkExVD5BbvAiQTgNDkG1cztB1WwSQYqU/UCnegtBtg0NQZEM8UC4/+dA4ZHfQO5mIEE9IRFB4WPzQBIqI0GLfCRB7wjbQEqzvUADvhNARytcQKHeGUF87yNAui0+QL7la0HGYQfBtfsPwcPF3UAtYiXBzYb2wE1HPsG19UbBq8lDwTFBOsEusVjBiFMywcugRMHu4+TAaNYEwXVdBMF1dw/BuK4pwXlKSMFcRUTBduUzwUBVYcFn0lfB7gxLwQ6SOMHY1DPBcYAywWdSH8FgFZBAG4epQEsMhT+fclE/un0iQF26RkDr+b4/0iWkP5BEREHbBSw/gHGHv4GOx76e+GvBglJ4wTA4b8E123/BjQ6EwUsJa8GVGZ3AQMToQFgd8EAyl2bAVhx0wK7zgcD2fxdBb6oOQTuXBkEKyBxBuuUKQUtJDj/qyBXAORwTwDz8O8C/3oK//4xewCWuYMCHl5PAmWCFvy1qBUG7gmPAuRiuvyOdC8HjvtLArMqsvno26cBnZpvA9OOnwOc3g8A72s9AKpx6v9Iyq0D/j35A/kSAv3GtE77TTIJAZZvUwGYar7/lOH6/49n3v6koTcDuR5TBlw2UwbUWwsDC7fo/8DI2QEdwgEDfamhAvEJUQVC+SEESo0RBRUbeQPbLuz0CzFw/7na1wIEq/UBR4gBBFw8MQSIUuEDSROVAVaVfQVQhUkGIYyFBWiRSQVN1TkHJSmpB/u1LQWz/W0GKljdB4M0LQYZ+NkEpTktBYxM/QXXZNEEGbiZBPcwgQaTJFcHgDz5BOsIrQb3yN0Go8DxBksMYQRv2EUFPMPLAi7I6PzsPHL+2oH4/LjNvv1UzikAE3V9A6WpNQKb9kECSdSFAxwTsP2CtgECBuenAJs/qwNVmEsGjYRrB8bwHwY4sfcDKvQDBybirQPWvtMC3zevAvydUwQakvr4BIMe/xTfLvQoHeMApEVLAYlhlwHeGpsBUdaXAaelawL5SicBz+MPAxCvXwMIM10DaD2PAGysfwO54VcF8tprA398TwLc4TMGwqEjBRxmyv5LtxEAfjPNAPGKxQM21p0ADrW5Avx9oQOZDAkHwS6hA/xEIwTUe/MAG/zzAe86Bv9q8jD+qaBM/eI5lQDGFH0DSXIM/sb6wQOsbEEBdbNs/3OejviiRJ7+7/nQ/yLfEQL4okEC4lkZAjcydQOUDo0DUcQDBidb+wHL1V8CjEQ4+WhOvPvjcWECjTHG/LZIyvyK++b9XJkG/hogQwB8MecBYrR/A2X+WP8+iiMFoH5zBBzSbwSxfmsG7bX/BjTWQwd08fMHGbHvBKUmPwSHUhsHoJV3BXQFIQf3yRkFX/ixBLJ5BQbmIkMEKn4NAwfRpQIT33sAM4dXAZgjTwMsEr8A=",
          "dtype": "f4"
         },
         "y": {
          "bdata": "lY3+wWZd9MGwuwLCSqsEwvVt+cFJAQbCqKMBwkUAAMJ+4AnC09oFwtX4AsJthwjCAVkAwmRj/cF+a/PBkFzvwSfWCMJXJu3BjhDywU0kBcI/ZxPBCafvwMB5kb+thALBQJRCwYix+UCX/ynBmsshwcVducCQRSTBho03wUYbqsBVvpDAbvNuwGJTCsETgBbBazHCv2gQKcHG8hbBKdj8wHnv68D5dwjBRhLvwNXpk0BClHZAi6sLQEdxDcARy5pA6JrMQLVVPUDjTsdAUAi9QK8mhUA8XhvBZSUXwQCc5EBLsbVAG0UwwcobTcHhEl7BbBFGwd8hkkE6XFjBFkJlwW5+asGuAbTAqnLFwP3V2cCRwwnBqQYQwfW5CsFNYlTBqNJbwW8kWcEFsD7BVyhjwYeSVcFG7iTBpSA2wVcOSMFhu+vAxccFwS3SJcEFCDXAdRv/v1qFo77bJJnBIJP4wLUM+sC+1uLAM98SwYVBtUAAtpTAZZQRwTKEg8CGVBnAQJsfwPWkGcCuw1zAME8+wBncwb8FUpm/OBWZQGDH0UCKU17BEAw3wUUrPsCIBHTB/RWIwX7M18CGX5nBaLDDwPDeosDcQxNBXn4TQW918r/vsonB/m+JwRTch8HWiIzByvmNQIbKlD8XoN0/gduVwIaJSD6x/y++iWkwv897kD6aPL+9bIsGQSSFEEG6vwdBVWPPQCIU/ED/uhZBfRwZQQ8BNEFUIClBZa5BQQxzVEGrhjtBH8slQXNST0Eem79AWXPoQKVG2EAKx11AXFZhQNKThEHANCBAxB8HQbjtH0GybxFBPKI3QdzXRUFCgorB2DsgQczkJ0F9hRtBs7QeQFbtoD/D30c+Cpq2P6wiAUCfawFAmndIQJNgLkBoaQJB+jcPQdLQH0FFozBBz6onQa5Lqz9WqTZBSuVrQQVoKEEZp0dBjfRVQe5xzED6e+ZALP/WQCTUCEGLpNRATiCbQP+ayUBMscBA+zN7QM+HCUCt+kNA+vtSQFu1d8Czvx9BEyQQQUK7VkExcylBiD8lQUsoPMEh6U3BP/dbQQYpoEGQWKVBXfOnQQl7oEFnjLFBdKyfQUCyhUGta5JBAg6AQcJsekFwbkBBSYZjQWJMiUG7vX5BLLJ1QdhLf0H+Q3dBxzLIQEB2YkG0MF1BO2GyQYjrtUHaz7RBHHQ/QUqbb0GIETxBu1U6QbCwPkFoFM0+6Sy/vnVAg0GgK5RBo+udQZjtskF/2qBB6TCYQalyo0FfHIpBk6ORQUkPcUGImX5BGBMBwXb4C8C4F/U/uSj8P1LtsL+xPXc/lZsPwAi+yL8Y6jA/Vv8TvyiWXcAFJRm+YbTswGSBzMD7NNbAo2TAwPcztsBswY/AUZCBwG1jnUG9pqNBjZ+uQahSmkE=",
          "dtype": "f4"
         }
        }
       ],
       "layout": {
        "height": 600,
        "margin": {
         "b": 10,
         "l": 10,
         "r": 20,
         "t": 40
        },
        "template": {
         "data": {
          "bar": [
           {
            "error_x": {
             "color": "#2a3f5f"
            },
            "error_y": {
             "color": "#2a3f5f"
            },
            "marker": {
             "line": {
              "color": "#E5ECF6",
              "width": 0.5
             },
             "pattern": {
              "fillmode": "overlay",
              "size": 10,
              "solidity": 0.2
             }
            },
            "type": "bar"
           }
          ],
          "barpolar": [
           {
            "marker": {
             "line": {
              "color": "#E5ECF6",
              "width": 0.5
             },
             "pattern": {
              "fillmode": "overlay",
              "size": 10,
              "solidity": 0.2
             }
            },
            "type": "barpolar"
           }
          ],
          "carpet": [
           {
            "aaxis": {
             "endlinecolor": "#2a3f5f",
             "gridcolor": "white",
             "linecolor": "white",
             "minorgridcolor": "white",
             "startlinecolor": "#2a3f5f"
            },
            "baxis": {
             "endlinecolor": "#2a3f5f",
             "gridcolor": "white",
             "linecolor": "white",
             "minorgridcolor": "white",
             "startlinecolor": "#2a3f5f"
            },
            "type": "carpet"
           }
          ],
          "choropleth": [
           {
            "colorbar": {
             "outlinewidth": 0,
             "ticks": ""
            },
            "type": "choropleth"
           }
          ],
          "contour": [
           {
            "colorbar": {
             "outlinewidth": 0,
             "ticks": ""
            },
            "colorscale": [
             [
              0,
              "#0d0887"
             ],
             [
              0.1111111111111111,
              "#46039f"
             ],
             [
              0.2222222222222222,
              "#7201a8"
             ],
             [
              0.3333333333333333,
              "#9c179e"
             ],
             [
              0.4444444444444444,
              "#bd3786"
             ],
             [
              0.5555555555555556,
              "#d8576b"
             ],
             [
              0.6666666666666666,
              "#ed7953"
             ],
             [
              0.7777777777777778,
              "#fb9f3a"
             ],
             [
              0.8888888888888888,
              "#fdca26"
             ],
             [
              1,
              "#f0f921"
             ]
            ],
            "type": "contour"
           }
          ],
          "contourcarpet": [
           {
            "colorbar": {
             "outlinewidth": 0,
             "ticks": ""
            },
            "type": "contourcarpet"
           }
          ],
          "heatmap": [
           {
            "colorbar": {
             "outlinewidth": 0,
             "ticks": ""
            },
            "colorscale": [
             [
              0,
              "#0d0887"
             ],
             [
              0.1111111111111111,
              "#46039f"
             ],
             [
              0.2222222222222222,
              "#7201a8"
             ],
             [
              0.3333333333333333,
              "#9c179e"
             ],
             [
              0.4444444444444444,
              "#bd3786"
             ],
             [
              0.5555555555555556,
              "#d8576b"
             ],
             [
              0.6666666666666666,
              "#ed7953"
             ],
             [
              0.7777777777777778,
              "#fb9f3a"
             ],
             [
              0.8888888888888888,
              "#fdca26"
             ],
             [
              1,
              "#f0f921"
             ]
            ],
            "type": "heatmap"
           }
          ],
          "histogram": [
           {
            "marker": {
             "pattern": {
              "fillmode": "overlay",
              "size": 10,
              "solidity": 0.2
             }
            },
            "type": "histogram"
           }
          ],
          "histogram2d": [
           {
            "colorbar": {
             "outlinewidth": 0,
             "ticks": ""
            },
            "colorscale": [
             [
              0,
              "#0d0887"
             ],
             [
              0.1111111111111111,
              "#46039f"
             ],
             [
              0.2222222222222222,
              "#7201a8"
             ],
             [
              0.3333333333333333,
              "#9c179e"
             ],
             [
              0.4444444444444444,
              "#bd3786"
             ],
             [
              0.5555555555555556,
              "#d8576b"
             ],
             [
              0.6666666666666666,
              "#ed7953"
             ],
             [
              0.7777777777777778,
              "#fb9f3a"
             ],
             [
              0.8888888888888888,
              "#fdca26"
             ],
             [
              1,
              "#f0f921"
             ]
            ],
            "type": "histogram2d"
           }
          ],
          "histogram2dcontour": [
           {
            "colorbar": {
             "outlinewidth": 0,
             "ticks": ""
            },
            "colorscale": [
             [
              0,
              "#0d0887"
             ],
             [
              0.1111111111111111,
              "#46039f"
             ],
             [
              0.2222222222222222,
              "#7201a8"
             ],
             [
              0.3333333333333333,
              "#9c179e"
             ],
             [
              0.4444444444444444,
              "#bd3786"
             ],
             [
              0.5555555555555556,
              "#d8576b"
             ],
             [
              0.6666666666666666,
              "#ed7953"
             ],
             [
              0.7777777777777778,
              "#fb9f3a"
             ],
             [
              0.8888888888888888,
              "#fdca26"
             ],
             [
              1,
              "#f0f921"
             ]
            ],
            "type": "histogram2dcontour"
           }
          ],
          "mesh3d": [
           {
            "colorbar": {
             "outlinewidth": 0,
             "ticks": ""
            },
            "type": "mesh3d"
           }
          ],
          "parcoords": [
           {
            "line": {
             "colorbar": {
              "outlinewidth": 0,
              "ticks": ""
             }
            },
            "type": "parcoords"
           }
          ],
          "pie": [
           {
            "automargin": true,
            "type": "pie"
           }
          ],
          "scatter": [
           {
            "fillpattern": {
             "fillmode": "overlay",
             "size": 10,
             "solidity": 0.2
            },
            "type": "scatter"
           }
          ],
          "scatter3d": [
           {
            "line": {
             "colorbar": {
              "outlinewidth": 0,
              "ticks": ""
             }
            },
            "marker": {
             "colorbar": {
              "outlinewidth": 0,
              "ticks": ""
             }
            },
            "type": "scatter3d"
           }
          ],
          "scattercarpet": [
           {
            "marker": {
             "colorbar": {
              "outlinewidth": 0,
              "ticks": ""
             }
            },
            "type": "scattercarpet"
           }
          ],
          "scattergeo": [
           {
            "marker": {
             "colorbar": {
              "outlinewidth": 0,
              "ticks": ""
             }
            },
            "type": "scattergeo"
           }
          ],
          "scattergl": [
           {
            "marker": {
             "colorbar": {
              "outlinewidth": 0,
              "ticks": ""
             }
            },
            "type": "scattergl"
           }
          ],
          "scattermap": [
           {
            "marker": {
             "colorbar": {
              "outlinewidth": 0,
              "ticks": ""
             }
            },
            "type": "scattermap"
           }
          ],
          "scattermapbox": [
           {
            "marker": {
             "colorbar": {
              "outlinewidth": 0,
              "ticks": ""
             }
            },
            "type": "scattermapbox"
           }
          ],
          "scatterpolar": [
           {
            "marker": {
             "colorbar": {
              "outlinewidth": 0,
              "ticks": ""
             }
            },
            "type": "scatterpolar"
           }
          ],
          "scatterpolargl": [
           {
            "marker": {
             "colorbar": {
              "outlinewidth": 0,
              "ticks": ""
             }
            },
            "type": "scatterpolargl"
           }
          ],
          "scatterternary": [
           {
            "marker": {
             "colorbar": {
              "outlinewidth": 0,
              "ticks": ""
             }
            },
            "type": "scatterternary"
           }
          ],
          "surface": [
           {
            "colorbar": {
             "outlinewidth": 0,
             "ticks": ""
            },
            "colorscale": [
             [
              0,
              "#0d0887"
             ],
             [
              0.1111111111111111,
              "#46039f"
             ],
             [
              0.2222222222222222,
              "#7201a8"
             ],
             [
              0.3333333333333333,
              "#9c179e"
             ],
             [
              0.4444444444444444,
              "#bd3786"
             ],
             [
              0.5555555555555556,
              "#d8576b"
             ],
             [
              0.6666666666666666,
              "#ed7953"
             ],
             [
              0.7777777777777778,
              "#fb9f3a"
             ],
             [
              0.8888888888888888,
              "#fdca26"
             ],
             [
              1,
              "#f0f921"
             ]
            ],
            "type": "surface"
           }
          ],
          "table": [
           {
            "cells": {
             "fill": {
              "color": "#EBF0F8"
             },
             "line": {
              "color": "white"
             }
            },
            "header": {
             "fill": {
              "color": "#C8D4E3"
             },
             "line": {
              "color": "white"
             }
            },
            "type": "table"
           }
          ]
         },
         "layout": {
          "annotationdefaults": {
           "arrowcolor": "#2a3f5f",
           "arrowhead": 0,
           "arrowwidth": 1
          },
          "autotypenumbers": "strict",
          "coloraxis": {
           "colorbar": {
            "outlinewidth": 0,
            "ticks": ""
           }
          },
          "colorscale": {
           "diverging": [
            [
             0,
             "#8e0152"
            ],
            [
             0.1,
             "#c51b7d"
            ],
            [
             0.2,
             "#de77ae"
            ],
            [
             0.3,
             "#f1b6da"
            ],
            [
             0.4,
             "#fde0ef"
            ],
            [
             0.5,
             "#f7f7f7"
            ],
            [
             0.6,
             "#e6f5d0"
            ],
            [
             0.7,
             "#b8e186"
            ],
            [
             0.8,
             "#7fbc41"
            ],
            [
             0.9,
             "#4d9221"
            ],
            [
             1,
             "#276419"
            ]
           ],
           "sequential": [
            [
             0,
             "#0d0887"
            ],
            [
             0.1111111111111111,
             "#46039f"
            ],
            [
             0.2222222222222222,
             "#7201a8"
            ],
            [
             0.3333333333333333,
             "#9c179e"
            ],
            [
             0.4444444444444444,
             "#bd3786"
            ],
            [
             0.5555555555555556,
             "#d8576b"
            ],
            [
             0.6666666666666666,
             "#ed7953"
            ],
            [
             0.7777777777777778,
             "#fb9f3a"
            ],
            [
             0.8888888888888888,
             "#fdca26"
            ],
            [
             1,
             "#f0f921"
            ]
           ],
           "sequentialminus": [
            [
             0,
             "#0d0887"
            ],
            [
             0.1111111111111111,
             "#46039f"
            ],
            [
             0.2222222222222222,
             "#7201a8"
            ],
            [
             0.3333333333333333,
             "#9c179e"
            ],
            [
             0.4444444444444444,
             "#bd3786"
            ],
            [
             0.5555555555555556,
             "#d8576b"
            ],
            [
             0.6666666666666666,
             "#ed7953"
            ],
            [
             0.7777777777777778,
             "#fb9f3a"
            ],
            [
             0.8888888888888888,
             "#fdca26"
            ],
            [
             1,
             "#f0f921"
            ]
           ]
          },
          "colorway": [
           "#636efa",
           "#EF553B",
           "#00cc96",
           "#ab63fa",
           "#FFA15A",
           "#19d3f3",
           "#FF6692",
           "#B6E880",
           "#FF97FF",
           "#FECB52"
          ],
          "font": {
           "color": "#2a3f5f"
          },
          "geo": {
           "bgcolor": "white",
           "lakecolor": "white",
           "landcolor": "#E5ECF6",
           "showlakes": true,
           "showland": true,
           "subunitcolor": "white"
          },
          "hoverlabel": {
           "align": "left"
          },
          "hovermode": "closest",
          "mapbox": {
           "style": "light"
          },
          "paper_bgcolor": "white",
          "plot_bgcolor": "#E5ECF6",
          "polar": {
           "angularaxis": {
            "gridcolor": "white",
            "linecolor": "white",
            "ticks": ""
           },
           "bgcolor": "#E5ECF6",
           "radialaxis": {
            "gridcolor": "white",
            "linecolor": "white",
            "ticks": ""
           }
          },
          "scene": {
           "xaxis": {
            "backgroundcolor": "#E5ECF6",
            "gridcolor": "white",
            "gridwidth": 2,
            "linecolor": "white",
            "showbackground": true,
            "ticks": "",
            "zerolinecolor": "white"
           },
           "yaxis": {
            "backgroundcolor": "#E5ECF6",
            "gridcolor": "white",
            "gridwidth": 2,
            "linecolor": "white",
            "showbackground": true,
            "ticks": "",
            "zerolinecolor": "white"
           },
           "zaxis": {
            "backgroundcolor": "#E5ECF6",
            "gridcolor": "white",
            "gridwidth": 2,
            "linecolor": "white",
            "showbackground": true,
            "ticks": "",
            "zerolinecolor": "white"
           }
          },
          "shapedefaults": {
           "line": {
            "color": "#2a3f5f"
           }
          },
          "ternary": {
           "aaxis": {
            "gridcolor": "white",
            "linecolor": "white",
            "ticks": ""
           },
           "baxis": {
            "gridcolor": "white",
            "linecolor": "white",
            "ticks": ""
           },
           "bgcolor": "#E5ECF6",
           "caxis": {
            "gridcolor": "white",
            "linecolor": "white",
            "ticks": ""
           }
          },
          "title": {
           "x": 0.05
          },
          "xaxis": {
           "automargin": true,
           "gridcolor": "white",
           "linecolor": "white",
           "ticks": "",
           "title": {
            "standoff": 15
           },
           "zerolinecolor": "white",
           "zerolinewidth": 2
          },
          "yaxis": {
           "automargin": true,
           "gridcolor": "white",
           "linecolor": "white",
           "ticks": "",
           "title": {
            "standoff": 15
           },
           "zerolinecolor": "white",
           "zerolinewidth": 2
          }
         }
        },
        "title": {
         "text": "Visualización 2D de la base vectorial (Chroma)"
        },
        "width": 800,
        "xaxis": {
         "title": {
          "text": "x"
         }
        },
        "yaxis": {
         "title": {
          "text": "y"
         }
        }
       }
      }
     },
     "metadata": {},
     "output_type": "display_data"
    }
   ],
   "source": [
    "# Reducción de dimensionalidad a 2D con t-SNE\n",
    "tsne_2d = TSNE(n_components=2, random_state=42)\n",
    "reduced_vectors_2d = tsne_2d.fit_transform(vectors)\n",
    "\n",
    "# Visualización 2D\n",
    "fig = go.Figure(data=[go.Scatter(\n",
    "    x=reduced_vectors_2d[:, 0],\n",
    "    y=reduced_vectors_2d[:, 1],\n",
    "    mode='markers',\n",
    "    marker=dict(size=5, color=colors, opacity=0.8),\n",
    "    text=[f\"Tipo: {t}<br>Texto: {d[:100]}...\" for t, d in zip(doc_types, documents)],\n",
    "    hoverinfo='text'\n",
    ")])\n",
    "\n",
    "fig.update_layout(\n",
    "    title='Visualización 2D de la base vectorial (Chroma)',\n",
    "    xaxis_title='x',\n",
    "    yaxis_title='y',\n",
    "    width=800,\n",
    "    height=600,\n",
    "    margin=dict(r=20, b=10, l=10, t=40)\n",
    ")\n",
    "\n",
    "fig.show()"
   ]
  },
  {
   "cell_type": "code",
   "execution_count": 12,
   "id": "49434127",
   "metadata": {},
   "outputs": [
    {
     "data": {
      "application/vnd.plotly.v1+json": {
       "config": {
        "plotlyServerURL": "https://plot.ly"
       },
       "data": [
        {
         "hoverinfo": "text",
         "marker": {
          "color": [
           "blue",
           "blue",
           "blue",
           "blue",
           "blue",
           "blue",
           "blue",
           "blue",
           "blue",
           "blue",
           "blue",
           "blue",
           "blue",
           "blue",
           "blue",
           "blue",
           "blue",
           "blue",
           "blue",
           "blue",
           "green",
           "green",
           "green",
           "green",
           "green",
           "green",
           "green",
           "green",
           "green",
           "green",
           "green",
           "green",
           "green",
           "green",
           "green",
           "green",
           "green",
           "green",
           "green",
           "green",
           "green",
           "green",
           "green",
           "green",
           "green",
           "green",
           "green",
           "green",
           "green",
           "green",
           "green",
           "green",
           "green",
           "green",
           "green",
           "green",
           "green",
           "green",
           "green",
           "green",
           "green",
           "green",
           "green",
           "green",
           "green",
           "green",
           "green",
           "green",
           "green",
           "green",
           "green",
           "green",
           "green",
           "green",
           "green",
           "green",
           "green",
           "green",
           "green",
           "green",
           "green",
           "green",
           "green",
           "green",
           "green",
           "green",
           "green",
           "green",
           "green",
           "green",
           "green",
           "green",
           "green",
           "green",
           "green",
           "green",
           "green",
           "green",
           "green",
           "green",
           "green",
           "green",
           "green",
           "green",
           "green",
           "green",
           "green",
           "green",
           "green",
           "green",
           "green",
           "green",
           "green",
           "green",
           "green",
           "green",
           "green",
           "green",
           "green",
           "green",
           "green",
           "green",
           "green",
           "green",
           "green",
           "green",
           "green",
           "green",
           "green",
           "green",
           "green",
           "green",
           "green",
           "green",
           "green",
           "green",
           "green",
           "green",
           "green",
           "green",
           "green",
           "green",
           "green",
           "green",
           "green",
           "green",
           "green",
           "green",
           "green",
           "green",
           "green",
           "green",
           "green",
           "green",
           "green",
           "green",
           "green",
           "green",
           "green",
           "green",
           "green",
           "green",
           "green",
           "green",
           "green",
           "green",
           "green",
           "green",
           "green",
           "green",
           "green",
           "green",
           "green",
           "green",
           "green",
           "green",
           "green",
           "green",
           "green",
           "green",
           "green",
           "green",
           "green",
           "green",
           "green",
           "green",
           "green",
           "green",
           "green",
           "green",
           "green",
           "green",
           "green",
           "green",
           "green",
           "green",
           "green",
           "green",
           "green",
           "green",
           "green",
           "green",
           "green",
           "green",
           "green",
           "green",
           "green",
           "green",
           "green",
           "green",
           "green",
           "green",
           "green",
           "green",
           "green",
           "green",
           "green",
           "green",
           "green",
           "green",
           "green",
           "green",
           "green",
           "green",
           "green",
           "green",
           "green",
           "green",
           "green",
           "green",
           "green",
           "green",
           "green",
           "green",
           "green",
           "green",
           "green",
           "green",
           "green",
           "green",
           "green",
           "green",
           "green",
           "green",
           "green",
           "green",
           "green",
           "green",
           "green",
           "green",
           "green",
           "green",
           "green",
           "green",
           "green",
           "green",
           "green",
           "red",
           "red",
           "red",
           "red",
           "red",
           "red"
          ],
          "opacity": 0.8,
          "size": 5
         },
         "mode": "markers",
         "text": [
          "Tipo: Candidatos<br>Texto: # Lista 1 – MOVIMIENTO DE INTEGRACIÓN Y DESARROLLO\n\n**Candidatos (lista completa)**\n\n1. Caruso Lomba...",
          "Tipo: Candidatos<br>Texto: # Lista 20 – UNIÓN DEL CENTRO DEMOCRÁTICO\n\n**Candidatos (lista completa)**\n\n1. Marra Ramiro Daniel  ...",
          "Tipo: Candidatos<br>Texto: # Lista 262 – EL MOVIMIENTO\n\n**Candidatos (lista completa)**\n\n1. Zurbriggen Schaller Mila  \n2. Arias...",
          "Tipo: Candidatos<br>Texto: # Lista 329 – SEAMOS LIBRES\n\n**Candidatos (lista completa)**\n\n1. Abal Medina Juan Manuel  \n2. Papale...",
          "Tipo: Candidatos<br>Texto: # Lista 350 – LA IZQUIERDA EN LA CIUDAD\n\n**Candidatos (lista completa)**\n\n1. Winokur Federico  \n2. A...",
          "Tipo: Candidatos<br>Texto: # Lista 352 – MOVIMIENTO PLURAL\n\n**Candidatos (lista completa)**\n\n1. Peretta Marcelo Daniel  \n2. Per...",
          "Tipo: Candidatos<br>Texto: # Lista 47 – COALICIÓN CÍVICA\n\n**Candidatos (lista completa)**\n\n1. Oliveto Lago Paula Mariana  \n2. S...",
          "Tipo: Candidatos<br>Texto: # Lista 701 – ES AHORA BUENOS AIRES\n\n**Candidatos (lista completa)**\n\n1. Santoro Leandro Jorge  \n2. ...",
          "Tipo: Candidatos<br>Texto: # Lista 702 – PRINCIPIOS Y VALORES\n\n**Candidatos (lista completa)**\n\n1. Kim Alejandro  \n2. Lirola Ny...",
          "Tipo: Candidatos<br>Texto: # Lista 703 – CONFLUENCIA POR LA SOBERANÍA\n\n**Candidatos (lista completa)**\n\n1. Koutsovitis María Ev...",
          "Tipo: Candidatos<br>Texto: # Lista 704 – VOLVAMOS BUENOS AIRES\n\n**Candidatos (lista completa)**\n\n1. Rodríguez Larreta Horacio A...",
          "Tipo: Candidatos<br>Texto: # Lista 705 – EVOLUCIÓN\n\n**Candidatos (lista completa)**\n\n1. Agnone Conte Daniel Alejandro  \n2. Alba...",
          "Tipo: Candidatos<br>Texto: # Lista 706 – BUENOS AIRES PRIMERO\n\n**Candidatos Titulares (lista completa)**\n\n1. Lospennato Silvia ...",
          "Tipo: Candidatos<br>Texto: # Lista 707 – UNIÓN PORTEÑA LIBERTARIA\n\n**Candidatos (lista completa)**\n\n1. Santoro Yamil Darío  \n2....",
          "Tipo: Candidatos<br>Texto: # Lista 708 – FRENTE DE IZQUIERDA Y TRABAJADORES – UNIDAD\n\n**Candidatos (lista completa)**\n\n1. Biasi...",
          "Tipo: Candidatos<br>Texto: # Lista 95 – FRENTE PATRIOTA FEDERAL\n\n**Candidatos (lista completa)**\n\n1. Biondini César  \n2. Cardoz...",
          "Tipo: Candidatos<br>Texto: # Lista 96 – LA LIBERTAD AVANZA\n\n**Candidatos (lista completa)**\n\n1. Adorni Manuel  \n2. Pelayo Solan...",
          "Tipo: Candidatos<br>Texto: ## Partidos y sus principales candidatos (Lista 2025 CABA)\n\n- **20 – UNIÓN DEL CENTRO DEMOCRÁTICO** ...",
          "Tipo: Candidatos<br>Texto: - **95 – FRENTE PATRIOTA FEDERAL**  \n  1. Biondini César  \n  2. Cardozo Analía Verónica  \n  3. Jaime...",
          "Tipo: Candidatos<br>Texto: - **705 – EVOLUCIÓN**  \n  1. Levy “Lula”  \n  2. Cedeira Facundo Gabriel  \n  3. Barreto Jessica Soled...",
          "Tipo: Código electoral<br>Texto: # TÍTULO PRIMERO\nÁMBITO DE APLICACIÓN, PRINCIPIOS Y DISPOSICIONES GENERALES\n\n## CAPÍTULO ÚNICO\n\n####...",
          "Tipo: Código electoral<br>Texto: #### Artículo 3: Principios Generales. Los procesos electorales deben ajustarse\na los siguientes pri...",
          "Tipo: Código electoral<br>Texto: #### Artículo 4: Publicidad de la Información en formatos digitales. Toda la información que de acue...",
          "Tipo: Código electoral<br>Texto: #### Artículo 5: Organismos Electorales. Son Organismos Electorales de la Ciudad Autónoma de Buenos\n...",
          "Tipo: Código electoral<br>Texto: #### Artículo 7: \"Elecciones primarias”, “elecciones generales” y “segunda vuelta\". La elección de J...",
          "Tipo: Código electoral<br>Texto: #### Artículo 8: Tecnologías. A los efectos del presente Código se entiende por “tecnologías” a las ...",
          "Tipo: Código electoral<br>Texto: # TÍTULO SEGUNDO\nCUERPO ELECTORAL\n\n## CAPÍTULO I\nDE LA CONDICIÓN DE ELECTOR/A, DERECHOS, DEBERES E I...",
          "Tipo: Código electoral<br>Texto: #### Artículo 10: Electores/as extranjeros/as. Los extranjeros y las extranjeras, desde los dieciséi...",
          "Tipo: Código electoral<br>Texto: #### Artículo 11: Difusión. El Poder Ejecutivo instrumentará, en coordinación con los Organismos Ele...",
          "Tipo: Código electoral<br>Texto: #### Artículo 12: Privados de la libertad. Los/as electores/as que se encuentren privados/as de la l...",
          "Tipo: Código electoral<br>Texto: #### Artículo 13: Prueba del carácter de elector/a. Deber de votar. La calidad de elector/a se prueb...",
          "Tipo: Código electoral<br>Texto: SECCIÓN II\nINHABILIDADES.\n\n#### Artículo 14: Inhabilitados/as. Se encuentran inhabilitados/as para e...",
          "Tipo: Código electoral<br>Texto: #### Artículo 15: Forma y plazo de las inhabilitaciones. El Tribunal Electoral entiende en la determ...",
          "Tipo: Código electoral<br>Texto: #### Artículo 16: Rehabilitación. El Tribunal Electoral decreta de oficio la rehabilitación de aquel...",
          "Tipo: Código electoral<br>Texto: #### Artículo 17: Exclusión de sanción por no emisión del voto. No se impondrá sanción por dejar de ...",
          "Tipo: Código electoral<br>Texto: #### Artículo 18: Licencia. Los/as electores/as que deban prestar tareas durante la jornada electora...",
          "Tipo: Código electoral<br>Texto: #### Artículo 19: Amparo del/la elector/a. El/la elector/a que se considere afectado/a en sus inmuni...",
          "Tipo: Código electoral<br>Texto: #### Artículo 20: Inmunidad del/la elector/a. Ninguna autoridad estará facultada para reducir a pris...",
          "Tipo: Código electoral<br>Texto: #### Artículo 21: Carga pública. Todas las funciones que este Código atribuye a los/as electores/as ...",
          "Tipo: Código electoral<br>Texto: #### Artículo 23: Registro de Electoras Extranjeras y Electores Extranjeros Residentes.\nCréase el Re...",
          "Tipo: Código electoral<br>Texto: #### Artículo 24: Información para confección y actualización del Registro de Electoras Extranjeras ...",
          "Tipo: Código electoral<br>Texto: #### Artículo 25: Exclusión del Registro. Serán excluidos/as del Registro de Electoras Extranjeras y...",
          "Tipo: Código electoral<br>Texto: #### Artículo 26: Registro de Infractores/as al deber de votar. Créase el Registro de Infractores/as...",
          "Tipo: Código electoral<br>Texto: CAPÍTULO III\nPADRONES PROVISORIOS Y DEFINITIVOS\n\n#### Artículo 27: Padrones Provisorios. Los padrone...",
          "Tipo: Código electoral<br>Texto: #### Artículo 28: Difusión de padrones provisorios. El Tribunal Electoral dispondrá la publicación d...",
          "Tipo: Código electoral<br>Texto: #### Artículo 29: Reclamo de los/as electores/as y enmiendas. Los/as electores/as que por cualquier ...",
          "Tipo: Código electoral<br>Texto: #### Artículo 30: Resolución. Previa verificación sumaria de los hechos que se invoquen se concederá...",
          "Tipo: Código electoral<br>Texto: #### Artículo 31: Padrón Definitivo. Los padrones provisorios depurados constituyen el padrón electo...",
          "Tipo: Código electoral<br>Texto: #### Artículo 32: Contenido del Padrón de Mesa Definitivo. Componen el padrón de mesa definitivo des...",
          "Tipo: Código electoral<br>Texto: #### Artículo 33: Publicación de los padrones definitivos. Errores u omisiones. Plazos para subsanar...",
          "Tipo: Código electoral<br>Texto: #### Artículo 34: Impresión de ejemplares. El Instituto de Gestión Electoral dispondrá la impresión ...",
          "Tipo: Código electoral<br>Texto: #### Artículo 35: Distribución de ejemplares. El Instituto de Gestión Electoral entrega el padrón de...",
          "Tipo: Código electoral<br>Texto: #### Artículo 37: Padrón complementario del personal de las fuerzas de seguridad. Treinta y cinco (3...",
          "Tipo: Código electoral<br>Texto: # TÍTULO TERCERO\nDIVISIONES TERRITORIALES Y AGRUPACIÓN DE ELECTORES/AS\n\n##CAPÍTULO ÚNICO\n\n#### Artíc...",
          "Tipo: Código electoral<br>Texto: #### Artículo 39: Propuesta de modificación de límites de los circuitos. Propuesta de modificación d...",
          "Tipo: Código electoral<br>Texto: #### Artículo 40: Mesas receptoras de votos. Cada circuito se dividirá en mesas receptoras de votos,...",
          "Tipo: Código electoral<br>Texto: #### Artículo 41: Mesas de electores/as extranjeros/as. El Instituto de Gestión Electoral propondrá ...",
          "Tipo: Código electoral<br>Texto: # TÍTULO CUARTO\nSISTEMA ELECTORAL DE LA CIUDAD AUTÓNOMA DE BUENOS AIRES\n\n##CAPÍTULO I\nELECCIÓN DEL J...",
          "Tipo: Código electoral<br>Texto: #### Artículo 43: Elección del/la Jefe/a y Vicejefe/a de Gobierno. Las candidaturas de Jefe/a de Gob...",
          "Tipo: Código electoral<br>Texto: #### Artículo 44: Ratificación. Dentro del quinto día de proclamadas las dos (2) fórmulas más votada...",
          "Tipo: Código electoral<br>Texto: #### Artículo 47: Elección de los/as Diputados/as. Los/as Diputados/as de la Ciudad Autónoma de Buen...",
          "Tipo: Código electoral<br>Texto: #### Artículo 48: Sistema D´ Hondt. Los cargos por cubrir se asignarán conforme al orden establecido...",
          "Tipo: Código electoral<br>Texto: #### Artículo 49: Diputados/as electos/as. Se proclamarán Diputados/as de la Ciudad Autónoma de Buen...",
          "Tipo: Código electoral<br>Texto: ##CAPÍTULO III\nELECCIÓN DEL GOBIERNO COMUNAL\n\n#### Artículo 51: Integración. El gobierno de las Comu...",
          "Tipo: Código electoral<br>Texto: #### Artículo 54: Miembros de Junta Comunal electos. Se proclamarán Miembros de Junta Comunal a quie...",
          "Tipo: Código electoral<br>Texto: # TÍTULO NOVENO\nVIOLACIONES A LA LEY ELECTORAL\n\n## CAPÍTULO I\nDISPOSICIONES GENERALES\n\n#### Artículo...",
          "Tipo: Código electoral<br>Texto: #### Artículo 255: Procedimiento.\nPara la a imposición de sanciones vinculadas a contravenciones ele...",
          "Tipo: Código electoral<br>Texto: #### Artículo 257: Comunicación de contravenciones o delitos.\nLas contravenciones y delitos electora...",
          "Tipo: Código electoral<br>Texto: #### Artículo 260: Desconocimiento de carga pública.\nQuien fuere designado/a como autoridad de mesa,...",
          "Tipo: Código electoral<br>Texto: #### Artículo 263: Portación de armas. Exhibición de banderas, divisas o distintivos partidarios.\nSe...",
          "Tipo: Código electoral<br>Texto: #### Artículo 265: Negar la licencia al/la elector/a.\nEl/La empleador/a que no concediere la licenci...",
          "Tipo: Código electoral<br>Texto: # TÍTULO QUINTO\nDE LOS ACTOS PREELECTORALES\n## CAPÍTULO I\nFECHA Y CONVOCATORIA DE ELECCIONES\n\n#### A...",
          "Tipo: Código electoral<br>Texto: #### Artículo 57: Convocatoria y celebración de las elecciones primarias. La convocatoria a eleccion...",
          "Tipo: Código electoral<br>Texto: #### Artículo 58: Convocatoria y celebración de elecciones generales y segunda vuelta. El/la Jefe/a ...",
          "Tipo: Código electoral<br>Texto: #### Artículo 59: Publicidad de la convocatoria. La convocatoria a elección de cargos debe ser publi...",
          "Tipo: Código electoral<br>Texto: #### Artículo 60: Adhesión a la Simultaneidad. Concurrencia de elecciones. El Poder Ejecutivo podrá,...",
          "Tipo: Código electoral<br>Texto: #### Artículo 61: Requisitos del acto de convocatoria. La convocatoria a elección de cargos debe ind...",
          "Tipo: Código electoral<br>Texto: CAPÍTULO II\nDEBATE PÚBLICO\n\n#### Artículo 62: Marco del debate. El debate público entre candidatos/a...",
          "Tipo: Código electoral<br>Texto: #### Artículo 63: Obligatoriedad del debate. Se establece la obligatoriedad de la realización y part...",
          "Tipo: Código electoral<br>Texto: #### Artículo 64: Debate entre candidatos/as a Jefe/a de Gobierno. El debate electoral entre candida...",
          "Tipo: Código electoral<br>Texto: #### Artículo 66: Determinación del lugar, las reglas y organización. El Instituto de Gestión Electo...",
          "Tipo: Código electoral<br>Texto: #### Artículo 67: Transmisión. El debate es producido y transmitido en directo por todos los medios\n...",
          "Tipo: Código electoral<br>Texto: # TÍTULO SEXTO\nPRIMARIAS ABIERTAS, SIMULTÁNEAS Y OBLIGATORIAS\n\n## CAPÍTULO ÚNICO\n\n#### Artículo 68: ...",
          "Tipo: Código electoral<br>Texto: #### Artículo 70: Alianzas electorales transitorias. Los partidos políticos del distrito con persone...",
          "Tipo: Código electoral<br>Texto: #### Artículo 71: Juntas Electorales de las agrupaciones políticas. Las Juntas Electorales de las ag...",
          "Tipo: Código electoral<br>Texto: #### Artículo 72: Apoderados/as. Las agrupaciones políticas deben designar un/a (1) apoderado/a titu...",
          "Tipo: Código electoral<br>Texto: #### Artículo 73: Paridad en la conformación de listas. Las listas de todas las agrupaciones polític...",
          "Tipo: Código electoral<br>Texto: #### Artículo 74: Adhesiones. Jefe/a de Gobierno y Diputados/as. Las precandidaturas a Jefe/a de Gob...",
          "Tipo: Código electoral<br>Texto: #### Artículo 75: Adhesiones. Miembros de las Juntas Comunales. Las listas de precandidatos/as a Mie...",
          "Tipo: Código electoral<br>Texto: #### Artículo 76: Certificación de adhesiones. En todos los casos las adhesiones deben presentarse\nc...",
          "Tipo: Código electoral<br>Texto: #### Artículo 77: Precandidaturas. La designación de los/as precandidatos/as es exclusiva de las agr...",
          "Tipo: Código electoral<br>Texto: #### Artículo 78: Diseño de herramientas para facilitar trámites. El Tribunal Electoral proveerá un ...",
          "Tipo: Código electoral<br>Texto: #### Artículo 80: Pedido de reconocimiento y oficialización de listas de precandidatos/as. Requisito...",
          "Tipo: Código electoral<br>Texto: #### Artículo 81: Nombre. Los/as precandidatos/as pueden figurar con el nombre con el cual son conoc...",
          "Tipo: Código electoral<br>Texto: #### Artículo 83: Impugnaciones. Cualquier ciudadano/a que revista la calidad de elector/a de la Ciu...",
          "Tipo: Código electoral<br>Texto: #### Artículo 84: Resolución de la Junta Electoral de la Agrupación Política. Revocatoria. Dentro de...",
          "Tipo: Código electoral<br>Texto: #### Artículo 85: Notificaciones de las Juntas Electorales de las Agrupaciones Políticas.\nTodas las ...",
          "Tipo: Código electoral<br>Texto: #### Artículo 86: Apelación. La resolución de admisión o rechazo dictada por la Junta Electoral de l...",
          "Tipo: Código electoral<br>Texto: #### Artículo 88: Comunicación y remisión de documentos para oficialización. Dentro de las veinticua...",
          "Tipo: Código electoral<br>Texto: #### Artículo 89: Resolución de oficialización y publicidad. El Tribunal Electoral verifica de ofici...",
          "Tipo: Código electoral<br>Texto: #### Artículo 91: Asignación de distintivos de las agrupaciones políticas. Hasta los cincuenta y cin...",
          "Tipo: Código electoral<br>Texto: #### Artículo 92: Sitio web de las agrupaciones políticas. Las agrupaciones políticas habilitarán un...",
          "Tipo: Código electoral<br>Texto: #### Artículo 93: Aplicación de normas para elección general. Las normas respecto al proceso elector...",
          "Tipo: Código electoral<br>Texto: #### Artículo 94: Actas de escrutinio y otra documentación. El Instituto de Gestión Electoral defini...",
          "Tipo: Código electoral<br>Texto: #### Artículo 96: Elección del candidato/a a Jefe/a de Gobierno. La elección del/la candidato/a a Je...",
          "Tipo: Código electoral<br>Texto: #### Artículo 97: Conformación final de la lista de candidatos/as a Diputados/as y Miembros de la Ju...",
          "Tipo: Código electoral<br>Texto: #### Artículo 98: Notificación. La Junta Electoral de cada agrupación política notifica las listas d...",
          "Tipo: Código electoral<br>Texto: #### Artículo 99: Selección del candidato/a a Vicejefe/a de Gobierno. Dentro de las cuarenta y ocho ...",
          "Tipo: Código electoral<br>Texto: # TÍTULO SÉPTIMO\nOFICIALIZACIÓN DE LISTAS DE CANDIDATOS/AS, INSTRUMENTO DE SUFRAGIO E INCORPORACIÓN ...",
          "Tipo: Código electoral<br>Texto: ##CAPÍTULO 1\nDE LA OFICIALIZACIÓN DE LISTAS DE CANDIDATOS/AS\n\n#### Artículo 100: Piso electoral. Sól...",
          "Tipo: Código electoral<br>Texto: #### Artículo 101: Paridad de género en la conformación de listas. Las listas de candidatos/as a Dip...",
          "Tipo: Código electoral<br>Texto: #### Artículo 102: Registro de los/as candidatos/as y requisitos para la oficialización de listas. L...",
          "Tipo: Código electoral<br>Texto: #### Artículo 103: Presentación del pedido de oficialización de listas. Junto con el pedido de ofici...",
          "Tipo: Código electoral<br>Texto: #### Artículo 104: Declaración jurada patrimonial. La Declaración Jurada Patrimonial a la que refier...",
          "Tipo: Código electoral<br>Texto: #### Artículo 105: Datos confidenciales. Estará exenta de publicidad y deberá permanecer en formular...",
          "Tipo: Código electoral<br>Texto: #### Artículo 106: Resolución. Dentro de las cuarenta y ocho (48) horas siguientes a su presentación...",
          "Tipo: Código electoral<br>Texto: #### Artículo 107: Vacancia de Candidatos/as y Precandidatos/as a Diputados/as, Miembros de la Junta...",
          "Tipo: Código electoral<br>Texto: #### Artículo 108: Vacancia de Candidato/a y Precandidato/a a Jefe/a de Gobierno. En caso de renunci...",
          "Tipo: Código electoral<br>Texto: #### Artículo 109: Vacancia de Candidato/a a Vicejefe/a de Gobierno. En caso de renuncia, fallecimie...",
          "Tipo: Código electoral<br>Texto: #### Artículo 110: Fallecimiento o renuncia. Segunda vuelta. En caso de renuncia, fallecimiento o in...",
          "Tipo: Código electoral<br>Texto: ## CAPÍTULO II\nINSTRUMENTO DE SUFRAGIO\n\n#### Artículo 111: Boleta Única. Se establece como instrumen...",
          "Tipo: Código electoral<br>Texto: #### Artículo 112: Características de la Boleta Única. La Boleta Única incluye todas las categorías ...",
          "Tipo: Código electoral<br>Texto: #### Artículo 113: Contenido y diseño de la Boleta Única. Requisitos. La Boleta Única es confecciona...",
          "Tipo: Código electoral<br>Texto: #### Artículo 114: Campañas de capacitación. Modalidad y accesibilidad. El Gobierno de la Ciudad Aut...",
          "Tipo: Código electoral<br>Texto: #### Artículo 115: Orden de la oferta electoral. Sorteo. El Instituto de Gestión Electoral determina...",
          "Tipo: Código electoral<br>Texto: #### Artículo 116: Audiencia de Observación. El Instituto de Gestión Electoral convoca a cada agrupa...",
          "Tipo: Código electoral<br>Texto: #### Artículo 117: Aprobación de diseño de la visualización de la oferta electoral. Oídos los/as apo...",
          "Tipo: Código electoral<br>Texto: #### Artículo 118: Confección de los afiches. El Instituto de Gestión Electoral diseña y aprueba el ...",
          "Tipo: Código electoral<br>Texto: #### Artículo 119: Publicación y difusión. El Instituto de Gestión Electoral publica en su sitio web...",
          "Tipo: Código electoral<br>Texto: #### Artículo 120: Plazo para la provisión de Boletas, afiches y/o dispositivos electrónicos. El Ins...",
          "Tipo: Código electoral<br>Texto: #### Artículo 121: Entrega de material electoral, equipos, documentos y útiles. El Instituto de Gest...",
          "Tipo: Código electoral<br>Texto: #### Artículo 122: Boletas suplementarias. El Instituto de Gestión Electoral asegura la provisión de...",
          "Tipo: Código electoral<br>Texto: ## CAPÍTULO III\nINCORPORACIÓN DE TECNOLOGÍAS AL PROCESO ELECTORAL\n\n### SECCIÓN I\nDISPOSICIONES GENER...",
          "Tipo: Código electoral<br>Texto: #### Artículo 125: Principios aplicables a la incorporación de Tecnologías Electrónicas. Toda altern...",
          "Tipo: Código electoral<br>Texto: #### Artículo 126: Implementación de tecnologías. El Instituto de Gestión Electoral tiene a su cargo...",
          "Tipo: Código electoral<br>Texto: #### Artículo 127: Desarrollo y obtención. Los dispositivos electrónicos y software que sean utiliza...",
          "Tipo: Código electoral<br>Texto: ### SECCIÓN II\nPROCESOS DE AUDITORÍA Y CERTIFICACIÓN DE TECNOLOGÍAS.\n\n#### Artículo 128: Pruebas, Au...",
          "Tipo: Código electoral<br>Texto: #### Artículo 129: Registro de Proveedores de Tecnologías. El Instituto de Gestión Electoral elabora...",
          "Tipo: Código electoral<br>Texto: #### Artículo 130: Pruebas, auditorías y controles. Plazos. Con anterioridad a la aprobación de una ...",
          "Tipo: Código electoral<br>Texto: #### Artículo 131: Informe General de Conclusiones. Finalizado el proceso de auditorías y adecuación...",
          "Tipo: Código electoral<br>Texto: #### Artículo 132: Preservación y custodia de muestra final. Una vez aprobado, un sistema electrónic...",
          "Tipo: Código electoral<br>Texto: #### Artículo 134: Plan de Contingencia. El Instituto de Gestión Electoral debe elaborar un plan de ...",
          "Tipo: Código electoral<br>Texto: #### Artículo 135: Auditorías y control posterior a los comicios. Vencido el plazo de cuarenta y och...",
          "Tipo: Código electoral<br>Texto: ### SECCIÓN II\nINCORPORACIÓN DE TECNOLOGÍAS EN EL PROCEDIMIENTO DE EMISIÓN DEL VOTO.\n\n#### Artículo ...",
          "Tipo: Código electoral<br>Texto: #### Artículo 138: Estándares mínimos. Toda alternativa o solución tecnológica a incorporar en el pr...",
          "Tipo: Código electoral<br>Texto: #### Artículo 139: Garantías. Cualquier incorporación de tecnología en el procedimiento de emisión d...",
          "Tipo: Código electoral<br>Texto: #### Artículo 141: Dispositivo electrónico del Sistema electrónico de emisión de Boleta. El disposit...",
          "Tipo: Código electoral<br>Texto: #### Artículo 142: Opciones de voto. El dispositivo electrónico del Sistema electrónico de emisión d...",
          "Tipo: Código electoral<br>Texto: #### Artículo 143: Diseño para personas ciegas. El dispositivo electrónico del Sistema electrónico d...",
          "Tipo: Código electoral<br>Texto: #### Artículo 144: Diseño de Boleta. El diseño de la boleta a utilizar en el Sistema Electrónico de ...",
          "Tipo: Código electoral<br>Texto: #### Artículo 145: Entrega de material electoral, equipos, documentos y útiles ante incorporación de...",
          "Tipo: Código electoral<br>Texto: ### SECCIÓN IV\nTECNOLOGÍAS EN LA ETAPA DE ESCRUTINIO Y TRANSMISIÓN DE RESULTADOS.\n\n#### Artículo 146...",
          "Tipo: Código electoral<br>Texto: #### Artículo 148: Obligatoriedad de incorporación de tecnologías. Seguridad en la transmisión. La t...",
          "Tipo: Código electoral<br>Texto: #### Artículo 149: Determinación del procedimiento. Protocolo de Acción. El Instituto de Gestión Ele...",
          "Tipo: Código electoral<br>Texto: #### Artículo 150: Dispositivo electrónico. Reparación y reemplazo. Ante la detección de inconvenien...",
          "Tipo: Código electoral<br>Texto: # TÍTULO OCTAVO\nDEL PROCESO ELECTORAL\n\n## CAPÍTULO I\nDE LOS FISCALES PARTIDARIOS...",
          "Tipo: Código electoral<br>Texto: #### Artículo 151: Fiscales Partidarios. Con el objeto de controlar la organización y el desarrollo ...",
          "Tipo: Código electoral<br>Texto: #### Artículo 152: Actuación simultánea. Salvo lo dispuesto respecto al Fiscal General y cuando hubi...",
          "Tipo: Código electoral<br>Texto: #### Artículo 154: Designación y acreditación de fiscales. Los poderes de los/as Fiscales partidario...",
          "Tipo: Código electoral<br>Texto: #### Artículo 155: Comunicación de designación. La designación de los Fiscales partidarios debe ser\n...",
          "Tipo: Código electoral<br>Texto: ## CAPÍTULO II\nOBSERVACIÓN ELECTORAL\n\n#### Artículo 157: Objeto y organización. La observación elect...",
          "Tipo: Código electoral<br>Texto: #### Artículo 158: Sujetos Observadores. La Defensoría del Pueblo de la Ciudad Autónoma de Buenos Ai...",
          "Tipo: Código electoral<br>Texto: #### Artículo 159: Acreditación y determinación de requisitos. El Instituto de Gestión Electoral oto...",
          "Tipo: Código electoral<br>Texto: #### Artículo 160: Plan previo de observación. Las Organizaciones Observadoras deben presentar ante ...",
          "Tipo: Código electoral<br>Texto: #### Artículo 161: Facultades. La acreditación a la que refiere el artículo 159 faculta a los/as Obs...",
          "Tipo: Código electoral<br>Texto: #### Artículo 162: Reglas de conducta. Los/as Observadores/as Electorales deberán ceñir su actuación...",
          "Tipo: Código electoral<br>Texto: #### Artículo 163: Informe de Observación. Cada organización acreditada debe presentar ante el Insti...",
          "Tipo: Código electoral<br>Texto: ## CAPÍTULO III\nACTO ELECTORAL\n\n### SECCIÓN I\nDE LAS FUERZAS DE SEGURIDAD.\n\n#### Artículo 165: Fuerz...",
          "Tipo: Código electoral<br>Texto: #### Artículo 166: Disposición de las Fuerzas de Seguridad. Las Fuerzas de Seguridad asignadas a la\n...",
          "Tipo: Código electoral<br>Texto: ### SECCIÓN II\nDEL/LA DELEGADO/A JUDICIAL Y COORDINADOR/A TÉCNICO/A\n\n#### Artículo 168: Registro de ...",
          "Tipo: Código electoral<br>Texto: #### Artículo 169: Requisitos. El/La Delegado/a Judicial debe reunir las siguientes cualidades:\n1) S...",
          "Tipo: Código electoral<br>Texto: #### Artículo 170: Designación. A criterio del Tribunal Electoral se designarán para actuar en los\ne...",
          "Tipo: Código electoral<br>Texto: #### Artículo 171: Comunicación. El Tribunal Electoral pondrá a disposición de las agrupaciones polí...",
          "Tipo: Código electoral<br>Texto: #### Artículo 172: Funciones. El/La Delegado/a Judicial tiene a su cargo, las siguientes funciones y...",
          "Tipo: Código electoral<br>Texto: #### Artículo 173: Transmisión. En el caso de incorporar tecnologías electrónicas al procedimiento d...",
          "Tipo: Código electoral<br>Texto: #### Artículo 174: Inasistencia. Reemplazo. Si por cualquier causa el/la Delegado/a Judicial designa...",
          "Tipo: Código electoral<br>Texto: #### Artículo 176: Funciones de los/as Coordinadores/as Técnicos/as. Los/as Coordinadores/as Técnico...",
          "Tipo: Código electoral<br>Texto: #### Artículo 177: Viáticos. Los/as Delegados/as Judiciales y los/as Coordinadores/as Técnicos/as ti...",
          "Tipo: Código electoral<br>Texto: #### Artículo 178: Establecimientos de votación. El Instituto de Gestión Electoral determina los est...",
          "Tipo: Código electoral<br>Texto: #### Artículo 179: Obligación de los/as encargados/as y/o autoridades. Los/as encargados/as y/o auto...",
          "Tipo: Código electoral<br>Texto: #### Artículo 180: Cantidad de Mesas receptoras de votos por establecimiento de votación.\nCada estab...",
          "Tipo: Código electoral<br>Texto: #### Artículo 181: Autoridades de Mesa. El Tribunal Electoral designa para cada mesa receptora de vo...",
          "Tipo: Código electoral<br>Texto: #### Artículo 182: Requisitos. Las autoridades de las mesas receptoras de votos deben reunir los sig...",
          "Tipo: Código electoral<br>Texto: #### Artículo 184: Selección aleatoria y designación. La designación de los/as electores/as que actu...",
          "Tipo: Código electoral<br>Texto: #### Artículo 185: Registro de Postulantes a Autoridades de Mesa. El Tribunal Electoral creará un Re...",
          "Tipo: Código electoral<br>Texto: #### Artículo 186: Requisitos de Inscripción. Pueden inscribirse en el Registro de Postulantes a Aut...",
          "Tipo: Código electoral<br>Texto: #### Artículo 188: Selección de Autoridades de mesa. El Instituto de Gestión Electoral realizará la ...",
          "Tipo: Código electoral<br>Texto: #### Artículo 189: Notificación de las designaciones. El Tribunal Electoral notificará fehacientemen...",
          "Tipo: Código electoral<br>Texto: #### Artículo 190: Excusación por inhabilidad. Aquel/la ciudadano/a que sea notificado/a de su desig...",
          "Tipo: Código electoral<br>Texto: #### Artículo 191: Excepciones. La función de autoridad de mesa es una carga pública inexcusable, de...",
          "Tipo: Código electoral<br>Texto: #### Artículo 193: Capacitación Electoral. La capacitación integral de todos/as los/as ciudadanos/as...",
          "Tipo: Código electoral<br>Texto: #### Artículo 194: Actuación del Presidente de Mesa y Auxiliar. Tanto el/la Presidente de Mesa como ...",
          "Tipo: Código electoral<br>Texto: #### Artículo 195: Obligaciones de las Autoridades de Mesa. Aquellos/as ciudadanos/as que cumplan ta...",
          "Tipo: Código electoral<br>Texto: #### Artículo 196: Viáticos. Aquellos/as ciudadanos/as que cumplan funciones como autoridades de mes...",
          "Tipo: Código electoral<br>Texto: #### Artículo 197: Inasistencia. Reemplazo. Si por cualquier causa el/la Presidente de Mesa designad...",
          "Tipo: Código electoral<br>Texto: #### Artículo 198: Presencia de una sola autoridad. Implementados los mecanismos de reemplazo de\naut...",
          "Tipo: Código electoral<br>Texto: #### Artículo 200: Prohibiciones durante el día del comicio. Queda expresamente prohibido:\n1) A toda...",
          "Tipo: Código electoral<br>Texto: #### Artículo 201: Miembros de las Fuerzas Armadas y de Seguridad. Limitaciones. Los/as jefes/as u o...",
          "Tipo: Código electoral<br>Texto: ### SECCIÓN V\nAPERTURA, DESARROLLO Y CLAUSURA DEL ACTO ELECTORAL\n\n#### Artículo 202: Apertura del ac...",
          "Tipo: Código electoral<br>Texto: #### Artículo 203: Derecho a votar. Toda persona que figure en el padrón y acredite su identidad med...",
          "Tipo: Código electoral<br>Texto: #### Artículo 204: Acreditación de la identidad. Los/as electores/as acreditan su identidad mediante...",
          "Tipo: Código electoral<br>Texto: #### Artículo 205: Verificación de la identidad. El/La Presidente de Mesa es quien verifica que el/l...",
          "Tipo: Código electoral<br>Texto: #### Artículo 206: Inadmisibilidad del voto. El/La Presidente de Mesa no admitirá que el/la elector/...",
          "Tipo: Código electoral<br>Texto: #### Artículo 208: Voto de identidad impugnada. El voto de identidad impugnada es aquél en el que un...",
          "Tipo: Código electoral<br>Texto: #### Artículo 209: Procedimiento de entrega de la boleta. El día del comicio, si la identidad del/la...",
          "Tipo: Código electoral<br>Texto: #### Artículo 210: Emisión del voto. La emisión del sufragio se lleva a cabo mediante el siguiente p...",
          "Tipo: Código electoral<br>Texto: #### Artículo 211: Obligatoriedad del secreto del voto. El secreto del voto es obligatorio. Ningún/a...",
          "Tipo: Código electoral<br>Texto: #### Artículo 213: Electores/as ciegos/as. En el caso que se presenten a votar electores/as ciegos/a...",
          "Tipo: Código electoral<br>Texto: #### Artículo 214: Voto Asistido. Los/as electores/as ciegos o con una discapacidad o condición físi...",
          "Tipo: Código electoral<br>Texto: #### Artículo 215: Interrupción de las elecciones. El acto electoral no puede ser interrumpido. Sin ...",
          "Tipo: Código electoral<br>Texto: #### Artículo 216: Clausura del acto electoral. A las dieciocho horas (18 hs.) se clausurará el acto...",
          "Tipo: Código electoral<br>Texto: ESCRUTINIO\n#### Artículo 217: Escrutinio de mesa. El/La Presidente de Mesa, con asistencia del/la Au...",
          "Tipo: Código electoral<br>Texto: #### Artículo 218: Acta de Escrutinio. El/La Presidente de Mesa generará el Acta de escrutinio donde...",
          "Tipo: Código electoral<br>Texto: #### Artículo 219: Certificado de trasmisión. Finalizado el escrutinio de la mesa, el/la Presidente ...",
          "Tipo: Código electoral<br>Texto: #### Artículo 220: Certificados de escrutinio. El/La Presidente de Mesa extenderá y entregará a cada...",
          "Tipo: Código electoral<br>Texto: #### Artículo 221: Acta de cierre del comicio. Concluida la tarea del escrutinio, y emitidos los cer...",
          "Tipo: Código electoral<br>Texto: #### Artículo 222: Diseño de actas. El Instituto de Gestión Electoral definirá los modelos uniformes...",
          "Tipo: Código electoral<br>Texto: #### Artículo 223: Guarda de documentos. Una vez suscripta el Acta de Escrutinio, el Certificado de ...",
          "Tipo: Código electoral<br>Texto: #### Artículo 224: Cierre de la urna y entrega de material al/la Delegado/a Judicial. Una vez efectu...",
          "Tipo: Código electoral<br>Texto: #### Artículo 225: Instructivos. Las autoridades de mesa deberán contar con instructivos emitidos po...",
          "Tipo: Código electoral<br>Texto: #### Artículo 227: Votos nulos. Son considerados votos nulos:\n1) Los emitidos mediante boleta de suf...",
          "Tipo: Código electoral<br>Texto: #### Artículo 228: Votos recurridos. Son votos recurridos aquellos cuya validez o nulidad es cuestio...",
          "Tipo: Código electoral<br>Texto: #### Artículo 229: Centro de Recepción, Totalización y Difusión de Resultados Provisorios.\nEl Instit...",
          "Tipo: Código electoral<br>Texto: #### Artículo 230: Transmisión de resultados de la mesa. El/La Delegado/a Judicial realiza la comuni...",
          "Tipo: Código electoral<br>Texto: #### Artículo 231: Entrega y Custodia de la urna. El transporte y entrega al Tribunal Electoral de l...",
          "Tipo: Código electoral<br>Texto: ### SECCIÓN III\nESCRUTINIO PROVISORIO Y DEFINITIVO\n\n#### Artículo 232: Escrutinio provisorio. El Ins...",
          "Tipo: Código electoral<br>Texto: #### Artículo 233: Difusión del escrutinio provisorio. Los resultados parciales del escrutinio provi...",
          "Tipo: Código electoral<br>Texto: #### Artículo 234: Recepción de la documentación. El Tribunal Electoral recibirá todos los documento...",
          "Tipo: Código electoral<br>Texto: #### Artículo 236: Reclamos de las agrupaciones políticas. Durante las cuarenta y ocho (48) horas si...",
          "Tipo: Código electoral<br>Texto: #### Artículo 237: Plazo para el Escrutinio Definitivo. Vencido el plazo previsto para efectuar recl...",
          "Tipo: Código electoral<br>Texto: #### Artículo 238: Procedimiento. El escrutinio definitivo se ajustará a la verificación que realice...",
          "Tipo: Código electoral<br>Texto: #### Artículo 239: Validez de mesa receptora de votos. Efectuada la verificación de las actas de esc...",
          "Tipo: Código electoral<br>Texto: #### Artículo 240: Votos impugnados. Procedimiento. En el examen de los votos de identidad impugnada...",
          "Tipo: Código electoral<br>Texto: #### Artículo 241: Nulidad de la mesa receptora de votos. El Tribunal Electoral declarará nula, a pe...",
          "Tipo: Código electoral<br>Texto: #### Artículo 242: Recuento de sufragios por errores u omisiones en la documentación. En caso de evi...",
          "Tipo: Código electoral<br>Texto: #### Artículo 244: Nulidad de la elección. El Tribunal Electoral declara nula la elección en caso de...",
          "Tipo: Código electoral<br>Texto: #### Artículo 246: Cómputo final. El Tribunal Electoral sumará los resultados obtenidos en cada una ...",
          "Tipo: Código electoral<br>Texto: #### Artículo 247: Protestas contra el escrutinio y dictamen. Finalizadas estas operaciones, el/la P...",
          "Tipo: Código electoral<br>Texto: #### Artículo 249: Resultados definitivos. El Tribunal Electoral comunicará los resultados definitiv...",
          "Tipo: Código electoral<br>Texto: #### Artículo 252: Acta del escrutinio definitivo. Testimonios. Todos estos procedimientos constarán...",
          "Tipo: Código electoral<br>Texto: # TÍTULO DÉCIMO\nRÉGIMEN PROCESAL ELECTORAL\n\n## CAPÍTULO ÚNICO\n\n#### Artículo 267: Legitimación.\nEstá...",
          "Tipo: Código electoral<br>Texto: #### Artículo 268: Patrocinio.\nAnte el Tribunal Electoral se podrá actuar con patrocinio letrado. El...",
          "Tipo: Código electoral<br>Texto: #### Artículo 272: Ofrecimiento de Prueba.\nLa prueba se ofrece en la primera presentación y se produ...",
          "Tipo: Código electoral<br>Texto: #### Artículo 274: Prueba de testigos.\nEn la prueba testimonial no pueden ofrecerse más de tres (3) ...",
          "Tipo: Código electoral<br>Texto: #### Artículo 276: Excepciones.\nConjuntamente con la contestación de la demanda o reconvención el/la...",
          "Tipo: Código electoral<br>Texto: #### Artículo 277: Excepciones. Traslado.\nDel escrito en el que se interponen excepciones, se corre ...",
          "Tipo: Código electoral<br>Texto: #### Artículo 278: Procedencia de Excepciones.\nUna vez firme la resolución que declara procedentes l...",
          "Tipo: Código electoral<br>Texto: #### Artículo 280: Sentencia.\nContestada la demanda o vencido el plazo para hacerlo, si ninguna de l...",
          "Tipo: Código electoral<br>Texto: #### Artículo 283: Traslado.\nEl traslado se efectúa por cédula o en forma personal, con carácter urg...",
          "Tipo: Código electoral<br>Texto: #### Artículo 285: Interposición de la Queja.\nInterpuesta la queja, la parte quejosa debe acompañar ...",
          "Tipo: Código electoral<br>Texto: #### Artículo 286: Recusación y Excusación. Recusación sin causa.\nSe prohíbe la recusación sin expre...",
          "Tipo: Código electoral<br>Texto: #### Artículo 288: Notificaciones.\nSalvo los casos previstos expresamente, todas las resoluciones se...",
          "Tipo: Código electoral<br>Texto: # TÍTULO DECIMOPRIMERO\nDE LOS CONSEJOS CONSULTIVOS\n\n#### Artículo 290: Consejo consultivo de Partido...",
          "Tipo: Código electoral<br>Texto: #### Artículo 291: Participación del Consejo Consultivo de Partidos Políticos.\nEl Consejo Consultivo...",
          "Tipo: Código electoral<br>Texto: #### Artículo 293: Consejo Consultivo de Participación Cívico-Electoral.\nEl Instituto de Gestión Ele...",
          "Tipo: Código electoral<br>Texto: #### Artículo 294: Participación del Consejo Consultivo de Participación Cívico- Electoral.\nEl Conse...",
          "Tipo: Código electoral<br>Texto: # TÍTULO DECIMOSEGUNDO\nNORMAS FINALES Y COMPLEMENTARIAS\n\n## CAPÍTULO ÚNICO\n\n#### Artículo 296: Suple...",
          "Tipo: Manual autoridades de mesa<br>Texto: ---\ntitle: \"Manual de Capacitación para Autoridades de Mesa\"\nsubtitle: \"Elecciones 2025 - Ciudad Aut...",
          "Tipo: Manual autoridades de mesa<br>Texto: # Qué votamos\n\nSe elegirá una lista de candidatos/as a Diputados/as para la Legislatura de la CABA m...",
          "Tipo: Manual autoridades de mesa<br>Texto: El incumplimiento sin justificación será sancionado conforme al Código Electoral de la Ciudad.\n\n# Pe...",
          "Tipo: Manual autoridades de mesa<br>Texto: # Preparación del espacio\n\n- Ubicar la mesa y urna en zona accesible.\n- Posicionar el dispositivo ev...",
          "Tipo: Manual autoridades de mesa<br>Texto: **Documentos válidos:**\n\n- Libreta Cívica\n- Libreta de Enrolamiento\n- DNI libreta verde o celeste\n- ...",
          "Tipo: Manual autoridades de mesa<br>Texto: # Cierre del Acto Electoral (18:00 h)\n\n- Cierre de puertas y recepción de votos pendientes.\n- Inicio..."
         ],
         "type": "scatter3d",
         "x": {
          "bdata": "9+MZQTjANUDYX+VAkrmZQH29UkBf4gFAIeI5QSqjJEE6dWFBhTMzQc/YfkH+Y5RBebZTQfMllkBBT8o+tRb/QNJOs7/2w6lAAzhLQUxmnUGsK5VBZwibQTMgqMFFQ7dBOFeLQVcX0j9Jc8BB2FTWQdU3CELbo81BXQbfQcbgz0DpPbtA04m8QOqzh0G9JIJBq42NQLWDlEHafs5B1nECQmMKFUJ/TwdCgfjZQUt3HcIdagvCW8vgwQunssBtdyLCgJ4lwnw2AsLv1wrCT0oFwnhUAMJnk+NBqBYEQuA+r0FZnK1BnzmUQV6rikHYdsFBSIzTQZUZ3EBDdrRB2e4pQQZMeEFFw39BbRSTQUMdhkElD3NBuqmnQfdpiUG01Y5BYBPEQJdf70CQUrlA2u9wQW9PTUEMa75BYAydQZJgUkGVsslB2dblQS6nIkFnfFDBx/BDwSQgqcEeIlI/23MVwc6rxMCdy1rBeKntQDetjcHVSSrBDIcdQEdiAL4wLYXBqv+PwCp4NsEDbejAW7U9wV0Ko8HqEtfAO7kPQRQrvMGtdSVBzFsiQPLaJsDfImRBXYkKwTHcAMBc6Ew/7E9VwBuF6cAIRQXCyK/lwZYdhcH8A1FB+jKQQcPyZ0H5JKVBkvK6PQdAHcEF+hPB+0v0QZFNNsG4y4PBJx+gwbx2LsEQeT/BNy/7wNnMMsENsr7AJjUuwKJr90BstDVAXYoBwEB7NL+6GqdAjg2TwBlEoEA0Nf49AyxIQaVXw8BI/ADAw+/PQH0ZAUB0Ho/BaxSvwVfbXEG6gErBsYfNwPs+OMHoDiTBCXj0QFUUGkG9gEHB0K8ZwT2VpcD+p7bAo/GOv2aGJkEn/IFBMw0gQUrkh0BCtjNBmdKsQLE650Bb98jAQ8ZDwF87M0G0St1AqkKkQEcPIcFAeoxAEN3dwQhCob4Y+GlASx2qQXEAdUHlpx1BizCCQdxq2T79tElBJEucwEyTGEB0mM9AVI2kv2g/msDZW8G/Bn7mv1qzzEEHj3HAFZYNQC1hy0EESl7AC3YuQDcCSUEdRyFBNXBzwU1nb75+8RK/AceQwE6bp8CKMhvBvyUmwWvTIMC4SA4/+M9bQUD+IUHYjhDBORqLwdpYnsGNmJrBpdnfwasJvMFDlqzBv0/dwZhP5MFm5fHBoT+WwYOrkMHcxNHBIAASwq0k/cFOrQ7C+iT5wa0sBsJH4n/BajWSwfYmtcGZbLHB+ebBwT3JXcGOHaPB+uCDwbnmh8FDmXLB6peqwQ7JZ8GPHa3Bja2HQU2Gy8BlxYPBPvWgwYxqUcF03ZbBj6rKwIkR18AOjGTB0gQ3wcOtOz6yAALBqQKxP2a8dECPKh1BWpoTQXudq0HKjwJCFhcTQkgQisHE5ZfB/KaiwdY4vME=",
          "dtype": "f4"
         },
         "y": {
          "bdata": "tDXCv6MWrcGlzQXAlMoFwdj9G8Gazcy/MGyWwanLJMHLTwDBO55wwaYLwsBcxV7BDNMXwdd+bMGF84DB46WDwbseG8GH6cDB50aowetJesEXkCbBNh69wCq9XEHHaUHBay7WvqWWT0G4cCbAvLtnwFJhz0C+DyXBZeoFwM4dm8FnLKfBlsPYwf+gmsCvOmDBq3IQwqAyOsEnZC/BJWkhwVy07MD6+sfAslSOwU3PacD3/P/AtqZxwXLIz8G7ORfBqk+Xv4VwN8HEvFJA/G7Gv5GtEcGVKiTBWyNmwbHFbkHDEOFAeHPYwDNTUEA1T5JAvmFPwH56dsHHsq2/ag9qwJ+bO78fQKHBUsrPweqDtsE5y93B9abmwaqfpsEDoadAJ7OAQeUrjUGMufpAGz9bQYptCkHufM9BkjmpQew9q0Hq5X9BGn+lQW75DMC8tVw91qyEv0pU4r/CfAVBiSCMwOyRNr8TCQNA0FgiwY6VD0HKJxHB9FEewe24gMGU5YLBwgHMPwW2fMHJVQfB3CsywcP2MMH9wgVBr2MaQVaSfUDNQatASTyXv3yu+z24/jBBXF2WwaX0MMFU4TxBxCASwWV5YMGbeqVBRuiXQUpLHcH+tgRBPjokQQ+ZgkE4535BkYD5QR6t40ElDu9BW1c8QUqSFkERUbRAiY9RwKdKgEFTomxBSrWMQSQyI0GBy5FAhYiBQSFMU0GJbqVAmj/1QJSaab5JdUpAa7ynwBe50cBs78u/+TkjQIVvpsDFNH9BM/9VQUw0RkFESMpBPGDcQcgrmEEVketB/D8LQUP0RUCmyxhB18gTQL86y0AYt8bBZ3WbQaQBikHAULlBd1GMQQYBCEITtPNBc7PcQQPF/EHT7cJB1/KtQeIAB0IopEfBsUQBwbKPD8E+s3HBe079wBwxDMAGGTPBHs/GQB6p0r4duWvBvTCIwPslI0GoNBBB3HtYQfmT6EAfydQ+46aFQIojQb8kw7e/oHRqQCtNM8AxdQHBWjExwTevYEFIfCxBeElrQejHnL/66WFA98AJQWZiFMHsefjAXPqWQXKX3UE4igxCrYDVQXiCv0HCSO5BU1+iQakkq0Eip5VBfGeqQZ6mv0H/KChBAABZQfDWtkDrWBVBN/scQX6lcUHOMmlBvI7iQOGkHkEMFntBGnfTwH1jR8HWoyfBCTCawMWWuEDC59JA5GePv135r8DF1BPBjuxdwdlYFMFDwpm/3UxdwIF+5kGwkxLBnFlywLsHYcH0Hkw/JLUEwaidwMALzy7AVBaKwc1C0MHSKdvBChXKwQF9DMIUGMHB8BcCwgI9yMEcRqvBIeoCwi3I58E3YIbB59XRwZ69AMIna87BbQUDwsLQ2MGnsc5AjIqYQNxZ3kEHHthBBzb6Qd96q0E=",
          "dtype": "f4"
         },
         "z": {
          "bdata": "k0RJQmyLRUJZ+SpCIRdYQp5CKEIvWD1CRkQ+QsL+OUIWJVhCYRtaQrS3NUIdJUNCTZMgQuo4RkLTnCtCzxMaQsbkR0K/UyxCrI4bQgd5JULfLl5B0TkBQZaBeUEi7QhBG5RwQc48TsLTfC3ABY33wLOz/L+DC0DBbBdHQGFBvsBer8E+O7KMP6m5H8HYmEvBR2uoP5KElcA08kU+G+N8wOmFGcCcUxTBdSywwGrwir0WVba/eHR2QLbeWEASVoxAUM7wQBAzeUCXCrpAHdv5QFv8QUGnE4BBs86FQZadjcGaIGHBLfyjQQ9Um0E5PbdBwvagQdBb0kG+S9FBqO/YQVQ/70HI3TxArUIzP7c8gcAdHiLB8Ss3wTYiOMGnL8NAfsk5QUr5g0FP0A1BBTGbQCWO7kBLFkxBWBN9QZ1ngUFUlEtBadLsQL5oYkGOgqBB3OFfQSkqgUFhEvRBJnb4QXx66EHs1/xBThtYQal9C8C0ZaVBrEd7QWXL5ECyJydBFhEyQcp83EAtuSNB1EFYQVvjkEGbBpFBOaOMwN+5z8CDKKNBJ1uzQbBdg0F6rLVB1b/dQTpT6kGwhQlCCIe7QXjYnEHb42ZA6KaoQMtmCkEDhgZCW2f1QRGz5UHEM/BBQR6JQel8okEpZWxB2RPuvWPU1EBH2gJB6zzGQBIkrEH8oIFBQ5YdQRbIAsILVO3BXlA5wqUkNcIPuR7C62wzwreLNMIc00TCgX8ywhrkL8JvyxbCUMUdwjilFMIlXh3C9L8awiRyCcJ8D3NBlJySQUkvAMJZ2xpBH5sWwhiCKcLZVDHCH+kGwqZz6sEkPeFBuWs4wPbwBsG+zJy/CuWQPuW/r8Akioy/tx2rvxcNgMDOrMzAGfEdwShKDUBPtJjB5QyswRovtcHlK6fBGr+pwbVGkkD/ndjBgvgQwvbYq8FoKQTC2f3Swb1sKMFtA3nB0H5pwYktLcHCEznBPonPwDfgJMEdFtzAyRegv8DouT+4aDLAsTn5wBQ8QcCFF23BlT5mwazh0MFDsJLBejmhwQWZMsCM6k5AhpNywcQDucGPRbbBLtuFwZeYtsGxNdzB94bewYnGCMJy/rbBSz/QwTSPssG54KDBW4dMwYFCx8G/EprBpDDhwTUp4MFbb6jBk9iFwGO2nsGFWprB3JAPwpURC8IWKQzCWwyRwf2i98EJxWvBSJNfwRJ3OcGCDvO/lAqhPyWdAsFlmq3BJ1DfwStx9sGZndPBEJnFwdm7wsEoi4zB/6WLweC6KcG9IivBA7k5QY0FQMHNk5HBFwFxwY+ANsE78qzAR/IqwR0viMDrWqHAqSdQwFDgCsG00Z2/mcuRQXLAlEEdG5NBOXCNQY/CD0HqkiBB43pfQR3uC8FpNGnBdK6fwcstLME=",
          "dtype": "f4"
         }
        }
       ],
       "layout": {
        "height": 700,
        "margin": {
         "b": 10,
         "l": 10,
         "r": 20,
         "t": 40
        },
        "scene": {
         "xaxis": {
          "title": {
           "text": "x"
          }
         },
         "yaxis": {
          "title": {
           "text": "y"
          }
         },
         "zaxis": {
          "title": {
           "text": "z"
          }
         }
        },
        "template": {
         "data": {
          "bar": [
           {
            "error_x": {
             "color": "#2a3f5f"
            },
            "error_y": {
             "color": "#2a3f5f"
            },
            "marker": {
             "line": {
              "color": "#E5ECF6",
              "width": 0.5
             },
             "pattern": {
              "fillmode": "overlay",
              "size": 10,
              "solidity": 0.2
             }
            },
            "type": "bar"
           }
          ],
          "barpolar": [
           {
            "marker": {
             "line": {
              "color": "#E5ECF6",
              "width": 0.5
             },
             "pattern": {
              "fillmode": "overlay",
              "size": 10,
              "solidity": 0.2
             }
            },
            "type": "barpolar"
           }
          ],
          "carpet": [
           {
            "aaxis": {
             "endlinecolor": "#2a3f5f",
             "gridcolor": "white",
             "linecolor": "white",
             "minorgridcolor": "white",
             "startlinecolor": "#2a3f5f"
            },
            "baxis": {
             "endlinecolor": "#2a3f5f",
             "gridcolor": "white",
             "linecolor": "white",
             "minorgridcolor": "white",
             "startlinecolor": "#2a3f5f"
            },
            "type": "carpet"
           }
          ],
          "choropleth": [
           {
            "colorbar": {
             "outlinewidth": 0,
             "ticks": ""
            },
            "type": "choropleth"
           }
          ],
          "contour": [
           {
            "colorbar": {
             "outlinewidth": 0,
             "ticks": ""
            },
            "colorscale": [
             [
              0,
              "#0d0887"
             ],
             [
              0.1111111111111111,
              "#46039f"
             ],
             [
              0.2222222222222222,
              "#7201a8"
             ],
             [
              0.3333333333333333,
              "#9c179e"
             ],
             [
              0.4444444444444444,
              "#bd3786"
             ],
             [
              0.5555555555555556,
              "#d8576b"
             ],
             [
              0.6666666666666666,
              "#ed7953"
             ],
             [
              0.7777777777777778,
              "#fb9f3a"
             ],
             [
              0.8888888888888888,
              "#fdca26"
             ],
             [
              1,
              "#f0f921"
             ]
            ],
            "type": "contour"
           }
          ],
          "contourcarpet": [
           {
            "colorbar": {
             "outlinewidth": 0,
             "ticks": ""
            },
            "type": "contourcarpet"
           }
          ],
          "heatmap": [
           {
            "colorbar": {
             "outlinewidth": 0,
             "ticks": ""
            },
            "colorscale": [
             [
              0,
              "#0d0887"
             ],
             [
              0.1111111111111111,
              "#46039f"
             ],
             [
              0.2222222222222222,
              "#7201a8"
             ],
             [
              0.3333333333333333,
              "#9c179e"
             ],
             [
              0.4444444444444444,
              "#bd3786"
             ],
             [
              0.5555555555555556,
              "#d8576b"
             ],
             [
              0.6666666666666666,
              "#ed7953"
             ],
             [
              0.7777777777777778,
              "#fb9f3a"
             ],
             [
              0.8888888888888888,
              "#fdca26"
             ],
             [
              1,
              "#f0f921"
             ]
            ],
            "type": "heatmap"
           }
          ],
          "histogram": [
           {
            "marker": {
             "pattern": {
              "fillmode": "overlay",
              "size": 10,
              "solidity": 0.2
             }
            },
            "type": "histogram"
           }
          ],
          "histogram2d": [
           {
            "colorbar": {
             "outlinewidth": 0,
             "ticks": ""
            },
            "colorscale": [
             [
              0,
              "#0d0887"
             ],
             [
              0.1111111111111111,
              "#46039f"
             ],
             [
              0.2222222222222222,
              "#7201a8"
             ],
             [
              0.3333333333333333,
              "#9c179e"
             ],
             [
              0.4444444444444444,
              "#bd3786"
             ],
             [
              0.5555555555555556,
              "#d8576b"
             ],
             [
              0.6666666666666666,
              "#ed7953"
             ],
             [
              0.7777777777777778,
              "#fb9f3a"
             ],
             [
              0.8888888888888888,
              "#fdca26"
             ],
             [
              1,
              "#f0f921"
             ]
            ],
            "type": "histogram2d"
           }
          ],
          "histogram2dcontour": [
           {
            "colorbar": {
             "outlinewidth": 0,
             "ticks": ""
            },
            "colorscale": [
             [
              0,
              "#0d0887"
             ],
             [
              0.1111111111111111,
              "#46039f"
             ],
             [
              0.2222222222222222,
              "#7201a8"
             ],
             [
              0.3333333333333333,
              "#9c179e"
             ],
             [
              0.4444444444444444,
              "#bd3786"
             ],
             [
              0.5555555555555556,
              "#d8576b"
             ],
             [
              0.6666666666666666,
              "#ed7953"
             ],
             [
              0.7777777777777778,
              "#fb9f3a"
             ],
             [
              0.8888888888888888,
              "#fdca26"
             ],
             [
              1,
              "#f0f921"
             ]
            ],
            "type": "histogram2dcontour"
           }
          ],
          "mesh3d": [
           {
            "colorbar": {
             "outlinewidth": 0,
             "ticks": ""
            },
            "type": "mesh3d"
           }
          ],
          "parcoords": [
           {
            "line": {
             "colorbar": {
              "outlinewidth": 0,
              "ticks": ""
             }
            },
            "type": "parcoords"
           }
          ],
          "pie": [
           {
            "automargin": true,
            "type": "pie"
           }
          ],
          "scatter": [
           {
            "fillpattern": {
             "fillmode": "overlay",
             "size": 10,
             "solidity": 0.2
            },
            "type": "scatter"
           }
          ],
          "scatter3d": [
           {
            "line": {
             "colorbar": {
              "outlinewidth": 0,
              "ticks": ""
             }
            },
            "marker": {
             "colorbar": {
              "outlinewidth": 0,
              "ticks": ""
             }
            },
            "type": "scatter3d"
           }
          ],
          "scattercarpet": [
           {
            "marker": {
             "colorbar": {
              "outlinewidth": 0,
              "ticks": ""
             }
            },
            "type": "scattercarpet"
           }
          ],
          "scattergeo": [
           {
            "marker": {
             "colorbar": {
              "outlinewidth": 0,
              "ticks": ""
             }
            },
            "type": "scattergeo"
           }
          ],
          "scattergl": [
           {
            "marker": {
             "colorbar": {
              "outlinewidth": 0,
              "ticks": ""
             }
            },
            "type": "scattergl"
           }
          ],
          "scattermap": [
           {
            "marker": {
             "colorbar": {
              "outlinewidth": 0,
              "ticks": ""
             }
            },
            "type": "scattermap"
           }
          ],
          "scattermapbox": [
           {
            "marker": {
             "colorbar": {
              "outlinewidth": 0,
              "ticks": ""
             }
            },
            "type": "scattermapbox"
           }
          ],
          "scatterpolar": [
           {
            "marker": {
             "colorbar": {
              "outlinewidth": 0,
              "ticks": ""
             }
            },
            "type": "scatterpolar"
           }
          ],
          "scatterpolargl": [
           {
            "marker": {
             "colorbar": {
              "outlinewidth": 0,
              "ticks": ""
             }
            },
            "type": "scatterpolargl"
           }
          ],
          "scatterternary": [
           {
            "marker": {
             "colorbar": {
              "outlinewidth": 0,
              "ticks": ""
             }
            },
            "type": "scatterternary"
           }
          ],
          "surface": [
           {
            "colorbar": {
             "outlinewidth": 0,
             "ticks": ""
            },
            "colorscale": [
             [
              0,
              "#0d0887"
             ],
             [
              0.1111111111111111,
              "#46039f"
             ],
             [
              0.2222222222222222,
              "#7201a8"
             ],
             [
              0.3333333333333333,
              "#9c179e"
             ],
             [
              0.4444444444444444,
              "#bd3786"
             ],
             [
              0.5555555555555556,
              "#d8576b"
             ],
             [
              0.6666666666666666,
              "#ed7953"
             ],
             [
              0.7777777777777778,
              "#fb9f3a"
             ],
             [
              0.8888888888888888,
              "#fdca26"
             ],
             [
              1,
              "#f0f921"
             ]
            ],
            "type": "surface"
           }
          ],
          "table": [
           {
            "cells": {
             "fill": {
              "color": "#EBF0F8"
             },
             "line": {
              "color": "white"
             }
            },
            "header": {
             "fill": {
              "color": "#C8D4E3"
             },
             "line": {
              "color": "white"
             }
            },
            "type": "table"
           }
          ]
         },
         "layout": {
          "annotationdefaults": {
           "arrowcolor": "#2a3f5f",
           "arrowhead": 0,
           "arrowwidth": 1
          },
          "autotypenumbers": "strict",
          "coloraxis": {
           "colorbar": {
            "outlinewidth": 0,
            "ticks": ""
           }
          },
          "colorscale": {
           "diverging": [
            [
             0,
             "#8e0152"
            ],
            [
             0.1,
             "#c51b7d"
            ],
            [
             0.2,
             "#de77ae"
            ],
            [
             0.3,
             "#f1b6da"
            ],
            [
             0.4,
             "#fde0ef"
            ],
            [
             0.5,
             "#f7f7f7"
            ],
            [
             0.6,
             "#e6f5d0"
            ],
            [
             0.7,
             "#b8e186"
            ],
            [
             0.8,
             "#7fbc41"
            ],
            [
             0.9,
             "#4d9221"
            ],
            [
             1,
             "#276419"
            ]
           ],
           "sequential": [
            [
             0,
             "#0d0887"
            ],
            [
             0.1111111111111111,
             "#46039f"
            ],
            [
             0.2222222222222222,
             "#7201a8"
            ],
            [
             0.3333333333333333,
             "#9c179e"
            ],
            [
             0.4444444444444444,
             "#bd3786"
            ],
            [
             0.5555555555555556,
             "#d8576b"
            ],
            [
             0.6666666666666666,
             "#ed7953"
            ],
            [
             0.7777777777777778,
             "#fb9f3a"
            ],
            [
             0.8888888888888888,
             "#fdca26"
            ],
            [
             1,
             "#f0f921"
            ]
           ],
           "sequentialminus": [
            [
             0,
             "#0d0887"
            ],
            [
             0.1111111111111111,
             "#46039f"
            ],
            [
             0.2222222222222222,
             "#7201a8"
            ],
            [
             0.3333333333333333,
             "#9c179e"
            ],
            [
             0.4444444444444444,
             "#bd3786"
            ],
            [
             0.5555555555555556,
             "#d8576b"
            ],
            [
             0.6666666666666666,
             "#ed7953"
            ],
            [
             0.7777777777777778,
             "#fb9f3a"
            ],
            [
             0.8888888888888888,
             "#fdca26"
            ],
            [
             1,
             "#f0f921"
            ]
           ]
          },
          "colorway": [
           "#636efa",
           "#EF553B",
           "#00cc96",
           "#ab63fa",
           "#FFA15A",
           "#19d3f3",
           "#FF6692",
           "#B6E880",
           "#FF97FF",
           "#FECB52"
          ],
          "font": {
           "color": "#2a3f5f"
          },
          "geo": {
           "bgcolor": "white",
           "lakecolor": "white",
           "landcolor": "#E5ECF6",
           "showlakes": true,
           "showland": true,
           "subunitcolor": "white"
          },
          "hoverlabel": {
           "align": "left"
          },
          "hovermode": "closest",
          "mapbox": {
           "style": "light"
          },
          "paper_bgcolor": "white",
          "plot_bgcolor": "#E5ECF6",
          "polar": {
           "angularaxis": {
            "gridcolor": "white",
            "linecolor": "white",
            "ticks": ""
           },
           "bgcolor": "#E5ECF6",
           "radialaxis": {
            "gridcolor": "white",
            "linecolor": "white",
            "ticks": ""
           }
          },
          "scene": {
           "xaxis": {
            "backgroundcolor": "#E5ECF6",
            "gridcolor": "white",
            "gridwidth": 2,
            "linecolor": "white",
            "showbackground": true,
            "ticks": "",
            "zerolinecolor": "white"
           },
           "yaxis": {
            "backgroundcolor": "#E5ECF6",
            "gridcolor": "white",
            "gridwidth": 2,
            "linecolor": "white",
            "showbackground": true,
            "ticks": "",
            "zerolinecolor": "white"
           },
           "zaxis": {
            "backgroundcolor": "#E5ECF6",
            "gridcolor": "white",
            "gridwidth": 2,
            "linecolor": "white",
            "showbackground": true,
            "ticks": "",
            "zerolinecolor": "white"
           }
          },
          "shapedefaults": {
           "line": {
            "color": "#2a3f5f"
           }
          },
          "ternary": {
           "aaxis": {
            "gridcolor": "white",
            "linecolor": "white",
            "ticks": ""
           },
           "baxis": {
            "gridcolor": "white",
            "linecolor": "white",
            "ticks": ""
           },
           "bgcolor": "#E5ECF6",
           "caxis": {
            "gridcolor": "white",
            "linecolor": "white",
            "ticks": ""
           }
          },
          "title": {
           "x": 0.05
          },
          "xaxis": {
           "automargin": true,
           "gridcolor": "white",
           "linecolor": "white",
           "ticks": "",
           "title": {
            "standoff": 15
           },
           "zerolinecolor": "white",
           "zerolinewidth": 2
          },
          "yaxis": {
           "automargin": true,
           "gridcolor": "white",
           "linecolor": "white",
           "ticks": "",
           "title": {
            "standoff": 15
           },
           "zerolinecolor": "white",
           "zerolinewidth": 2
          }
         }
        },
        "title": {
         "text": "Visualización 3D de la base vectorial (Chroma)"
        },
        "width": 900
       }
      }
     },
     "metadata": {},
     "output_type": "display_data"
    }
   ],
   "source": [
    "# Reducción de dimensionalidad a 3D\n",
    "tsne_3d = TSNE(n_components=3, random_state=42)\n",
    "reduced_vectors_3d = tsne_3d.fit_transform(vectors)\n",
    "\n",
    "# Visualización 3D\n",
    "fig = go.Figure(data=[go.Scatter3d(\n",
    "    x=reduced_vectors_3d[:, 0],\n",
    "    y=reduced_vectors_3d[:, 1],\n",
    "    z=reduced_vectors_3d[:, 2],\n",
    "    mode='markers',\n",
    "    marker=dict(size=5, color=colors, opacity=0.8),\n",
    "    text=[f\"Tipo: {t}<br>Texto: {d[:100]}...\" for t, d in zip(doc_types, documents)],\n",
    "    hoverinfo='text'\n",
    ")])\n",
    "\n",
    "fig.update_layout(\n",
    "    title='Visualización 3D de la base vectorial (Chroma)',\n",
    "    scene=dict(xaxis_title='x', yaxis_title='y', zaxis_title='z'),\n",
    "    width=900,\n",
    "    height=700,\n",
    "    margin=dict(r=20, b=10, l=10, t=40)\n",
    ")\n",
    "\n",
    "fig.show()\n",
    "\n"
   ]
  },
  {
   "cell_type": "markdown",
   "id": "9468860b-86a2-41df-af01-b2400cc985be",
   "metadata": {},
   "source": [
    "## Unimos todo con LangChain"
   ]
  },
  {
   "cell_type": "code",
   "execution_count": 13,
   "id": "129c7d1e-0094-4479-9459-f9360b95f244",
   "metadata": {},
   "outputs": [
    {
     "name": "stderr",
     "output_type": "stream",
     "text": [
      "C:\\Users\\Usuario\\AppData\\Local\\Temp\\ipykernel_11224\\3188444933.py:12: LangChainDeprecationWarning:\n",
      "\n",
      "Please see the migration guide at: https://python.langchain.com/docs/versions/migrating_memory/\n",
      "\n"
     ]
    }
   ],
   "source": [
    "# El precio es un factor importante para nuestra empresa, por lo tanto vamos modelos de bajo costo\n",
    "\n",
    "# Crear un nuevo modelo de chat con OpenAI\n",
    "#MODEL = \"gpt-4o-mini\"  # Este modelo es una versión más económica dentro de la familia GPT-4o\n",
    "#llm = ChatOpenAI(temperature=0.7, model_name=MODEL)\n",
    "\n",
    "# Alternativa: Para usar Ollama localmente, descomentá esta línea en su lugar\n",
    "llm = ChatOpenAI(temperature=0.7, model_name='llama3.2', base_url='http://localhost:11434/v1', api_key='ollama')\n",
    "\n",
    "# Configurar la memoria de conversación para el chat\n",
    "# Esto permite que el modelo recuerde lo que se dijo anteriormente en la conversación\n",
    "memory = ConversationBufferMemory(memory_key='chat_history', return_messages=True)\n",
    "\n",
    "# El \"retriever\" es una abstracción sobre el VectorStore que se usará durante RAG (Retrieval-Augmented Generation)\n",
    "retriever = vectorstore.as_retriever(search_kwargs={\"k\": 25})\n",
    "\n",
    "# Integración de todos los componentes:\n",
    "# Se crea una cadena de conversación que incluye:\n",
    "# - el modelo de lenguaje (llm)\n",
    "# - el sistema de recuperación de información (retriever)\n",
    "# - la memoria conversacional (memory)\n",
    "conversation_chain = ConversationalRetrievalChain.from_llm(\n",
    "    llm=llm,\n",
    "    retriever=retriever,\n",
    "    memory=memory\n",
    ")\n"
   ]
  },
  {
   "cell_type": "code",
   "execution_count": 14,
   "id": "572cdd4c",
   "metadata": {},
   "outputs": [
    {
     "name": "stdout",
     "output_type": "stream",
     "text": [
      "Total embeddings indexados: 263\n"
     ]
    }
   ],
   "source": [
    "print(\"Total embeddings indexados:\", vectorstore._collection.count())\n"
   ]
  },
  {
   "cell_type": "code",
   "execution_count": 15,
   "id": "9a2423c1",
   "metadata": {},
   "outputs": [
    {
     "name": "stdout",
     "output_type": "stream",
     "text": [
      "Counter({'Código electoral': 237, 'Candidatos': 20, 'Manual autoridades de mesa': 6})\n"
     ]
    }
   ],
   "source": [
    "from collections import Counter\n",
    "cnt = Counter(chunk.metadata.get(\"doc_type\") for chunk in chunks)\n",
    "print(cnt)\n"
   ]
  },
  {
   "cell_type": "code",
   "execution_count": 16,
   "id": "dc30ab39",
   "metadata": {},
   "outputs": [
    {
     "name": "stdout",
     "output_type": "stream",
     "text": [
      "Candidatos [(Document(id='ee4f6012-6b79-4987-897e-bef453679d26', metadata={'doc_type': 'Candidatos', 'source': 'knowledge-base\\\\Candidatos\\\\Lista completa candidatos - Código 1.md'}, page_content='# Lista 1 – MOVIMIENTO DE INTEGRACIÓN Y DESARROLLO\\n\\n**Candidatos (lista completa)**\\n\\n1. Caruso Lombardi Ricardo Daniel  \\n2. Villar Agustina  \\n3. Arancio Miguel Angel  \\n4. Lernoud María del Pilar  \\n5. Testori Schroeder Pablo César Luciano  \\n6. Radice Andrea Carla  \\n7. Vega Osvaldo Rubén  \\n8. Young Valeria Verónica  \\n9. Devita Rodrigo Nahuel  \\n10. De Santi Mónica Emilia  \\n11. Peña Rodrigo  \\n12. Rotoli María Eugenia  \\n13. Mosquera Andrés Alberto  \\n14. Arias Pereyra Gabriela Laura  \\n15. Uz Juan Ignacio  \\n16. Albrecht María Alejandra  \\n17. Baletti Lucas Agustín  \\n18. Herrera Diana Melisa  \\n19. Buletti Carlos Alberto  \\n20. Calabrese Sandra María  \\n21. Mario Castiñeira Christian Diego  \\n22. Nappa Sol Mariana  \\n23. Ravanetti Américo Marcelo  \\n24. Pace Madelaine Aixa  \\n25. Sapia Ariel Francisco  \\n26. Bufalo Noelia  \\n27. Camba Santiago José  \\n28. Pereyra María Elisa  \\n29. Cabre Juan José Ramón  \\n30. Herrera Marisol Elizabeth'), 0.253867506980896)]\n",
      "Código electoral [(Document(id='0b9e7064-5264-4c0b-bf0e-d752925a931c', metadata={'source': 'knowledge-base\\\\Código electoral\\\\Anexo I - Título I.md', 'doc_type': 'Código electoral'}, page_content='# TÍTULO PRIMERO\\nÁMBITO DE APLICACIÓN, PRINCIPIOS Y DISPOSICIONES GENERALES\\n\\n## CAPÍTULO ÚNICO\\n\\n#### Artículo 1: Ámbito de aplicación. Los procesos electorales para la\\nelección de Jefe/a de Gobierno, Vicejefe/a de Gobierno, Diputados/as,\\nMiembros de Juntas Comunales y convencionales constituyentes, así como\\ntambién los que se realicen en el marco de los institutos de consulta y\\nparticipación ciudadana establecidos en el Libro Segundo, Título Segundo\\nde la Constitución de la Ciudad Autónoma de Buenos Aires, se rigen por el\\npresente Código.\\n\\n#### Artículo 2: Garantías. Se garantiza a los habitantes de la Ciudad Autónoma\\nde Buenos Aires el pleno ejercicio de sus derechos políticos inherentes\\na la ciudadanía, en los términos de la normativa vigente y conforme los\\nprincipios democrático, republicano y representativo, de acuerdo a lo\\nestablecido en el artículo 62 de la Constitución de la Ciudad Autónoma de\\nBuenos Aires.'), 0.23997220396995544)]\n",
      "Manual autoridades de mesa [(Document(id='bb367ea5-d639-46c7-b669-399171d7f77b', metadata={'source': 'knowledge-base\\\\Código electoral\\\\Anexo I - Título VIII.md', 'doc_type': 'Código electoral'}, page_content='#### Artículo 193: Capacitación Electoral. La capacitación integral de todos/as los/as ciudadanos/as\\ndesignados/as como autoridades de mesa debe ser realizada por el Instituto de Gestión Electoral en forma\\nprevia a las elecciones primarias y, de ser necesario, elecciones generales y segunda vuelta.'), 0.3122981786727905)]\n"
     ]
    }
   ],
   "source": [
    "# ¿están todos los doc_type en el vectorstore?\n",
    "for doc_type, _ in cnt.items():\n",
    "    example = next(ch for ch in chunks if ch.metadata[\"doc_type\"] == doc_type)\n",
    "    # intenta buscar ese chunk:\n",
    "    res = vectorstore.similarity_search_with_score(example.page_content[:50], k=1)\n",
    "    print(doc_type, res)\n"
   ]
  },
  {
   "cell_type": "code",
   "execution_count": 17,
   "id": "968e7bf2-e862-4679-a11f-6c1efb6ec8ca",
   "metadata": {},
   "outputs": [
    {
     "name": "stdout",
     "output_type": "stream",
     "text": [
      "No, no es posible votar disfrazado de un candidato. En la mayoría de los países democráticos, el voto es un derecho ciudadano que se ejerce de manera directa y personal, y se requiere una identificación específica para garantizar la autenticidad del voto.\n",
      "\n",
      "En las elecciones, los votantes deben presentarse con su credencial o documento de identidad correspondiente, y deben identificarse ante los funcionarios electorales. El disfrazarse de un candidato o intentar votar en nombre de otra persona es una forma de fraude electoral y está estrictamente prohibido por la ley.\n",
      "\n",
      "Si estás interesado en apoyar a un candidato específico, lo mejor es hacerlo de manera abierta y respetuosa, participando en las discusiones políticas, difundiendo información sobre su programa y políticas, o voluntariéndote como voluntario en su campaña. De esta manera, puedes expresar tu opinión y apoyo de manera ética y responsable.\n",
      "\n",
      "Es importante recordar que el voto es un derecho y una responsabilidad ciudadana, y debe ser ejercido de manera honesta y transparente para garantizar la integridad del proceso electoral.\n"
     ]
    }
   ],
   "source": [
    "# Probamos una pregunta (no tiene el prompt de sistema)\n",
    "\n",
    "query = \"¿Puedo ir a votar disfrazado de un candidato?\"\n",
    "result = conversation_chain.invoke({\"question\": query})\n",
    "print(result[\"answer\"])"
   ]
  },
  {
   "cell_type": "code",
   "execution_count": 18,
   "id": "5b5a9013-d5d4-4e25-9e7c-cdbb4f33e319",
   "metadata": {},
   "outputs": [],
   "source": [
    "from langchain.prompts import PromptTemplate\n",
    "from langchain.chains import ConversationalRetrievalChain\n",
    "\n",
    "# Añadimos esta clase para investigar qué se envía \"detrás de escena\" durante una consulta\n",
    "from langchain_core.callbacks import StdOutCallbackHandler\n",
    "\n",
    "memory = ConversationBufferMemory(memory_key='chat_history', return_messages=True)\n",
    "\n",
    "#Prompt de sistema. \n",
    "# Obs: Podría mejorarse: Es algo antipático, si se le dice hola dice que no encuentra la respuesta. Pero no es por el prompt sino que siempre busca contexto\n",
    "template = \"\"\"You are **ElectoAI**, an expert electoral assistant for the **2025 legislative elections in the City of Buenos Aires (CABA)**.\n",
    "\n",
    "**Role & Scope**  \n",
    "- Proporcionás respuestas **claras**, **precisas** y **neutrales** sobre procedimientos electorales, normativas vigentes, situaciones prácticas en el lugar de votación y candidaturas, basándote únicamente en la información provista en el contexto recuperado.  \n",
    "- El contexto puede incluir documentos oficiales (leyes, reglamentos, instructivos, padrones) y también materiales informativos confiables sobre candidatos, boletas y listas.  \n",
    "- Si no hay información suficiente en el contexto para responder, decí: “Lo siento, no dispongo de información sobre ese punto.”\n",
    "\n",
    "**Instrucciones**  \n",
    "1. **Usá solo la información incluida en la sección de contexto más abajo. No inventes ni completes por fuera.  \n",
    "2. Siempre que sea posible, **mencioná la fuente** del dato (“Según la Ley X…”, “Según el instructivo…”, “Según el material informativo…”).  \n",
    "3. Respondé primero de forma **breve y directa**, luego ampliá si es necesario (máximo 2 oraciones).  \n",
    "4. Usá un lenguaje **neutral**, **claro** y **accesible** para jueces de mesa, fiscales, autoridades y votantes.\n",
    "\n",
    "**Casos que podés responder**  \n",
    "- Procedimientos ante situaciones comunes (faltan boletas, DNI no válido, votantes enojados, etc.).  \n",
    "- Reglas sobre el acceso al local (ropa partidaria, acompañantes, animales, horarios).  \n",
    "- Información sobre **candidatos, listas y boletas**, si está presente en el contexto.  \n",
    "- Consultas de **autoridades de mesa**, como:  \n",
    "  - ¿Qué hacer si no se presenta el presidente?  \n",
    "  - ¿Quién debe firmar el acta?  \n",
    "  - ¿Quién reemplaza a quién en caso de ausencia?  \n",
    "  - ¿Quién puede asistir al escrutinio?  \n",
    "  - ¿Qué responsabilidad tiene cada cargo en la mesa?  \n",
    "  - ¿Qué se hace si falta una autoridad o un fiscal?\n",
    "\n",
    "---\n",
    "\n",
    "**Contexto**:  \n",
    "{context}\n",
    "\n",
    "**Pregunta**:  \n",
    "{question}\n",
    "\n",
    "**Respuesta**:\n",
    "\"\"\"\n",
    "\n",
    "custom_prompt = PromptTemplate.from_template(template)\n",
    "\n",
    "# Ahora lo pasamos al construir la cadena\n",
    "conversation_chain = ConversationalRetrievalChain.from_llm(\n",
    "    llm=llm,\n",
    "    retriever=retriever,\n",
    "    memory=memory,\n",
    "    combine_docs_chain_kwargs={\"prompt\": custom_prompt},\n",
    "    callbacks=[StdOutCallbackHandler()]  # Este callback muestra en consola lo que se envía y recibe\n",
    ")"
   ]
  },
  {
   "cell_type": "markdown",
   "id": "bbbcb659-13ce-47ab-8a5e-01b930494964",
   "metadata": {},
   "source": [
    "Ahora vamos a levantar esto con Gradio usando la interfaz de Chat -\n"
   ]
  },
  {
   "cell_type": "code",
   "execution_count": 19,
   "id": "c3536590-85c7-4155-bd87-ae78a1467670",
   "metadata": {},
   "outputs": [],
   "source": [
    "# Encapsulamos la lógica del chat en una función\n",
    "def chat(pregunta, historial):\n",
    "    # Se invoca la cadena de conversación pasando la pregunta del usuario\n",
    "    resultado = conversation_chain.invoke({\"question\": pregunta})\n",
    "    \n",
    "    # Imprimimos en consola:\n",
    "    print(resultado[\"answer\"])\n",
    "    \n",
    "    # Se devuelve solo la respuesta generada por el modelo\n",
    "    return resultado[\"answer\"]\n"
   ]
  },
  {
   "cell_type": "code",
   "execution_count": 20,
   "id": "b252d8c1-61a8-406d-b57a-8f708a62b014",
   "metadata": {},
   "outputs": [
    {
     "name": "stdout",
     "output_type": "stream",
     "text": [
      "* Running on local URL:  http://127.0.0.1:7860\n",
      "* Running on public URL: https://ece5472192c8e27ae6.gradio.live\n",
      "\n",
      "This share link expires in 1 week. For free permanent hosting and GPU upgrades, run `gradio deploy` from the terminal in the working directory to deploy to Hugging Face Spaces (https://huggingface.co/spaces)\n"
     ]
    },
    {
     "data": {
      "text/html": [
       "<div><iframe src=\"https://ece5472192c8e27ae6.gradio.live\" width=\"100%\" height=\"500\" allow=\"autoplay; camera; microphone; clipboard-read; clipboard-write;\" frameborder=\"0\" allowfullscreen></iframe></div>"
      ],
      "text/plain": [
       "<IPython.core.display.HTML object>"
      ]
     },
     "metadata": {},
     "output_type": "display_data"
    },
    {
     "name": "stdout",
     "output_type": "stream",
     "text": [
      "\n",
      "\n",
      "\u001b[1m> Entering new ConversationalRetrievalChain chain...\u001b[0m\n",
      "\n",
      "\n",
      "\u001b[1m> Entering new StuffDocumentsChain chain...\u001b[0m\n",
      "\n",
      "\n",
      "\u001b[1m> Entering new LLMChain chain...\u001b[0m\n",
      "Prompt after formatting:\n",
      "\u001b[32;1m\u001b[1;3mYou are **ElectoAI**, an expert electoral assistant for the **2025 legislative elections in the City of Buenos Aires (CABA)**.\n",
      "\n",
      "**Role & Scope**  \n",
      "- Proporcionás respuestas **claras**, **precisas** y **neutrales** sobre procedimientos electorales, normativas vigentes, situaciones prácticas en el lugar de votación y candidaturas, basándote únicamente en la información provista en el contexto recuperado.  \n",
      "- El contexto puede incluir documentos oficiales (leyes, reglamentos, instructivos, padrones) y también materiales informativos confiables sobre candidatos, boletas y listas.  \n",
      "- Si no hay información suficiente en el contexto para responder, decí: “Lo siento, no dispongo de información sobre ese punto.”\n",
      "\n",
      "**Instrucciones**  \n",
      "1. **Usá solo la información incluida en la sección de contexto más abajo. No inventes ni completes por fuera.  \n",
      "2. Siempre que sea posible, **mencioná la fuente** del dato (“Según la Ley X…”, “Según el instructivo…”, “Según el material informativo…”).  \n",
      "3. Respondé primero de forma **breve y directa**, luego ampliá si es necesario (máximo 2 oraciones).  \n",
      "4. Usá un lenguaje **neutral**, **claro** y **accesible** para jueces de mesa, fiscales, autoridades y votantes.\n",
      "\n",
      "**Casos que podés responder**  \n",
      "- Procedimientos ante situaciones comunes (faltan boletas, DNI no válido, votantes enojados, etc.).  \n",
      "- Reglas sobre el acceso al local (ropa partidaria, acompañantes, animales, horarios).  \n",
      "- Información sobre **candidatos, listas y boletas**, si está presente en el contexto.  \n",
      "- Consultas de **autoridades de mesa**, como:  \n",
      "  - ¿Qué hacer si no se presenta el presidente?  \n",
      "  - ¿Quién debe firmar el acta?  \n",
      "  - ¿Quién reemplaza a quién en caso de ausencia?  \n",
      "  - ¿Quién puede asistir al escrutinio?  \n",
      "  - ¿Qué responsabilidad tiene cada cargo en la mesa?  \n",
      "  - ¿Qué se hace si falta una autoridad o un fiscal?\n",
      "\n",
      "---\n",
      "\n",
      "**Contexto**:  \n",
      "#### Artículo 209: Procedimiento de entrega de la boleta. El día del comicio, si la identidad del/la elector/a\n",
      "no es impugnada, el/la Presidente de Mesa entregará una boleta sin utilizar, y de corresponder un Sobre\n",
      "de Votación, al/la elector/a.\n",
      "Excepcionalmente, cuando accidentalmente se hubiese inutilizado la anterior, podrá suministrarse otra\n",
      "boleta al/la elector/a contra entrega a la autoridad de mesa de la boleta inutilizada para su posterior\n",
      "devolución al Tribunal Electoral en la forma que este disponga.\n",
      "\n",
      "#### Artículo 144: Diseño de Boleta. El diseño de la boleta a utilizar en el Sistema Electrónico de Emisión de\n",
      "Boleta es aprobado por el Instituto de Gestión Electoral, debiendo observar las medidas de seguridad\n",
      "pertinentes, así como los estándares mínimos previstos en el presente Código.\n",
      "La boleta se confecciona observando los siguientes requisitos en su registro impreso:\n",
      "1) La fecha de la elección.\n",
      "2) La individualización de la comuna.\n",
      "3) La opción escogida por el/la elector/a para cada categoría de cargos que comprenda la elección.\n",
      "El Instituto de Gestión Electoral establecerá el tipo y tamaño de la letra, pudiendo autorizar un diseño\n",
      "que permita a la boleta plegarse sobre sí misma a fin de prescindir de la utilización de un sobre. En este\n",
      "supuesto, debe preverse que el diseño de la boleta y el papel utilizado para su confección, impidan revelar\n",
      "el sentido del voto antes del escrutinio. La impresión debe ser en papel no transparente y con la indicación\n",
      "gráfica de sus pliegues.\n",
      "Las boletas no podrán en ningún caso ser confeccionadas ni impresas por las agrupaciones políticas.\n",
      "\n",
      "#### Artículo 113: Contenido y diseño de la Boleta Única. Requisitos. La Boleta Única es confeccionada por el\n",
      "Instituto de Gestión Electoral, respetando los siguientes requisitos en su contenido y diseño:\n",
      "1) Deberá establecer con claridad la fecha de la elección y la individualización de la comuna.\n",
      "2) El diseño de la boleta puede realizarse de modo tal que permita plegarse sobre sí misma, a fin de\n",
      "prescindir de la utilización del sobre. En este supuesto, debe preverse que el diseño de la boleta y el papel\n",
      "utilizado impidan revelar el contenido del voto antes del escrutinio.\n",
      "3) Debe contemplar un espacio demarcado para que se inserten las firmas de las autoridades de mesa y\n",
      "los/as fiscales de las agrupaciones políticas.\n",
      "4) El tipo y tamaño de la letra debe ser idéntico para cada una de las listas de precandidatos/as o\n",
      "candidatos/as.\n",
      "5) Se determinarán las dimensiones de la Boleta Única de acuerdo al número de listas de precandidatos/\n",
      "as o candidatos/as intervinientes en la elección.\n",
      "6) Ningún/a candidato/a podrá figurar más de una vez en la Boleta Única.\n",
      "En las elecciones generales, cada agrupación política podrá inscribir en la Boleta Única sólo una (1) lista\n",
      "de candidatos/as por cada categoría de cargos electivos.\n",
      "El Instituto de Gestión Electoral deberá asimismo establecer un diseño de boleta o herramientas\n",
      "complementarias, tales como la implementación de dispositivos de audio o táctiles, que faciliten el sufragio\n",
      "de las personas no videntes.\n",
      "\n",
      "#### Artículo 112: Características de la Boleta Única. La Boleta Única incluye todas las categorías para las\n",
      "que se realiza la elección claramente distinguidas y está dividida en espacios, franjas o columnas para\n",
      "cada agrupación política que cuente con listas de precandidatos/as o candidatos/as oficializadas. Los\n",
      "espacios, franjas o columnas se distribuyen homogéneamente entre las distintas listas de precandidatos/\n",
      "as o candidatos/as oficializadas, e identifican con claridad:\n",
      "1) El nombre de la agrupación política.\n",
      "2) La sigla, monograma, logotipo, escudo, símbolo, emblema o distintivo con el color que identifique a la\n",
      "agrupación política y su número de identificación.\n",
      "3) Cuando corresponda, letra de identificación de las listas de precandidatos/as.\n",
      "4) La categoría de cargos a cubrir.\n",
      "5) La Boleta Única estará dividida en filas horizontales de igual dimensión para cada agrupación política\n",
      "que cuente con listas de candidatos/as oficializadas. A su vez, se dividirá en columnas que delimitarán\n",
      "cada una de las categorías de cargos electivos.\n",
      "6) Para el caso de los cargos a Jefe/a de Gobierno y Vicejefe/a de Gobierno: nombre, apellido y fotografía\n",
      "a color del precandidato/a o candidato/a a Jefe/a de Gobierno.\n",
      "7) Para el caso de la lista de Diputados/as: nombre y apellido de al menos los tres (3) primeros\n",
      "precandidatos/as o candidatos/as titulares y fotografía a color del primer precandidato/a o candidato/a\n",
      "titular.\n",
      "8) Para el caso de la lista de Miembros de la Junta Comunal: nombre, apellido y fotografía del/la primer/a\n",
      "precandidato/a o candidato/a titular.\n",
      "9) Para el caso de Convencionales Constituyentes, nombre y apellido de al menos los tres (3) primeros\n",
      "precandidatos/as o candidatos/as titulares;\n",
      "10) Un (1) casillero en blanco próximo a cada tramo de cargo electivo, a efectos de que el/la elector/a\n",
      "marque la opción de su preferencia.\n",
      "11) Un (1) casillero en blanco de mayores dimensiones al especificado en el inciso anterior, para que el/la\n",
      "elector/a marque, si así lo desea, la opción de votar por lista completa de precandidatos/as o candidatos/as.\n",
      "Cuando el proceso electoral se lleve a cabo en virtud de los institutos previstos en los artículos 65 y 66 de\n",
      "la Constitución de la Ciudad Autónoma de Buenos Aires, el Instituto de Gestión Electoral deberá adecuar\n",
      "el diseño de la Boleta Única a tal efecto.\n",
      "\n",
      "#### Artículo 119: Publicación y difusión. El Instituto de Gestión Electoral publica en su sitio web, en el Boletín\n",
      "Oficial de la Ciudad de Buenos Aires y en diarios de circulación masiva en el ámbito de la Ciudad, los\n",
      "facsímiles de la Boleta aprobada y, en caso de corresponder, el diseño de visualización de las pantallas\n",
      "del Sistema Electrónico de emisión de Boleta.\n",
      "El Instituto de Gestión Electoral dispone la entrega de los afiches de exhibición de las listas completas\n",
      "a las agrupaciones políticas para su difusión. Los afiches serán exhibidos en cartelera pública sin costos\n",
      "para las listas oficializadas.\n",
      "\n",
      "#### Artículo 120: Plazo para la provisión de Boletas, afiches y/o dispositivos electrónicos. El Instituto de\n",
      "Gestión Electoral debe procurar los medios necesarios para que las boletas, los afiches y, de corresponder,\n",
      "los dispositivos electrónicos del Sistema de Emisión de Boleta a utilizar, se encuentren disponibles para\n",
      "su uso con una antelación no menor a diez (10) días corridos del acto electoral.\n",
      "\n",
      "## CAPÍTULO II\n",
      "INSTRUMENTO DE SUFRAGIO\n",
      "\n",
      "#### Artículo 111: Boleta Única. Se establece como instrumento de sufragio para los procesos electorales de\n",
      "precandidatos/as y candidatos/as de agrupaciones políticas a todos los cargos públicos electivos locales\n",
      "de la Ciudad Autónoma de Buenos Aires, así como para los procedimientos de participación ciudadana\n",
      "consagrados en los artículos 65, 66 y 67 de la Constitución de la Ciudad, a la Boleta Única, de acuerdo a\n",
      "los criterios establecidos en el presente Código.\n",
      "El Instituto de Gestión Electoral podrá incorporar tecnologías electrónicas en el procedimiento de emisión\n",
      "del voto, disponiendo la implementación de un Sistema Electrónico de Emisión de Boleta en los términos\n",
      "del artículo 136. En ese caso, las características del instrumento de sufragio se regirán por las disposiciones\n",
      "previstas en el Capítulo III del presente Título.\n",
      "\n",
      "#### Artículo 210: Emisión del voto. La emisión del sufragio se lleva a cabo mediante el siguiente procedimiento:\n",
      "1) Cuando el/la elector/a se encuentre en el puesto de votación o frente al dispositivo electrónico del\n",
      "Sistema electrónico de emisión de Boleta, debe seleccionar la opción electoral de su preferencia.\n",
      "2) Confirmada su selección, constatará que su voto se corresponde con la voluntad manifestada al\n",
      "realizar la selección. En caso de coincidir, doblará debidamente la boleta por sus pliegues y la introducirá\n",
      "en el sobre de votación, si se hubiere provisto uno a tal efecto. 3) Finalmente, introducirá la boleta\n",
      "plegada, o en su caso el sobre de votación, dentro de la urna. Mediante este acto se configurará la emisión\n",
      "de su voto.\n",
      "\n",
      "#### Artículo 203: Derecho a votar. Toda persona que figure en el padrón y acredite su identidad mediante la\n",
      "exhibición del Documento Nacional de Identidad habilitante, en las condiciones establecidas en el presente\n",
      "Código, tiene derecho a votar y nadie podrá impedir o cuestionar su participación en el acto del sufragio.\n",
      "Los/as electores/as pueden votar únicamente en la mesa receptora de votos en cuyo padrón figuren\n",
      "inscriptos/as. Ninguna persona o autoridad puede ordenar al/la Presidente de Mesa que admita el voto de\n",
      "un/a ciudadano/a que no figure inscripto/a en el padrón de su mesa, ni el/la Presidente negar su derecho\n",
      "a sufragar a quien figure como elector/a de la mesa respectiva.\n",
      "Por ningún motivo se pueden agregar electores/as al padrón de la mesa receptora de votos.\n",
      "\n",
      "#### Artículo 122: Boletas suplementarias. El Instituto de Gestión Electoral asegura la provisión de boletas a\n",
      "los/as Presidentes de las Mesa en cantidad suficiente para cubrir el equivalente al total del padrón de la\n",
      "mesa de votación respectiva. En caso de robo, hurto o pérdida de las boletas, éstas serán reemplazadas\n",
      "por boletas suplementarias de igual diseño, que estarán en poder exclusivo del/la Delegado/a Judicial.\n",
      "Asimismo, durante la jornada electoral puede requerirse al/la Delegado/a Judicial, en caso de resultar\n",
      "necesario, el reaprovisionamiento de boletas.\n",
      "\n",
      "#### Artículo 123: Afiches de exhibición suplementarios. El Instituto de Gestión Electoral proveerá a cada\n",
      "establecimiento de votación ejemplares suplementarios de los afiches de exhibición para el caso de su\n",
      "robo, hurto, rotura o pérdida.\n",
      "\n",
      "## CAPÍTULO III\n",
      "INCORPORACIÓN DE TECNOLOGÍAS AL PROCESO ELECTORAL\n",
      "\n",
      "### SECCIÓN I\n",
      "DISPOSICIONES GENERALES Y PRINCIPIOS.\n",
      "\n",
      "#### Artículo 206: Inadmisibilidad del voto. El/La Presidente de Mesa no admitirá que el/la elector/a emita\n",
      "su voto cuando se presentase sin Documento Nacional de Identidad o cuando exhibiese un ejemplar del\n",
      "Documento anterior al que consta en el padrón electoral.\n",
      "\n",
      "#### Artículo 207: Voto de autoridades de mesa y Fiscales Partidarios. Las autoridades de la mesa y los/\n",
      "as Fiscales partidarios deben votar, sin excepción, en las mesas receptoras de votos en donde se\n",
      "encuentren empadronados/as. Las autoridades de mesa serán las primeras en emitir el sufragio, luego de\n",
      "lo cual permitirán hacerlo a los/as fiscales partidarios presentes que estuviesen registrados en el padrón\n",
      "correspondiente a esa mesa.\n",
      "\n",
      "#### Artículo 121: Entrega de material electoral, equipos, documentos y útiles. El Instituto de Gestión\n",
      "Electoral adoptará las medidas pertinentes para remitir con la debida antelación a los establecimientos\n",
      "de votación el material, los documentos y útiles electorales necesarios para el funcionamiento de cada\n",
      "mesa receptora de votos.\n",
      "Asimismo, proveerá a cada Mesa receptora de votos los siguientes documentos y materiales electorales:\n",
      "1) Tres (3) ejemplares del padrón electoral correspondiente a la mesa, los cuales se entregarán dentro\n",
      "de un sobre, que consignará la identificación de la mesa respectiva y la frase \"Ejemplares del Padrón\n",
      "Electoral\".\n",
      "2) Una (1) urna que deberá hallarse identificada con un número para determinar su lugar de destino, de\n",
      "lo cual llevará registro el Instituto de Gestión Electoral.\n",
      "3) Boletas oficializadas y, de corresponder, sobres de votación.\n",
      "4) Las credenciales identificatorias para las autoridades de mesa.\n",
      "5) Un (1) ejemplar de este Código Electoral y un (1) ejemplar de toda otra disposición legal aplicable.\n",
      "6) Un (1) cartel que advierta al/la elector/a acerca de las contravenciones y delitos electorales, así como\n",
      "también afiches con la nómina completa de los/as precandidatos/as o candidatos/as, para ser fijados en\n",
      "lugares visibles dentro del establecimiento de votación.\n",
      "7) Las actas de apertura, de cierre, de escrutinio y complementarias; los certificados de escrutinio y de\n",
      "trasmisión; almohadilla para huella digital; los formularios, sobres especiales, bolsas de reciclado y demás\n",
      "documentación electoral, así como todo otro elemento que el Instituto de Gestión Electoral considere\n",
      "necesario para el mejor desarrollo del acto electoral.\n",
      "Se enviará, además, un (1) inventario pormenorizado de los equipos, documentos y útiles a recibir\n",
      "mediante remito por duplicado. Uno (1) de aquellos ejemplares deberá ser firmado por el/la Presidente\n",
      "de Mesa y entregado al/la Delegado/a Judicial, mientras que el otro quedará como constancia para la\n",
      "autoridad de mesa respectiva.\n",
      "\n",
      "#### Artículo 10: Electores/as extranjeros/as. Los extranjeros y las extranjeras, desde los dieciséis (16) años de\n",
      "edad, están habilitados/as para votar en los actos electorales convocados en el marco de la Constitución\n",
      "de la Ciudad Autónoma de Buenos Aires en tanto cumplan con los siguientes requisitos:\n",
      "1) Tengan la categoría de \"residente permanente” en el país en los términos de la legislación de migraciones.\n",
      "2) Posean Documento Nacional de Identidad de extranjero/a.\n",
      "3) Conste en su Documento Nacional de Identidad domicilio en la Ciudad Autónoma de Buenos Aires.\n",
      "4) No estén incursos/as en las inhabilidades que establece este Código Electoral.\n",
      "\n",
      "# Qué votamos\n",
      "\n",
      "Se elegirá una lista de candidatos/as a Diputados/as para la Legislatura de la CABA mediante el sistema de Boleta Única Electrónica (BUE). La lista estará compuesta por treinta (30) titulares y diez (10) suplentes. Los/as electos/as asumirán el 10 de diciembre de 2025.\n",
      "\n",
      "# Funciones de la Autoridad de Mesa\n",
      "\n",
      "Las Autoridades de Mesa son responsables de garantizar el normal desarrollo del acto electoral. Son designadas por el Tribunal Electoral y tienen como funciones:\n",
      "\n",
      "- Recibir y organizar el material electoral.\n",
      "- Abrir, desarrollar y cerrar el acto electoral.\n",
      "- Supervisar el proceso de votación y escrutinio.\n",
      "\n",
      "Su rol es una carga pública irrenunciable y es compensado con un viático. Los valores definidos por el Instituto de Gestión Electoral son:\n",
      "\n",
      "- $60.000 por cumplir la función el día de la elección.\n",
      "- $60.000 adicionales para quienes hayan realizado la capacitación previa.\n",
      "\n",
      "El incumplimiento sin justificación será sancionado conforme al Código Electoral de la Ciudad.\n",
      "\n",
      "#### Artículo 18: Licencia. Los/as electores/as que deban prestar tareas durante la jornada electoral tienen\n",
      "derecho a obtener una licencia especial de sus empleadores/as con el objeto de concurrir a emitir el voto\n",
      "o desempeñar funciones en el acto electoral, sin deducción alguna del salario ni ulterior recargo de horario.\n",
      "Dicha licencia es de carácter obligatorio y no debe tener otro límite que el tiempo de traslado que\n",
      "requiera el/la ciudadano/a para ejercer su derecho a sufragar; o en su caso para cumplir con las funciones\n",
      "electorales que le hubiera sido asignadas.\n",
      "\n",
      "El incumplimiento sin justificación será sancionado conforme al Código Electoral de la Ciudad.\n",
      "\n",
      "# Personal en el establecimiento\n",
      "\n",
      "Participan en la jornada:\n",
      "\n",
      "- Presidente/a de Mesa\n",
      "- Auxiliar de Mesa\n",
      "- Suplente\n",
      "- Delegado/a Judicial\n",
      "- Fiscales de mesa y generales\n",
      "- Asistente Técnico/a\n",
      "- Coordinador/a Técnico/a\n",
      "- Personal del Correo\n",
      "- Capacitadores/as BUE\n",
      "- Observadores/as Electorales\n",
      "- Fuerzas de Seguridad\n",
      "\n",
      "# Tareas Previas (7:00 h)\n",
      "\n",
      "Las Autoridades deben presentarse a las 07:00 h para:\n",
      "\n",
      "- Recibir la urna y materiales del Correo.\n",
      "- Firmar la recepción de materiales.\n",
      "- Verificar el contenido del bolsín.\n",
      "\n",
      "Materiales principales:\n",
      "\n",
      "- Urna\n",
      "- Padrones (especial, auxiliar, de pared)\n",
      "- Credenciales con PIN\n",
      "- Boletas BUE\n",
      "- Actas (apertura, cierre, escrutinio)\n",
      "- Bolsines y sobres especiales\n",
      "- Carteles informativos\n",
      "- Dispositivo de votación\n",
      "- Plantilla de firma\n",
      "\n",
      "# Preparación del espacio\n",
      "\n",
      "#### Artículo 236: Reclamos de las agrupaciones políticas. Durante las cuarenta y ocho (48) horas siguientes\n",
      "a la elección, el Tribunal Electoral recibirá los reclamos de las agrupaciones políticas respecto a la elección\n",
      "o sobre el desarrollo de los comicios en una (1) o varias mesas receptoras de votos.\n",
      "Los reclamos podrán efectuarse únicamente por intermedio del/la apoderado/a de las agrupaciones\n",
      "políticas o de lista, por escrito, con indicación concreta y específica de las presuntas irregularidades.\n",
      "Se deberán acompañar o indicar los elementos probatorios con los que se cuenta, cualquiera sea su\n",
      "naturaleza. En caso de no cumplirse con este requisito la impugnación será desestimada, excepto cuando\n",
      "la demostración de su procedencia surja de los documentos que existan en poder del Tribunal Electoral.\n",
      "\n",
      "#### Artículo 223: Guarda de documentos. Una vez suscripta el Acta de Escrutinio, el Certificado de Trasmisión\n",
      "y el Acta de Cierre del comicio, y entregado un (1) Certificado de Escrutinio a cada Fiscal partidario\n",
      "requirente, el/la Presidente de Mesa depositará dentro de la urna, junto con las boletas que consignen\n",
      "votos, aquellos elementos referentes a la tecnología implementada que determine el Instituto de Gestión\n",
      "Electoral, tal como la documentación que contenga claves o códigos, el software del dispositivo, entre\n",
      "otros.\n",
      "El/La Presidente de Mesa deberá guardar en el Sobre Especial provisto al efecto: el padrón correspondiente\n",
      "al/la Presidente de Mesa utilizado durante el comicio, en el que constan las firmas de los/as electores y las\n",
      "Actas de Apertura y Cierre; el Acta de Escrutinio completa y firmada; los votos recurridos, los votos de\n",
      "identidad impugnada; y toda otra acta o formulario complementario que se haya utilizado. Este sobre será\n",
      "precintado y firmado por el/la Presidente de Mesa, el/la Auxiliar y los/as Fiscales acreditados en la mesa.\n",
      "Todo el material electoral se entregará al/la Delegado/a Judicial, junto con la urna, a fin de ser remitido al\n",
      "Tribunal Electoral.\n",
      "Las boletas no utilizadas serán guardadas en el sobre provisto a tal efecto, el que se colocará dentro\n",
      "de una bolsa especial, junto con el remanente de los sobres no empleados y todo otro sobrante del acto\n",
      "comicial, para ser remitido al Tribunal Electoral.\n",
      "El Certificado de Trasmisión, según determine el Instituto de Gestión Electoral, se reservará fuera de la\n",
      "urna o Sobre Especial, para su utilización en el escrutinio provisorio.\n",
      "\n",
      "#### Artículo 195: Obligaciones de las Autoridades de Mesa. Aquellos/as ciudadanos/as que cumplan tareas\n",
      "como autoridades de mesa deberán:\n",
      "1) Concurrir al establecimiento de votación al menos una (1) hora antes del horario de apertura del acto\n",
      "comicial y recibir los instrumentos de sufragio, materiales electorales y accesorios que le sean entregados\n",
      "por el/la Delegado/a Judicial. Una vez cumplido ello deberá, previa verificación, firmar el documento que\n",
      "acredite la recepción de dichos instrumentos.\n",
      "2) Verificar que la urna esté vacía y cerrarla mediante la colocación de una faja de papel firmada por\n",
      "las respectivas autoridades de mesa y cada uno/a de los Fiscales partidarios presentes, cuidando que no\n",
      "obstaculice la introducción de los votos de los/as electores/as.\n",
      "3) Habilitar, dentro del establecimiento de votación, un lugar para emplazar la mesa receptora de votos\n",
      "y la urna correspondiente. Debe constatar que este lugar quede a la vista de todos/as, sea de fácil acceso\n",
      "y cumpla con las mínimas condiciones de seguridad, higiene y accesibilidad electoral.\n",
      "4) Corroborar que el sector de votación asegure el secreto del sufragio, garantizando que desde ningún\n",
      "ángulo resulte posible visualizar la opción de voto elegida por del/la elector/a.\n",
      "5) Verificar que en el lugar de votación no existan elementos, tales como carteles, inscripciones, insignias,\n",
      "indicaciones, imágenes o elementos pasibles de influenciar la voluntad del/la elector/a en un determinado\n",
      "sentido.\n",
      "6) Verificar la identidad y los poderes de los/as Fiscales de las agrupaciones políticas presentes en\n",
      "el acto de apertura de la mesa receptora de votos. Aquellos/as que no se encuentren presentes en el\n",
      "momento de la apertura del acto electoral, serán reconocidos/as al tiempo de su llegada, sin retrotraer\n",
      "ninguno de los actos ya realizados.\n",
      "7) Colocar en lugar visible, a la entrada del establecimiento donde funcionan las mesas receptoras de\n",
      "votos, uno (1) de los ejemplares del padrón de electores/as para que sea consultado sin dificultad por los/\n",
      "as interesados/as. Este registro puede ser suscripto por los/as Fiscales partidarios que así lo deseen.\n",
      "8) Colocar en un lugar visible desde la mesa de votación el cartel que consigna las disposiciones referentes\n",
      "a las contravenciones y delitos electorales y los afiches con las listas oficializadas completas, de manera\n",
      "que los electores puedan conocer su contenido.\n",
      "9) Colocar sobre la mesa receptora de votos los dos (2) ejemplares del padrón electoral correspondientes\n",
      "al/la Presidente de Mesa y al/la Auxiliar respectivamente, a los efectos de verificar la identidad de los/as\n",
      "electores/as que se acerquen a emitir su voto. Las constancias que han de remitirse al Tribunal Electoral\n",
      "se asientan en el ejemplar rotulado para el/la Presidente de Mesa.\n",
      "10) Impedir que los/as electores/as utilicen, al momento de sufragar, cualquier elemento ajeno al ejercicio\n",
      "de su derecho tal como papeles, teléfonos celulares, cámaras fotográficas, entre otros.\n",
      "11) Ajustar su actuación a las disposiciones del presente Código y a las instrucciones contenidas en el\n",
      "instructivo emitido por el Instituto de Gestión Electoral para el desarrollo del acto electoral.\n",
      "\n",
      "#### Artículo 13: Prueba del carácter de elector/a. Deber de votar. La calidad de elector/a se prueba, a\n",
      "los fines del sufragio, exclusivamente por su inclusión en el padrón electoral correspondiente. Todos/\n",
      "as los/as electores/as tienen el deber de votar en las elecciones locales, con excepción de la consulta\n",
      "popular no vinculante a la que refiere el artículo 66 de la Constitución de la Ciudad Autónoma de\n",
      "Buenos Aires.\n",
      "\n",
      "SECCIÓN II\n",
      "INHABILIDADES.\n",
      "\n",
      "#### Artículo 139: Garantías. Cualquier incorporación de tecnología en el procedimiento de emisión del voto\n",
      "debe garantizar lo siguiente:\n",
      "1) Que solo se pueda realizar un (1) voto por elector/a por categoría.\n",
      "2) Que, al momento de la selección, el/la elector/a visualice toda la oferta electoral de manera transparente\n",
      "y equitativa.\n",
      "3) Que el/la elector/a pueda verificar que el voto emitido se corresponde con su voluntad.\n",
      "4) Debe permitir la impresión y el registro digital de la selección del/la elector/a en una boleta papel,\n",
      "como respaldo impreso de su selección, siendo la validez de aquello consignado en forma impresa lo que\n",
      "prevalecerá sobre cualquier forma de almacenamiento electrónico o digital de datos que la boleta pudiese\n",
      "contener.\n",
      "\n",
      "#### Artículo 140: Memoria. El dispositivo electrónico del Sistema electrónico de emisión de Boleta no puede\n",
      "almacenar información respecto a la selección realizada por el/la votante en forma posterior a su utilización\n",
      "para la impresión de su boleta.\n",
      "\n",
      "#### Artículo 141: Dispositivo electrónico del Sistema electrónico de emisión de Boleta. El dispositivo\n",
      "electrónico del Sistema electrónico de emisión de Boleta debe distinguir claramente todas las categorías\n",
      "para las que se realiza la elección y mostrar la oferta electoral de todas las agrupaciones políticas que\n",
      "cuenten con listas de precandidatos/as o candidatos/as oficializadas, procurando garantizar la igualdad\n",
      "entre ellas. Debe a su vez mostrar e identificar con claridad la siguiente información:\n",
      "1) El tipo y fecha de la elección, así como también la sección electoral correspondiente.\n",
      "2) El nombre de la agrupación política y, en las elecciones primarias, la identificación correspondiente a\n",
      "las listas de precandidatos/as.\n",
      "3) La sigla, monograma, logotipo, escudo, símbolo, emblema o distintivo con el color y el número de\n",
      "identificación de la agrupación política.\n",
      "4) La categoría de cargos a cubrir.\n",
      "5) Para el caso de Jefe/a de Gobierno y Vicejefe/a de Gobierno, el nombre, apellido y fotografía color del\n",
      "precandidato/a o candidato/a.\n",
      "6) Para el caso de la lista de Diputados/as, el nombre y apellido de al menos los dos (2) primeros\n",
      "precandidatos/as o candidatos/as titulares y fotografía color de al menos el/la primer/a precandidato/a\n",
      "o candidato/a titular.\n",
      "7) Para el caso de la lista de Miembros de las Juntas Comunales, el nombre, apellido y fotografía del\n",
      "primer precandidato/a o candidato/a titular.\n",
      "8) Para el caso de convencionales constituyentes, el nombre y apellido de los/as primeros/as tres (3)\n",
      "candidatos/as y fotografía color de al menos el/la primer/a candidato/a titular.\n",
      "9) Una opción para que el/la elector/a marque, si así lo desea, su preferencia de votar por la lista completa\n",
      "de una agrupación política determinada.\n",
      "10) Una opción de votar en blanco por cada categoría.\n",
      "11) La posibilidad de modificar la selección efectuada en forma ágil y sencilla.\n",
      "Cuando el proceso electoral sea consecuencia de los institutos Constitucionales de Referéndum,\n",
      "Referéndum de Revocatoria y Consulta Popular, el Instituto de Gestión Electoral deberá adecuar el diseño\n",
      "del instrumento de sufragio a tal efecto.\n",
      "\n",
      "#### Artículo 180: Cantidad de Mesas receptoras de votos por establecimiento de votación.\n",
      "Cada establecimiento contará con la cantidad de mesas receptoras de votos que permitan las condiciones\n",
      "de accesibilidad, salubridad, seguridad e infraestructura edilicia presentes en cada caso.\n",
      "El Instituto de Gestión Electoral arbitrará los medios necesarios para dar publicidad a la ubicación de las\n",
      "diferentes mesas receptoras de votos y al listado de las personas designadas como Autoridades de Mesa.\n",
      "Dicha información debe ser comunicada y estar a disposición de las Fuerzas de Seguridad encargadas de\n",
      "custodiar el acto eleccionario con al menos quince (15) días de anticipación a su celebración.\n",
      "\n",
      "**Documentos válidos:**\n",
      "\n",
      "- Libreta Cívica\n",
      "- Libreta de Enrolamiento\n",
      "- DNI libreta verde o celeste\n",
      "- Tarjeta DNI con leyenda\n",
      "\n",
      "**No válidos:**\n",
      "\n",
      "- DNI digital\n",
      "- Pasaporte\n",
      "\n",
      "# Emisión del Sufragio\n",
      "\n",
      "1. Solicitar DNI y verificar datos.\n",
      "2. Entregar BUE retirando el primer troquel.\n",
      "3. Elector introduce BUE y selecciona opción.\n",
      "4. Se imprime y graba el voto en la boleta.\n",
      "5. Elector puede verificar el contenido en el chip.\n",
      "6. Devuelve la boleta, firma el padrón y recibe constancia.\n",
      "\n",
      "# Casos Especiales\n",
      "\n",
      "## Voto de Identidad Impugnada\n",
      "\n",
      "- No se impide el voto.\n",
      "- Se completa formulario con huella y datos.\n",
      "- Se coloca en sobre especial y se introduce en la urna.\n",
      "\n",
      "## Voto Asistido\n",
      "\n",
      "- Personas con discapacidad pueden votar con asistencia.\n",
      "- Se utiliza dispositivo con modo accesible (audio y teclado acrílico).\n",
      "- Se registra asistencia en observaciones del padrón.\n",
      "\n",
      "# Cierre del Acto Electoral (18:00 h)\n",
      "\n",
      "#### Artículo 241: Nulidad de la mesa receptora de votos. El Tribunal Electoral declarará nula, a pedido de\n",
      "parte o de oficio, la elección realizada en una mesa receptora de votos cuando se verifique alguno de\n",
      "los siguientes supuestos:\n",
      "1) Cuando no hubiese Acta de Escrutinio firmada por las autoridades de mesa.\n",
      "2) Cuando hubiera sido maliciosamente alterada el Acta de Escrutinio.\n",
      "3) Cuando se determinen irregularidades en el uso de la tecnología electoral de entidad suficiente para\n",
      "alterar el resultado del acto electoral.\n",
      "4) Cuando el número de votantes consignados en el acta de escrutinio difiriera en cinco (5) o más del\n",
      "número de votos que constan en las boletas remitidas por el/la Presidente de Mesa.\n",
      "5) Cuando se compruebe que la apertura tardía o la clausura anticipada del acto electoral hubiere\n",
      "privado a los/as electores/as de emitir su voto.\n",
      "\n",
      "**Pregunta**:  \n",
      "puedo traer una boleta de casa?\n",
      "\n",
      "**Respuesta**:\n",
      "\u001b[0m\n",
      "\n",
      "\u001b[1m> Finished chain.\u001b[0m\n",
      "\n",
      "\u001b[1m> Finished chain.\u001b[0m\n",
      "\n",
      "\u001b[1m> Finished chain.\u001b[0m\n",
      "No, no puedes traer una boleta de casa al centro electoral. La boleta debe ser emitida por el Instituto de Gestión Electoral y recabada en la misma día de la elección, como se indica en el artículo 180 del código electoral. Es importante verificar los documentos válidos y no válidos para votar antes de acudir al centro electoral.\n",
      "\n",
      "\n",
      "\u001b[1m> Entering new ConversationalRetrievalChain chain...\u001b[0m\n",
      "\n",
      "\n",
      "\u001b[1m> Entering new LLMChain chain...\u001b[0m\n",
      "Prompt after formatting:\n",
      "\u001b[32;1m\u001b[1;3mGiven the following conversation and a follow up question, rephrase the follow up question to be a standalone question, in its original language.\n",
      "\n",
      "Chat History:\n",
      "\n",
      "Human: puedo traer una boleta de casa?\n",
      "Assistant: No, no puedes traer una boleta de casa al centro electoral. La boleta debe ser emitida por el Instituto de Gestión Electoral y recabada en la misma día de la elección, como se indica en el artículo 180 del código electoral. Es importante verificar los documentos válidos y no válidos para votar antes de acudir al centro electoral.\n",
      "Follow Up Input: cuando se vota?\n",
      "Standalone question:\u001b[0m\n",
      "\n",
      "\u001b[1m> Finished chain.\u001b[0m\n",
      "\n",
      "\n",
      "\u001b[1m> Entering new StuffDocumentsChain chain...\u001b[0m\n",
      "\n",
      "\n",
      "\u001b[1m> Entering new LLMChain chain...\u001b[0m\n",
      "Prompt after formatting:\n",
      "\u001b[32;1m\u001b[1;3mYou are **ElectoAI**, an expert electoral assistant for the **2025 legislative elections in the City of Buenos Aires (CABA)**.\n",
      "\n",
      "**Role & Scope**  \n",
      "- Proporcionás respuestas **claras**, **precisas** y **neutrales** sobre procedimientos electorales, normativas vigentes, situaciones prácticas en el lugar de votación y candidaturas, basándote únicamente en la información provista en el contexto recuperado.  \n",
      "- El contexto puede incluir documentos oficiales (leyes, reglamentos, instructivos, padrones) y también materiales informativos confiables sobre candidatos, boletas y listas.  \n",
      "- Si no hay información suficiente en el contexto para responder, decí: “Lo siento, no dispongo de información sobre ese punto.”\n",
      "\n",
      "**Instrucciones**  \n",
      "1. **Usá solo la información incluida en la sección de contexto más abajo. No inventes ni completes por fuera.  \n",
      "2. Siempre que sea posible, **mencioná la fuente** del dato (“Según la Ley X…”, “Según el instructivo…”, “Según el material informativo…”).  \n",
      "3. Respondé primero de forma **breve y directa**, luego ampliá si es necesario (máximo 2 oraciones).  \n",
      "4. Usá un lenguaje **neutral**, **claro** y **accesible** para jueces de mesa, fiscales, autoridades y votantes.\n",
      "\n",
      "**Casos que podés responder**  \n",
      "- Procedimientos ante situaciones comunes (faltan boletas, DNI no válido, votantes enojados, etc.).  \n",
      "- Reglas sobre el acceso al local (ropa partidaria, acompañantes, animales, horarios).  \n",
      "- Información sobre **candidatos, listas y boletas**, si está presente en el contexto.  \n",
      "- Consultas de **autoridades de mesa**, como:  \n",
      "  - ¿Qué hacer si no se presenta el presidente?  \n",
      "  - ¿Quién debe firmar el acta?  \n",
      "  - ¿Quién reemplaza a quién en caso de ausencia?  \n",
      "  - ¿Quién puede asistir al escrutinio?  \n",
      "  - ¿Qué responsabilidad tiene cada cargo en la mesa?  \n",
      "  - ¿Qué se hace si falta una autoridad o un fiscal?\n",
      "\n",
      "---\n",
      "\n",
      "**Contexto**:  \n",
      "#### Artículo 210: Emisión del voto. La emisión del sufragio se lleva a cabo mediante el siguiente procedimiento:\n",
      "1) Cuando el/la elector/a se encuentre en el puesto de votación o frente al dispositivo electrónico del\n",
      "Sistema electrónico de emisión de Boleta, debe seleccionar la opción electoral de su preferencia.\n",
      "2) Confirmada su selección, constatará que su voto se corresponde con la voluntad manifestada al\n",
      "realizar la selección. En caso de coincidir, doblará debidamente la boleta por sus pliegues y la introducirá\n",
      "en el sobre de votación, si se hubiere provisto uno a tal efecto. 3) Finalmente, introducirá la boleta\n",
      "plegada, o en su caso el sobre de votación, dentro de la urna. Mediante este acto se configurará la emisión\n",
      "de su voto.\n",
      "\n",
      "#### Artículo 142: Opciones de voto. El dispositivo electrónico del Sistema electrónico de emisión de Boleta\n",
      "deberá presentar inicialmente al/la elector/a la opción de votar por categoría o por agrupación política.\n",
      "La opción de votar por categorías presenta al/la elector/a la oferta electoral en cada una de las categorías\n",
      "de cargos en forma separada.\n",
      "La opción de votar por agrupación política presenta al/la elector/a todas las agrupaciones políticas\n",
      "participantes. El voto realizado a través de esta opción implica el voto de la agrupación política seleccionada\n",
      "en todas las categorías de cargos a elegir. En aquellas categorías donde la agrupación política seleccionada\n",
      "no presentara listas el voto se registrará como un voto en blanco.\n",
      "En las elecciones primarias, el/la elector/a deberá seleccionar la agrupación política por la cual desea\n",
      "votar y posteriormente, si la agrupación política presentara más de una (1) opción, la lista interna específica\n",
      "que desea votar.\n",
      "La opción de votar en blanco deberá estar siempre visible en la parte inferior de la pantalla, pero ocupando\n",
      "un menor espacio que el destinado a cada agrupación política.\n",
      "\n",
      "#### Artículo 203: Derecho a votar. Toda persona que figure en el padrón y acredite su identidad mediante la\n",
      "exhibición del Documento Nacional de Identidad habilitante, en las condiciones establecidas en el presente\n",
      "Código, tiene derecho a votar y nadie podrá impedir o cuestionar su participación en el acto del sufragio.\n",
      "Los/as electores/as pueden votar únicamente en la mesa receptora de votos en cuyo padrón figuren\n",
      "inscriptos/as. Ninguna persona o autoridad puede ordenar al/la Presidente de Mesa que admita el voto de\n",
      "un/a ciudadano/a que no figure inscripto/a en el padrón de su mesa, ni el/la Presidente negar su derecho\n",
      "a sufragar a quien figure como elector/a de la mesa respectiva.\n",
      "Por ningún motivo se pueden agregar electores/as al padrón de la mesa receptora de votos.\n",
      "\n",
      "#### Artículo 13: Prueba del carácter de elector/a. Deber de votar. La calidad de elector/a se prueba, a\n",
      "los fines del sufragio, exclusivamente por su inclusión en el padrón electoral correspondiente. Todos/\n",
      "as los/as electores/as tienen el deber de votar en las elecciones locales, con excepción de la consulta\n",
      "popular no vinculante a la que refiere el artículo 66 de la Constitución de la Ciudad Autónoma de\n",
      "Buenos Aires.\n",
      "\n",
      "SECCIÓN II\n",
      "INHABILIDADES.\n",
      "\n",
      "---\n",
      "title: \"Manual de Capacitación para Autoridades de Mesa\"\n",
      "subtitle: \"Elecciones 2025 - Ciudad Autónoma de Buenos Aires\"\n",
      "---\n",
      "\n",
      "# Presentación\n",
      "\n",
      "Este manual tiene como objetivo brindar a las Autoridades de Mesa los conocimientos esenciales para desempeñar su función conforme a la normativa vigente. Se estructura en función de las tareas que deben desarrollarse durante la jornada electoral e incluye información práctica, representaciones gráficas de los materiales y documentos utilizados, y protocolos para gestionar situaciones imprevistas.\n",
      "\n",
      "# Cuándo votamos\n",
      "\n",
      "Las elecciones locales en la Ciudad Autónoma de Buenos Aires se realizarán en una fecha distinta a la de las elecciones nacionales. No habrá elecciones Primarias Abiertas, Simultáneas y Obligatorias (PASO). La jornada electoral se llevará a cabo el día domingo del mes de mayo de 2025.\n",
      "\n",
      "# Qué votamos\n",
      "\n",
      "#### Artículo 10: Electores/as extranjeros/as. Los extranjeros y las extranjeras, desde los dieciséis (16) años de\n",
      "edad, están habilitados/as para votar en los actos electorales convocados en el marco de la Constitución\n",
      "de la Ciudad Autónoma de Buenos Aires en tanto cumplan con los siguientes requisitos:\n",
      "1) Tengan la categoría de \"residente permanente” en el país en los términos de la legislación de migraciones.\n",
      "2) Posean Documento Nacional de Identidad de extranjero/a.\n",
      "3) Conste en su Documento Nacional de Identidad domicilio en la Ciudad Autónoma de Buenos Aires.\n",
      "4) No estén incursos/as en las inhabilidades que establece este Código Electoral.\n",
      "\n",
      "#### Artículo 43: Elección del/la Jefe/a y Vicejefe/a de Gobierno. Las candidaturas de Jefe/a de Gobierno y\n",
      "Vicejefe/a de Gobierno, serán consideradas candidaturas unipersonales.\n",
      "La elección del/la Jefe/a de Gobierno y Vicejefe/a de Gobierno se realiza en forma directa y conjunta,\n",
      "por fórmula completa y mayoría absoluta, a cuyo fin el territorio de la Ciudad constituye un único distrito.\n",
      "Si en la elección general ninguna fórmula obtuviera la mayoría absoluta de los votos emitidos, con\n",
      "exclusión de los votos en blanco y nulos, se convocará a la segunda vuelta electoral, comicio definitivo del\n",
      "que participarán las dos (2) fórmulas más votadas.\n",
      "La segunda vuelta se realiza dentro de los treinta (30) días de efectuada la primera votación, resultando\n",
      "electa la fórmula que obtuviera la mayor cantidad de votos, de acuerdo con lo previsto en el artículo 96 de\n",
      "la Constitución de la Ciudad Autónoma de Buenos Aires.\n",
      "\n",
      "#### Artículo 178: Establecimientos de votación. El Instituto de Gestión Electoral determina los establecimientos\n",
      "donde funcionarán las mesas receptoras de votos, los cuales podrán ser dependencias oficiales, entidades\n",
      "de bien público, salas de espectáculos, establecimientos educativos u otros que reúnan las condiciones\n",
      "indispensables a tal efecto.\n",
      "La determinación de los establecimientos en los cuales se emplazarán las mesas receptoras de votos\n",
      "deberá realizarse con al menos cuarenta y cinco (45) días de anticipación a la fecha fijada para los comicios,\n",
      "debiendo garantizarse la accesibilidad electoral para personas ciegas o con una discapacidad o condición\n",
      "física permanente o transitoria que restrinja o dificulte el ejercicio del derecho al voto.\n",
      "Sólo en casos de fuerza mayor ocurridos con posterioridad a la determinación de los establecimientos de\n",
      "votación, el Instituto de Gestión Electoral podrá variar su ubicación, comunicando inmediatamente dicha\n",
      "circunstancia a los/as electores/as y demás autoridades intervinientes.\n",
      "El Instituto de Gestión Electoral establecerá los mecanismos pertinentes para hacer efectiva la habilitación\n",
      "de las mesas establecidas, y publicará la ubicación de las mismas.\n",
      "\n",
      "#### Artículo 17: Exclusión de sanción por no emisión del voto. No se impondrá sanción por dejar de emitir su\n",
      "voto a los/as siguientes electores/as:\n",
      "1) Los/as electores/as mayores de setenta (70) años.\n",
      "2) Los/as electores/as menores de dieciocho (18) años.\n",
      "3) Los/as electores extranjeros/as.\n",
      "4) Los/as electores/as miembros, funcionarios y agentes del Tribunal Superior de Justicia, del Tribunal\n",
      "Electoral y del Instituto de Gestión Electoral, los/as Jueces/zas, los/as\n",
      "Delegados/as Judiciales y los/as Coordinadores/as Técnicos que por imperio de Ley se encuentren\n",
      "afectados/as al servicio mientras duren los comicios.\n",
      "5) Los/as Fiscales partidarios que desempeñen su tarea en una mesa electoral distinta de aquélla en la\n",
      "que debieran emitir su voto. El/La Presidente de Mesa les expedirá la constancia respectiva que acredite\n",
      "tal circunstancia.\n",
      "6) Los/as electores/as que el día de la elección se encuentren a más de quinientos (500) kilómetros\n",
      "de la Ciudad Autónoma de Buenos Aires. Tales ciudadanos/as deben presentarse el día de la elección\n",
      "ante la autoridad policial o consular más próxima, la que extenderá certificación escrita que acredite la\n",
      "comparecencia.\n",
      "7) Los/as electores/as imposibilitados/as de asistir al acto electoral por razón de fuerza mayor\n",
      "debidamente acreditada o enfermedad certificada por médicos/as del sistema de salud de la Ciudad\n",
      "Autónoma de Buenos Aires o, en ausencia de estos, por médicos/as particulares. En caso de hallarse fuera\n",
      "del ámbito de la Ciudad, el/la elector/a deberá acreditar la imposibilidad sanitaria mediante constancia del\n",
      "sistema de salud de la localidad en donde se encontrase.\n",
      "8) El personal de seguridad y organismos o empresas de servicios públicos que deban realizar tareas\n",
      "durante el desarrollo del acto comicial. En ese caso, el/la empleador/a o su representante legal deberá\n",
      "comunicar al Tribunal Electoral la nómina de personal respectiva dentro de las setenta y dos (72) horas\n",
      "anteriores a la fecha de la elección, expidiendo por separado la pertinente certificación.\n",
      "La falsedad en las certificaciones previstas en el presente artículo hará pasible al que la hubiese otorgado\n",
      "de las penas establecidas en el artículo 292 del Código Penal.\n",
      "\n",
      "#### Artículo 18: Licencia. Los/as electores/as que deban prestar tareas durante la jornada electoral tienen\n",
      "derecho a obtener una licencia especial de sus empleadores/as con el objeto de concurrir a emitir el voto\n",
      "o desempeñar funciones en el acto electoral, sin deducción alguna del salario ni ulterior recargo de horario.\n",
      "Dicha licencia es de carácter obligatorio y no debe tener otro límite que el tiempo de traslado que\n",
      "requiera el/la ciudadano/a para ejercer su derecho a sufragar; o en su caso para cumplir con las funciones\n",
      "electorales que le hubiera sido asignadas.\n",
      "\n",
      "#### Artículo 7: \"Elecciones primarias”, “elecciones generales” y “segunda vuelta\". La elección de Jefe/a de\n",
      "Gobierno, Vicejefe/a de Gobierno, Diputados/as y Miembros de Juntas Comunales de la Ciudad Autónoma\n",
      "de Buenos Aires se lleva a cabo mediante:\n",
      "1) \"Elecciones primarias”: proceso destinado a la selección de candidatos/as mediante las elecciones\n",
      "primarias abiertas, simultáneas y obligatorias que regula el presente Código.\n",
      "2) “Elecciones generales”: comicios realizados para la elección de Jefe/a y Vicejefe/a de Gobierno,\n",
      "Diputados/as y Miembros de Juntas Comunales.\n",
      "3) \"Segunda Vuelta”: elección definitiva convocada en el caso de que en la elección general ninguna\n",
      "fórmula de Jefe/a y Vicejefe/a de Gobierno obtuviera la mayoría absoluta de los votos afirmativos emitidos,\n",
      "en los términos del artículo 96 de la Constitución de la Ciudad Autónoma de Buenos Aires.\n",
      "\n",
      "#### Artículo 96: Elección del candidato/a a Jefe/a de Gobierno. La elección del/la candidato/a a Jefe/a de\n",
      "Gobierno de una agrupación política se realiza en forma directa y a simple pluralidad de sufragios, entre\n",
      "todos los/as precandidatos/as participantes por dicha agrupación política.\n",
      "\n",
      "#### Artículo 61: Requisitos del acto de convocatoria. La convocatoria a elección de cargos debe indicar:\n",
      "1) La fecha de la elección.\n",
      "2) La categoría y número de cargos a elegir.\n",
      "3) En su caso, fecha de la eventual segunda vuelta.\n",
      "4) En caso de corresponder, la adhesión al régimen de simultaneidad prevista en la Ley Nacional N°\n",
      "15.262 y el artículo 46 de la Ley Nacional N°26.571.\n",
      "5) En caso de corresponder, la adhesión al régimen establecido en el Capítulo III Bis del Título III de\n",
      "la Ley Nacional N° 26.215 y al artículo 35 de la Ley Nacional N° 26.571, sus respectivas modificatorias y\n",
      "complementarias, o normativa que en un futuro la remplace.\n",
      "6) Indicación del sistema electoral aplicable.\n",
      "\n",
      "CAPÍTULO II\n",
      "DEBATE PÚBLICO\n",
      "\n",
      "# TÍTULO SEGUNDO\n",
      "CUERPO ELECTORAL\n",
      "\n",
      "## CAPÍTULO I\n",
      "DE LA CONDICIÓN DE ELECTOR/A, DERECHOS, DEBERES E INHABILIDADES\n",
      "\n",
      "### SECCIÓN I\n",
      "ELECTORES/AS, SUS DEBERES Y DERECHOS.\n",
      "\n",
      "#### Artículo 9: Electores/as. Son electores/as los/as argentinos/as nativos/as y por opción desde los dieciséis\n",
      "(16) años de edad, los/as argentinos/as naturalizados/as desde los dieciocho (18) años de edad, y los/as\n",
      "extranjeros/as desde los dieciséis (16) años de edad, en tanto cumplan con los requisitos establecidos en\n",
      "este Código, se encuentren domiciliados/as en la Ciudad\n",
      "Autónoma de Buenos Aires y no estén alcanzados/as por las inhabilitaciones previstas en la normativa\n",
      "electoral vigente.\n",
      "\n",
      "#### Artículo 206: Inadmisibilidad del voto. El/La Presidente de Mesa no admitirá que el/la elector/a emita\n",
      "su voto cuando se presentase sin Documento Nacional de Identidad o cuando exhibiese un ejemplar del\n",
      "Documento anterior al que consta en el padrón electoral.\n",
      "\n",
      "#### Artículo 207: Voto de autoridades de mesa y Fiscales Partidarios. Las autoridades de la mesa y los/\n",
      "as Fiscales partidarios deben votar, sin excepción, en las mesas receptoras de votos en donde se\n",
      "encuentren empadronados/as. Las autoridades de mesa serán las primeras en emitir el sufragio, luego de\n",
      "lo cual permitirán hacerlo a los/as fiscales partidarios presentes que estuviesen registrados en el padrón\n",
      "correspondiente a esa mesa.\n",
      "\n",
      "#### Artículo 200: Prohibiciones durante el día del comicio. Queda expresamente prohibido:\n",
      "1) A toda persona que resida dentro de un radio de ochenta (80) metros alrededor del establecimiento\n",
      "de votación, admitir reuniones de electores/as o depósito de armas, durante las horas en que se desarrolle\n",
      "el comicio.\n",
      "2) Los espectáculos populares al aire libre o en recintos cerrados, fiestas teatrales, deportivas y toda\n",
      "clase de reunión pública que no sea el acto electoral, durante su desarrollo y hasta pasadas tres (3) horas\n",
      "de ser clausurado.\n",
      "3) El expendio de cualquier clase de bebidas alcohólicas desde doce (12) horas previas al inicio del\n",
      "comicio hasta transcurridas tres (3) horas de su cierre.\n",
      "4) Ofrecer o entregar a los/as electores/as boletas de sufragio apócrifas.\n",
      "5) A los/as electores/as: portar armas, el uso de banderas, divisas u otros distintivos de carácter\n",
      "proselitista desde doce (12) horas antes de la elección y hasta tres (3) horas después de finalizada.\n",
      "6) Realizar actos públicos de proselitismo desde las cuarenta y ocho (48) horas previas al inicio del\n",
      "comicio y hasta su cierre.\n",
      "7) La apertura de locales partidarios dentro de un radio de ochenta (80) metros del lugar en que se\n",
      "instalen mesas receptoras de votos. No se instalarán mesas receptoras a menos de ochenta (80) metros\n",
      "de la sede en que se encuentre el domicilio legal de los partidos nacionales o de distrito.\n",
      "El Tribunal Electoral podrá ordenar la inmediata cesación de cualquiera de las actividades mencionadas\n",
      "en el presente artículo.\n",
      "El Instituto de Gestión Electoral debe arbitrar los medios necesarios para difundir el contenido de\n",
      "estas prohibiciones, tanto en forma previa al acto comicial como durante su desarrollo, ya sea mediante\n",
      "comunicaciones, anuncios, carteles, letreros, o medios de comunicación masiva, entre otros.\n",
      "\n",
      "#### Artículo 58: Convocatoria y celebración de elecciones generales y segunda vuelta. El/la Jefe/a de\n",
      "Gobierno debe efectuar la convocatoria a elecciones generales al menos ciento ochenta y cinco (185)\n",
      "días corridos antes de su realización.\n",
      "Las elecciones generales se celebran con una antelación no menor a cuarenta (40) días corridos previos\n",
      "a la finalización del mandato de las autoridades salientes ni mayor a doscientos veinticinco (225) días de\n",
      "dicha fecha.\n",
      "En la convocatoria a elecciones de Jefe/a y Vicejefe/a de Gobierno se fijará la fecha de la eventual\n",
      "segunda vuelta, la cual se realizará dentro de los treinta (30) días corridos posteriores a la elección\n",
      "general.\n",
      "\n",
      "#### Artículo 120: Plazo para la provisión de Boletas, afiches y/o dispositivos electrónicos. El Instituto de\n",
      "Gestión Electoral debe procurar los medios necesarios para que las boletas, los afiches y, de corresponder,\n",
      "los dispositivos electrónicos del Sistema de Emisión de Boleta a utilizar, se encuentren disponibles para\n",
      "su uso con una antelación no menor a diez (10) días corridos del acto electoral.\n",
      "\n",
      "#### Artículo 57: Convocatoria y celebración de las elecciones primarias. La convocatoria a elecciones\n",
      "primarias la efectúa el/la Jefe/a de Gobierno al menos ciento veinte (120) días corridos antes de su\n",
      "realización. Las elecciones primarias se celebran con una antelación no menor a sesenta y cinco (65) días\n",
      "corridos ni mayor a noventa (90) días corridos de las elecciones generales.\n",
      "En el acto de convocatoria, el/la Jefe/a de Gobierno podrá adherir a la simultaneidad prevista en la\n",
      "Ley Nacional N° 15.262 y en el artículo 46 de la Ley Nacional N° 26.571, o en aquellas que en un futuro las\n",
      "reemplacen.\n",
      "\n",
      "#### Artículo 180: Cantidad de Mesas receptoras de votos por establecimiento de votación.\n",
      "Cada establecimiento contará con la cantidad de mesas receptoras de votos que permitan las condiciones\n",
      "de accesibilidad, salubridad, seguridad e infraestructura edilicia presentes en cada caso.\n",
      "El Instituto de Gestión Electoral arbitrará los medios necesarios para dar publicidad a la ubicación de las\n",
      "diferentes mesas receptoras de votos y al listado de las personas designadas como Autoridades de Mesa.\n",
      "Dicha información debe ser comunicada y estar a disposición de las Fuerzas de Seguridad encargadas de\n",
      "custodiar el acto eleccionario con al menos quince (15) días de anticipación a su celebración.\n",
      "\n",
      "#### Artículo 26: Registro de Infractores/as al deber de votar. Créase el Registro de Infractores/as al deber\n",
      "de votar de la Ciudad Autónoma de Buenos Aires, que comprende a todos aquellos/as electores/as que\n",
      "hubieren infringido el deber de votar. El mismo está a cargo del Tribunal Electoral, que es la autoridad\n",
      "competente para disponer su organización, confección y actualización.\n",
      "Treinta (30) días después de cada elección se elabora un listado con nombre, apellido y número de\n",
      "Documento Nacional de Identidad de los/as ciudadanos/as habilitados/as para votar y no exentos/\n",
      "as de sanción, de quienes no se tenga constancia de emisión del voto. El Tribunal Electoral pondrá en\n",
      "conocimiento público el listado, a través de su sitio web y de otras modalidades de difusión que considere\n",
      "pertinentes.\n",
      "Para ser eliminado de dicho Registro, el/la infractor/a debe presentar la constancia de emisión de voto\n",
      "expedida en la mesa de votación, la certificación que acredite la causal de eximición del deber de votar\n",
      "o, en su caso, abonar la multa establecida en el presente Código a la autoridad competente a tal efecto.\n",
      "Mientras no regularicen su situación, los/as infractores/as no podrán realizar gestiones o trámites ante\n",
      "los organismos públicos de la Ciudad Autónoma de Buenos Aires ni acceder a cargos públicos en la\n",
      "Ciudad de Buenos Aires durante tres (3) años contados a partir de la fecha de la elección.\n",
      "En caso de adhesión al régimen de simultaneidad de elecciones en los términos del artículo 60 del\n",
      "presente Código, los/as infractores/as sólo deberán regularizar su situación ante la autoridad nacional\n",
      "competente a tal efecto.\n",
      "\n",
      "#### Artículo 214: Voto Asistido. Los/as electores/as ciegos o con una discapacidad o condición física\n",
      "permanente o transitoria que restrinja o dificulte el ejercicio del sufragio pueden optar por ser acompañados/\n",
      "as al puesto de votación por el/la Presidente de Mesa o por una (1) persona de su elección, cuyos datos se\n",
      "dejarán asentados en el padrón del/la Presidente de Mesa.\n",
      "La persona que asista a un/a elector/a no puede hacerlo nuevamente respecto de otros/as electores/as,\n",
      "con excepción de lo previsto en el párrafo siguiente respecto al/la Presidente de Mesa.\n",
      "De solicitarse la asistencia del/la Presidente de Mesa, este guiará al/la elector/a en los pasos necesarios\n",
      "para la emisión del sufragio en la medida en que la discapacidad lo requiera. El/la Presidente de Mesa\n",
      "proveerá la asistencia resguardando en todo momento el secreto del sufragio y, en caso de no poder\n",
      "preservar tal extremo, tiene la carga de no revelar el contenido del voto y garantizar el secreto del mismo.\n",
      "\n",
      "#### Artículo 195: Obligaciones de las Autoridades de Mesa. Aquellos/as ciudadanos/as que cumplan tareas\n",
      "como autoridades de mesa deberán:\n",
      "1) Concurrir al establecimiento de votación al menos una (1) hora antes del horario de apertura del acto\n",
      "comicial y recibir los instrumentos de sufragio, materiales electorales y accesorios que le sean entregados\n",
      "por el/la Delegado/a Judicial. Una vez cumplido ello deberá, previa verificación, firmar el documento que\n",
      "acredite la recepción de dichos instrumentos.\n",
      "2) Verificar que la urna esté vacía y cerrarla mediante la colocación de una faja de papel firmada por\n",
      "las respectivas autoridades de mesa y cada uno/a de los Fiscales partidarios presentes, cuidando que no\n",
      "obstaculice la introducción de los votos de los/as electores/as.\n",
      "3) Habilitar, dentro del establecimiento de votación, un lugar para emplazar la mesa receptora de votos\n",
      "y la urna correspondiente. Debe constatar que este lugar quede a la vista de todos/as, sea de fácil acceso\n",
      "y cumpla con las mínimas condiciones de seguridad, higiene y accesibilidad electoral.\n",
      "4) Corroborar que el sector de votación asegure el secreto del sufragio, garantizando que desde ningún\n",
      "ángulo resulte posible visualizar la opción de voto elegida por del/la elector/a.\n",
      "5) Verificar que en el lugar de votación no existan elementos, tales como carteles, inscripciones, insignias,\n",
      "indicaciones, imágenes o elementos pasibles de influenciar la voluntad del/la elector/a en un determinado\n",
      "sentido.\n",
      "6) Verificar la identidad y los poderes de los/as Fiscales de las agrupaciones políticas presentes en\n",
      "el acto de apertura de la mesa receptora de votos. Aquellos/as que no se encuentren presentes en el\n",
      "momento de la apertura del acto electoral, serán reconocidos/as al tiempo de su llegada, sin retrotraer\n",
      "ninguno de los actos ya realizados.\n",
      "7) Colocar en lugar visible, a la entrada del establecimiento donde funcionan las mesas receptoras de\n",
      "votos, uno (1) de los ejemplares del padrón de electores/as para que sea consultado sin dificultad por los/\n",
      "as interesados/as. Este registro puede ser suscripto por los/as Fiscales partidarios que así lo deseen.\n",
      "8) Colocar en un lugar visible desde la mesa de votación el cartel que consigna las disposiciones referentes\n",
      "a las contravenciones y delitos electorales y los afiches con las listas oficializadas completas, de manera\n",
      "que los electores puedan conocer su contenido.\n",
      "9) Colocar sobre la mesa receptora de votos los dos (2) ejemplares del padrón electoral correspondientes\n",
      "al/la Presidente de Mesa y al/la Auxiliar respectivamente, a los efectos de verificar la identidad de los/as\n",
      "electores/as que se acerquen a emitir su voto. Las constancias que han de remitirse al Tribunal Electoral\n",
      "se asientan en el ejemplar rotulado para el/la Presidente de Mesa.\n",
      "10) Impedir que los/as electores/as utilicen, al momento de sufragar, cualquier elemento ajeno al ejercicio\n",
      "de su derecho tal como papeles, teléfonos celulares, cámaras fotográficas, entre otros.\n",
      "11) Ajustar su actuación a las disposiciones del presente Código y a las instrucciones contenidas en el\n",
      "instructivo emitido por el Instituto de Gestión Electoral para el desarrollo del acto electoral.\n",
      "\n",
      "##CAPÍTULO 1\n",
      "DE LA OFICIALIZACIÓN DE LISTAS DE CANDIDATOS/AS\n",
      "\n",
      "#### Artículo 100: Piso electoral. Sólo podrán participar en las elecciones generales las agrupaciones políticas\n",
      "que hayan obtenido:\n",
      "1) Para la categoría de Jefe/a de Gobierno, como mínimo un total de votos, considerando los de todas\n",
      "sus listas de precandidatos/as, igual o superior al uno y medio por ciento (1,5%) de los votos válidamente\n",
      "emitidos en el distrito para dicha categoría.\n",
      "2) Para la categoría de Diputados/as, como mínimo un total de votos considerando los de todas sus\n",
      "listas de precandidatos/as, igual o superior al uno y medio por ciento (1,5%) de los votos válidamente\n",
      "emitidos en el distrito para dicha categoría.\n",
      "3) Para la categoría de Miembros de la Junta Comunal, como mínimo un total de votos, considerando los\n",
      "de todas sus listas, igual o superior al uno y medio por ciento (1,5%) de los votos válidamente emitidos en\n",
      "la sección respectiva para dicha categoría.\n",
      "\n",
      "El incumplimiento sin justificación será sancionado conforme al Código Electoral de la Ciudad.\n",
      "\n",
      "# Personal en el establecimiento\n",
      "\n",
      "Participan en la jornada:\n",
      "\n",
      "- Presidente/a de Mesa\n",
      "- Auxiliar de Mesa\n",
      "- Suplente\n",
      "- Delegado/a Judicial\n",
      "- Fiscales de mesa y generales\n",
      "- Asistente Técnico/a\n",
      "- Coordinador/a Técnico/a\n",
      "- Personal del Correo\n",
      "- Capacitadores/as BUE\n",
      "- Observadores/as Electorales\n",
      "- Fuerzas de Seguridad\n",
      "\n",
      "# Tareas Previas (7:00 h)\n",
      "\n",
      "Las Autoridades deben presentarse a las 07:00 h para:\n",
      "\n",
      "- Recibir la urna y materiales del Correo.\n",
      "- Firmar la recepción de materiales.\n",
      "- Verificar el contenido del bolsín.\n",
      "\n",
      "Materiales principales:\n",
      "\n",
      "- Urna\n",
      "- Padrones (especial, auxiliar, de pared)\n",
      "- Credenciales con PIN\n",
      "- Boletas BUE\n",
      "- Actas (apertura, cierre, escrutinio)\n",
      "- Bolsines y sobres especiales\n",
      "- Carteles informativos\n",
      "- Dispositivo de votación\n",
      "- Plantilla de firma\n",
      "\n",
      "# Preparación del espacio\n",
      "\n",
      "**Pregunta**:  \n",
      "When do you vote?\n",
      "\n",
      "**Respuesta**:\n",
      "\u001b[0m\n",
      "\n",
      "\u001b[1m> Finished chain.\u001b[0m\n",
      "\n",
      "\u001b[1m> Finished chain.\u001b[0m\n",
      "\n",
      "\u001b[1m> Finished chain.\u001b[0m\n",
      "No hay una pregunta ni respuesta en ese texto. El texto parece ser un resumen o una lista de información relacionada con el proceso electoral, pero no presentan una pregunta y respuesta clásica.\n",
      "\n",
      "Si deseas, puedo ayudarte a encontrar la información que necesitas o a organizar el texto de manera más coherente. ¿Podrías especificar cuál es la pregunta que buscas responder?\n"
     ]
    }
   ],
   "source": [
    "# Y en Gradio:\n",
    "view = gr.ChatInterface(\n",
    "    chat,\n",
    "    title=\"🗳️ ElectoAI – Asistente Electoral 2025\",\n",
    "    description=\"Consultá sobre normativas, procedimientos y candidaturas en la Ciudad de Buenos Aires.\",\n",
    "    type=\"messages\"\n",
    ").launch(share=True)\n"
   ]
  },
  {
   "cell_type": "markdown",
   "id": "c4013434",
   "metadata": {},
   "source": [
    "# Debugging"
   ]
  },
  {
   "cell_type": "markdown",
   "id": "2bdd4c71",
   "metadata": {},
   "source": [
    "Diagnóstico: Chunks más relevantes de una query?"
   ]
  },
  {
   "cell_type": "code",
   "execution_count": 25,
   "id": "9c22dd07",
   "metadata": {},
   "outputs": [
    {
     "name": "stdout",
     "output_type": "stream",
     "text": [
      "\n",
      "--- Chunk 1 (índice global: 257) ---\n",
      "\n",
      "---\n",
      "title: \"Manual de Capacitación para Autoridades de Mesa\"\n",
      "subtitle: \"Elecciones 2025 - Ciudad Autónoma de Buenos Aires\"\n",
      "---\n",
      "\n",
      "# Presentación\n",
      "\n",
      "Este manual tiene como objetivo brindar a las Autoridades de Mesa los conocimientos esenciales para desempeñar su función conforme a la normativa vigente. Se estructura en función de las tareas que deben desarrollarse durante la jornada electoral e incluye información práctica, representaciones gráficas de los materiales y documentos utilizados, y protocolos para gestionar situaciones imprevistas.\n",
      "\n",
      "# Cuándo votamos\n",
      "\n",
      "Las elecciones locales en la Ciudad Autónoma de Buenos Aires se realizarán en una fecha distinta a la de las elecciones nacionales. No habrá elecciones Primarias Abiertas, Simultáneas y Obligatorias (PASO). La jornada electoral se llevará a cabo el día domingo del mes de mayo de 2025.\n",
      "\n",
      "# Qué votamos\n",
      "\n",
      "--- Chunk 2 (índice global: 258) ---\n",
      "\n",
      "# Qué votamos\n",
      "\n",
      "Se elegirá una lista de candidatos/as a Diputados/as para la Legislatura de la CABA mediante el sistema de Boleta Única Electrónica (BUE). La lista estará compuesta por treinta (30) titulares y diez (10) suplentes. Los/as electos/as asumirán el 10 de diciembre de 2025.\n",
      "\n",
      "# Funciones de la Autoridad de Mesa\n",
      "\n",
      "Las Autoridades de Mesa son responsables de garantizar el normal desarrollo del acto electoral. Son designadas por el Tribunal Electoral y tienen como funciones:\n",
      "\n",
      "- Recibir y organizar el material electoral.\n",
      "- Abrir, desarrollar y cerrar el acto electoral.\n",
      "- Supervisar el proceso de votación y escrutinio.\n",
      "\n",
      "Su rol es una carga pública irrenunciable y es compensado con un viático. Los valores definidos por el Instituto de Gestión Electoral son:\n",
      "\n",
      "- $60.000 por cumplir la función el día de la elección.\n",
      "- $60.000 adicionales para quienes hayan realizado la capacitación previa.\n",
      "\n",
      "El incumplimiento sin justificación será sancionado conforme al Código Electoral de la Ciudad.\n",
      "\n",
      "--- Chunk 3 (índice global: 259) ---\n",
      "\n",
      "El incumplimiento sin justificación será sancionado conforme al Código Electoral de la Ciudad.\n",
      "\n",
      "# Personal en el establecimiento\n",
      "\n",
      "Participan en la jornada:\n",
      "\n",
      "- Presidente/a de Mesa\n",
      "- Auxiliar de Mesa\n",
      "- Suplente\n",
      "- Delegado/a Judicial\n",
      "- Fiscales de mesa y generales\n",
      "- Asistente Técnico/a\n",
      "- Coordinador/a Técnico/a\n",
      "- Personal del Correo\n",
      "- Capacitadores/as BUE\n",
      "- Observadores/as Electorales\n",
      "- Fuerzas de Seguridad\n",
      "\n",
      "# Tareas Previas (7:00 h)\n",
      "\n",
      "Las Autoridades deben presentarse a las 07:00 h para:\n",
      "\n",
      "- Recibir la urna y materiales del Correo.\n",
      "- Firmar la recepción de materiales.\n",
      "- Verificar el contenido del bolsín.\n",
      "\n",
      "Materiales principales:\n",
      "\n",
      "- Urna\n",
      "- Padrones (especial, auxiliar, de pared)\n",
      "- Credenciales con PIN\n",
      "- Boletas BUE\n",
      "- Actas (apertura, cierre, escrutinio)\n",
      "- Bolsines y sobres especiales\n",
      "- Carteles informativos\n",
      "- Dispositivo de votación\n",
      "- Plantilla de firma\n",
      "\n",
      "# Preparación del espacio\n",
      "\n",
      "--- Chunk 4 (índice global: 260) ---\n",
      "\n",
      "# Preparación del espacio\n",
      "\n",
      "- Ubicar la mesa y urna en zona accesible.\n",
      "- Posicionar el dispositivo evitando visualización de pantalla.\n",
      "- Colocar carteles de información y delitos electorales.\n",
      "- Reconocer a fiscales partidarios presentes.\n",
      "\n",
      "# Apertura del Acto Electoral (8:00 h)\n",
      "\n",
      "- Cerrar la urna vacía y colocar la faja firmada.\n",
      "- El Presidente/a declara la apertura a las 08:00 h.\n",
      "- Insertar el pendrive en el dispositivo y encenderlo.\n",
      "- Ingresar PIN y número de mesa.\n",
      "- Imprimir el Acta de Apertura y firmarla.\n",
      "\n",
      "# Documentación habilitante\n",
      "\n",
      "**Documentos válidos:**\n",
      "\n",
      "- Libreta Cívica\n",
      "- Libreta de Enrolamiento\n",
      "- DNI libreta verde o celeste\n",
      "- Tarjeta DNI con leyenda\n",
      "\n",
      "**No válidos:**\n",
      "\n",
      "- DNI digital\n",
      "- Pasaporte\n",
      "\n",
      "# Emisión del Sufragio\n",
      "\n",
      "--- Chunk 5 (índice global: 261) ---\n",
      "\n",
      "**Documentos válidos:**\n",
      "\n",
      "- Libreta Cívica\n",
      "- Libreta de Enrolamiento\n",
      "- DNI libreta verde o celeste\n",
      "- Tarjeta DNI con leyenda\n",
      "\n",
      "**No válidos:**\n",
      "\n",
      "- DNI digital\n",
      "- Pasaporte\n",
      "\n",
      "# Emisión del Sufragio\n",
      "\n",
      "1. Solicitar DNI y verificar datos.\n",
      "2. Entregar BUE retirando el primer troquel.\n",
      "3. Elector introduce BUE y selecciona opción.\n",
      "4. Se imprime y graba el voto en la boleta.\n",
      "5. Elector puede verificar el contenido en el chip.\n",
      "6. Devuelve la boleta, firma el padrón y recibe constancia.\n",
      "\n",
      "# Casos Especiales\n",
      "\n",
      "## Voto de Identidad Impugnada\n",
      "\n",
      "- No se impide el voto.\n",
      "- Se completa formulario con huella y datos.\n",
      "- Se coloca en sobre especial y se introduce en la urna.\n",
      "\n",
      "## Voto Asistido\n",
      "\n",
      "- Personas con discapacidad pueden votar con asistencia.\n",
      "- Se utiliza dispositivo con modo accesible (audio y teclado acrílico).\n",
      "- Se registra asistencia en observaciones del padrón.\n",
      "\n",
      "# Cierre del Acto Electoral (18:00 h)\n",
      "\n",
      "--- Chunk 6 (índice global: 262) ---\n",
      "\n",
      "# Cierre del Acto Electoral (18:00 h)\n",
      "\n",
      "- Cierre de puertas y recepción de votos pendientes.\n",
      "- Inicio del escrutinio por autoridades de mesa:\n",
      "  - Recuento de votantes\n",
      "  - Lectura de boletas BUE\n",
      "  - Clasificación de votos\n",
      "  - Impresión de actas y certificados\n",
      "\n",
      "# Clasificación de votos\n",
      "\n",
      "- **Válidos:** Afirmativos y blancos\n",
      "- **Nulos:** Con roturas, escritos o sin impresión\n",
      "- **Recurridos:** Cuestionados por fiscales, se documentan y no se computan\n",
      "\n",
      "# Devolución de Materiales\n",
      "\n",
      "Entregar al personal del Correo:\n",
      "\n",
      "- Urna precintada\n",
      "- Bolsín con actas, padrones, sobres especiales\n",
      "- Sobre marrón con material sobrante\n",
      "- Firmar recibo correspondiente\n",
      "\n",
      "# Contacto Institucional\n",
      "\n",
      "- https://electoralcaba.gob.ar  \n",
      "- https://buenosaires.gob.ar/ige  \n",
      "- Email: ige@buenosaires.gob.ar  \n",
      "- Teléfonos: 5030-9700 Int. 4341 / 4011-1777\n"
     ]
    }
   ],
   "source": [
    "# Primero podemos mirar la numeración de los chunks creados a partir de un archivo. Sabiendo la pregunta, sabriamos cual sería el chunk más relevante y ahí\n",
    "# vemos si aparece en la búsqueda o que puntuación tiene que hace que no aparezca.\n",
    "nombre_archivo = \"Manual_para_autoridades_mesa_caba_2025.md\"\n",
    "\n",
    "chunks_objetivo = [\n",
    "    chunk for chunk in chunks\n",
    "    if nombre_archivo in chunk.metadata[\"source\"]\n",
    "]\n",
    "\n",
    "for i, chunk in enumerate(chunks_objetivo):\n",
    "    # Buscar su índice global dentro de todos los chunks\n",
    "    index_global = chunks.index(chunk)\n",
    "    \n",
    "    print(f\"\\n--- Chunk {i+1} (índice global: {index_global}) ---\\n\")\n",
    "    print(chunk.page_content)\n"
   ]
  },
  {
   "cell_type": "code",
   "execution_count": 22,
   "id": "30b4745a-0a6c-4544-b78b-c827cfec1fb9",
   "metadata": {},
   "outputs": [
    {
     "name": "stdout",
     "output_type": "stream",
     "text": [
      "Score: 0.34\n",
      "#### Artículo 210: Emisión del voto. La emisión del sufragio se lleva a cabo mediante el siguiente procedimiento:\n",
      "1) Cuando el/la elector/a se encuentre en el puesto de votación o frente al dispositiv\n",
      "---\n",
      "Score: 0.34\n",
      "---\n",
      "title: \"Manual de Capacitación para Autoridades de Mesa\"\n",
      "subtitle: \"Elecciones 2025 - Ciudad Autónoma de Buenos Aires\"\n",
      "---\n",
      "\n",
      "# Presentación\n",
      "\n",
      "Este manual tiene como objetivo brindar a las Autoridade\n",
      "---\n",
      "Score: 0.36\n",
      "#### Artículo 203: Derecho a votar. Toda persona que figure en el padrón y acredite su identidad mediante la\n",
      "exhibición del Documento Nacional de Identidad habilitante, en las condiciones establecidas\n",
      "---\n",
      "Score: 0.37\n",
      "#### Artículo 142: Opciones de voto. El dispositivo electrónico del Sistema electrónico de emisión de Boleta\n",
      "deberá presentar inicialmente al/la elector/a la opción de votar por categoría o por agrupa\n",
      "---\n",
      "Score: 0.37\n",
      "#### Artículo 216: Clausura del acto electoral. A las dieciocho horas (18 hs.) se clausurará el acto electoral y se\n",
      "dispondrá el cierre de los accesos a los establecimientos de votación, continuando s\n",
      "---\n",
      "Score: 0.37\n",
      "#### Artículo 43: Elección del/la Jefe/a y Vicejefe/a de Gobierno. Las candidaturas de Jefe/a de Gobierno y\n",
      "Vicejefe/a de Gobierno, serán consideradas candidaturas unipersonales.\n",
      "La elección del/la Je\n",
      "---\n",
      "Score: 0.37\n",
      "#### Artículo 213: Electores/as ciegos/as. En el caso que se presenten a votar electores/as ciegos/as o con\n",
      "discapacidad visual, las autoridades de mesa le facilitarán las herramientas diseñadas a tal\n",
      "---\n",
      "Score: 0.38\n",
      "#### Artículo 96: Elección del candidato/a a Jefe/a de Gobierno. La elección del/la candidato/a a Jefe/a de\n",
      "Gobierno de una agrupación política se realiza en forma directa y a simple pluralidad de suf\n",
      "---\n",
      "Score: 0.38\n",
      "#### Artículo 178: Establecimientos de votación. El Instituto de Gestión Electoral determina los establecimientos\n",
      "donde funcionarán las mesas receptoras de votos, los cuales podrán ser dependencias of\n",
      "---\n",
      "Score: 0.38\n",
      "#### Artículo 44: Ratificación. Dentro del quinto día de proclamadas las dos (2) fórmulas más votadas, éstas\n",
      "deberán ratificar por escrito ante el Tribunal Electoral su decisión de presentarse a la se\n",
      "---\n",
      "Score: 0.38\n",
      "#### Artículo 180: Cantidad de Mesas receptoras de votos por establecimiento de votación.\n",
      "Cada establecimiento contará con la cantidad de mesas receptoras de votos que permitan las condiciones\n",
      "de acce\n",
      "---\n",
      "Score: 0.38\n",
      "#### Artículo 200: Prohibiciones durante el día del comicio. Queda expresamente prohibido:\n",
      "1) A toda persona que resida dentro de un radio de ochenta (80) metros alrededor del establecimiento\n",
      "de votac\n",
      "---\n",
      "Score: 0.38\n",
      "#### Artículo 20: Inmunidad del/la elector/a. Ninguna autoridad estará facultada para reducir a prisión a un/a\n",
      "elector/a desde veinticuatro (24) horas antes de la elección hasta la clausura del comici\n",
      "---\n",
      "Score: 0.39\n",
      "# Qué votamos\n",
      "\n",
      "Se elegirá una lista de candidatos/as a Diputados/as para la Legislatura de la CABA mediante el sistema de Boleta Única Electrónica (BUE). La lista estará compuesta por treinta (30) tit\n",
      "---\n",
      "Score: 0.39\n",
      "#### Artículo 7: \"Elecciones primarias”, “elecciones generales” y “segunda vuelta\". La elección de Jefe/a de\n",
      "Gobierno, Vicejefe/a de Gobierno, Diputados/as y Miembros de Juntas Comunales de la Ciudad \n",
      "---\n",
      "Score: 0.39\n",
      "#### Artículo 206: Inadmisibilidad del voto. El/La Presidente de Mesa no admitirá que el/la elector/a emita\n",
      "su voto cuando se presentase sin Documento Nacional de Identidad o cuando exhibiese un ejemp\n",
      "---\n",
      "Score: 0.39\n",
      "#### Artículo 17: Exclusión de sanción por no emisión del voto. No se impondrá sanción por dejar de emitir su\n",
      "voto a los/as siguientes electores/as:\n",
      "1) Los/as electores/as mayores de setenta (70) años\n",
      "---\n",
      "Score: 0.39\n",
      "# TÍTULO SEGUNDO\n",
      "CUERPO ELECTORAL\n",
      "\n",
      "## CAPÍTULO I\n",
      "DE LA CONDICIÓN DE ELECTOR/A, DERECHOS, DEBERES E INHABILIDADES\n",
      "\n",
      "### SECCIÓN I\n",
      "ELECTORES/AS, SUS DEBERES Y DERECHOS.\n",
      "\n",
      "#### Artículo 9: Electores/as. So\n",
      "---\n",
      "Score: 0.39\n",
      "#### Artículo 117: Aprobación de diseño de la visualización de la oferta electoral. Oídos los/as apoderados/\n",
      "as e introducidos los cambios pertinentes, el Instituto de Gestión Electoral aprobará media\n",
      "---\n",
      "Score: 0.39\n",
      "#### Artículo 218: Acta de Escrutinio. El/La Presidente de Mesa generará el Acta de escrutinio donde\n",
      "consignará:\n",
      "1) La hora de cierre del comicio.\n",
      "2) El número de electores/as que sufragaron señalados\n",
      "---\n",
      "Score: 0.39\n",
      "#### Artículo 13: Prueba del carácter de elector/a. Deber de votar. La calidad de elector/a se prueba, a\n",
      "los fines del sufragio, exclusivamente por su inclusión en el padrón electoral correspondiente.\n",
      "---\n",
      "Score: 0.39\n",
      "#### Artículo 177: Viáticos. Los/as Delegados/as Judiciales y los/as Coordinadores/as Técnicos/as tienen\n",
      "derecho al cobro, en concepto de viáticos, de una suma fija en pesos que será determinada en ca\n",
      "---\n",
      "Score: 0.39\n",
      "### SECCIÓN V\n",
      "APERTURA, DESARROLLO Y CLAUSURA DEL ACTO ELECTORAL\n",
      "\n",
      "#### Artículo 202: Apertura del acto electoral. El/La Presidente de Mesa declara la apertura del acto electoral\n",
      "a las ocho horas (8:00\n",
      "---\n",
      "Score: 0.39\n",
      "#### Artículo 10: Electores/as extranjeros/as. Los extranjeros y las extranjeras, desde los dieciséis (16) años de\n",
      "edad, están habilitados/as para votar en los actos electorales convocados en el marco\n",
      "---\n",
      "Score: 0.39\n",
      "#### Artículo 246: Cómputo final. El Tribunal Electoral sumará los resultados obtenidos en cada una de las\n",
      "mesas, ateniéndose a las cifras consignadas en las actas de escrutinio, a las que se adiciona\n",
      "---\n",
      "Score: 0.39\n",
      "#### Artículo 214: Voto Asistido. Los/as electores/as ciegos o con una discapacidad o condición física\n",
      "permanente o transitoria que restrinja o dificulte el ejercicio del sufragio pueden optar por ser\n",
      "---\n",
      "Score: 0.39\n",
      "#### Artículo 40: Mesas receptoras de votos. Cada circuito se dividirá en mesas receptoras de votos, las que\n",
      "se constituirán con hasta trescientos cincuenta (350) electores/as inscriptos/as, agrupados\n",
      "---\n",
      "Score: 0.39\n",
      "#### Artículo 18: Licencia. Los/as electores/as que deban prestar tareas durante la jornada electoral tienen\n",
      "derecho a obtener una licencia especial de sus empleadores/as con el objeto de concurrir a \n",
      "---\n",
      "Score: 0.39\n",
      "#### Artículo 241: Nulidad de la mesa receptora de votos. El Tribunal Electoral declarará nula, a pedido de\n",
      "parte o de oficio, la elección realizada en una mesa receptora de votos cuando se verifique \n",
      "---\n",
      "Score: 0.39\n",
      "#### Artículo 58: Convocatoria y celebración de elecciones generales y segunda vuelta. El/la Jefe/a de\n",
      "Gobierno debe efectuar la convocatoria a elecciones generales al menos ciento ochenta y cinco (18\n",
      "---\n",
      "Score: 0.39\n",
      "#### Artículo 236: Reclamos de las agrupaciones políticas. Durante las cuarenta y ocho (48) horas siguientes\n",
      "a la elección, el Tribunal Electoral recibirá los reclamos de las agrupaciones políticas re\n",
      "---\n",
      "Score: 0.39\n",
      "#### Artículo 106: Resolución. Dentro de las cuarenta y ocho (48) horas siguientes a su presentación el Tribunal\n",
      "Electoral dictará resolución, con expresión concreta y precisa de los hechos que la fun\n",
      "---\n",
      "Score: 0.40\n",
      "#### Artículo 126: Implementación de tecnologías. El Instituto de Gestión Electoral tiene a su cargo la\n",
      "aprobación de los sistemas electrónicos a ser incorporados en los procedimientos de emisión de v\n",
      "---\n",
      "Score: 0.40\n",
      "##CAPÍTULO 1\n",
      "DE LA OFICIALIZACIÓN DE LISTAS DE CANDIDATOS/AS\n",
      "\n",
      "#### Artículo 100: Piso electoral. Sólo podrán participar en las elecciones generales las agrupaciones políticas\n",
      "que hayan obtenido:\n",
      "1) Pa\n",
      "---\n",
      "Score: 0.40\n",
      "#### Artículo 99: Selección del candidato/a a Vicejefe/a de Gobierno. Dentro de las cuarenta y ocho (48) horas\n",
      "de recibida la notificación de su proclamación, el/la candidato/a a Jefe/a de Gobierno de\n",
      "---\n",
      "Score: 0.40\n",
      "#### Artículo 171: Comunicación. El Tribunal Electoral pondrá a disposición de las agrupaciones políticas al\n",
      "menos quince (15) días antes a la elección, el listado de los/as Delegados/as Judiciales de\n",
      "---\n",
      "Score: 0.40\n",
      "#### Artículo 61: Requisitos del acto de convocatoria. La convocatoria a elección de cargos debe indicar:\n",
      "1) La fecha de la elección.\n",
      "2) La categoría y número de cargos a elegir.\n",
      "3) En su caso, fecha \n",
      "---\n",
      "Score: 0.40\n",
      "El incumplimiento sin justificación será sancionado conforme al Código Electoral de la Ciudad.\n",
      "\n",
      "# Personal en el establecimiento\n",
      "\n",
      "Participan en la jornada:\n",
      "\n",
      "- Presidente/a de Mesa\n",
      "- Auxiliar de Mesa\n",
      "-\n",
      "---\n",
      "Score: 0.40\n",
      "#### Artículo 47: Elección de los/as Diputados/as. Los/as Diputados/as de la Ciudad Autónoma de Buenos\n",
      "Aires se elegirán en forma directa por los/as electores/as, a cuyo fin el territorio de la Ciudad\n",
      "---\n",
      "Score: 0.40\n",
      "#### Artículo 188: Selección de Autoridades de mesa. El Instituto de Gestión Electoral realizará la selección de\n",
      "las autoridades de mesa que actuarán en las elecciones y remitirá al Tribunal Electoral\n",
      "---\n",
      "Score: 0.40\n",
      "#### Artículo 182: Requisitos. Las autoridades de las mesas receptoras de votos deben reunir los siguientes\n",
      "requisitos:\n",
      "1) Ser electores/as de la mesa en la que deben desempeñarse.\n",
      "2) Tener entre diec\n",
      "---\n",
      "Score: 0.40\n",
      "# TÍTULO DECIMOPRIMERO\n",
      "DE LOS CONSEJOS CONSULTIVOS\n",
      "\n",
      "#### Artículo 290: Consejo consultivo de Partidos Políticos.\n",
      "El Instituto de Gestión Electoral convoca la conformación de un Consejo Consultivo de P\n",
      "---\n",
      "Score: 0.40\n",
      "#### Artículo 116: Audiencia de Observación. El Instituto de Gestión Electoral convoca a cada agrupación\n",
      "política a participar de una Audiencia de Observación a realizarse con una antelación no menor \n",
      "---\n",
      "Score: 0.40\n",
      "#### Artículo 179: Obligación de los/as encargados/as y/o autoridades. Los/as encargados/as y/o autoridades\n",
      "de los locales indicados en el primer párrafo del artículo 178 que hubieran sido seleccionad\n",
      "---\n",
      "Score: 0.40\n",
      "#### Artículo 41: Mesas de electores/as extranjeros/as. El Instituto de Gestión Electoral propondrá al Tribunal\n",
      "Electoral los lugares de funcionamiento de las mesas de electores/as extranjeros/as en c\n",
      "---\n",
      "Score: 0.40\n",
      "#### Artículo 97: Conformación final de la lista de candidatos/as a Diputados/as y Miembros de la Junta\n",
      "Comunal. La conformación de la lista final de candidatos/as a Diputados/as y Miembros de la Junt\n",
      "---\n",
      "Score: 0.40\n",
      "#### Artículo 193: Capacitación Electoral. La capacitación integral de todos/as los/as ciudadanos/as\n",
      "designados/as como autoridades de mesa debe ser realizada por el Instituto de Gestión Electoral en \n",
      "---\n",
      "Score: 0.40\n",
      "#### Artículo 195: Obligaciones de las Autoridades de Mesa. Aquellos/as ciudadanos/as que cumplan tareas\n",
      "como autoridades de mesa deberán:\n",
      "1) Concurrir al establecimiento de votación al menos una (1) \n",
      "---\n",
      "Score: 0.40\n",
      "#### Artículo 26: Registro de Infractores/as al deber de votar. Créase el Registro de Infractores/as al deber\n",
      "de votar de la Ciudad Autónoma de Buenos Aires, que comprende a todos aquellos/as electore\n",
      "---\n",
      "Score: 0.40\n",
      "#### Artículo 118: Confección de los afiches. El Instituto de Gestión Electoral diseña y aprueba el modelo de\n",
      "los afiches de exhibición de las listas completas, que contienen:\n",
      "1) La nómina y fotografí\n",
      "---\n"
     ]
    }
   ],
   "source": [
    "query = \"Cuándo votamos\"\n",
    "\n",
    "resultados = vectorstore.similarity_search_with_score(query, k=50)\n",
    "\n",
    "for doc, score in resultados:\n",
    "    print(f\"Score: {score:.2f}\")\n",
    "    print(doc.page_content[:200])\n",
    "    print(\"---\")\n"
   ]
  },
  {
   "cell_type": "code",
   "execution_count": 34,
   "id": "39983320",
   "metadata": {},
   "outputs": [
    {
     "name": "stdout",
     "output_type": "stream",
     "text": [
      "page_content='---\n",
      "title: \"Manual de Capacitación para Autoridades de Mesa\"\n",
      "subtitle: \"Elecciones 2025 - Ciudad Autónoma de Buenos Aires\"\n",
      "---\n",
      "\n",
      "# Presentación\n",
      "\n",
      "Este manual tiene como objetivo brindar a las Autoridades de Mesa los conocimientos esenciales para desempeñar su función conforme a la normativa vigente. Se estructura en función de las tareas que deben desarrollarse durante la jornada electoral e incluye información práctica, representaciones gráficas de los materiales y documentos utilizados, y protocolos para gestionar situaciones imprevistas.\n",
      "\n",
      "# Cuándo votamos\n",
      "\n",
      "Las elecciones locales en la Ciudad Autónoma de Buenos Aires se realizarán en una fecha distinta a la de las elecciones nacionales. No habrá elecciones Primarias Abiertas, Simultáneas y Obligatorias (PASO). La jornada electoral se llevará a cabo el día domingo del mes de mayo de 2025.\n",
      "\n",
      "# Qué votamos' metadata={'source': 'knowledge-base\\\\Manual autoridades de mesa\\\\Manual_para_autoridades_mesa_caba_2025.md', 'doc_type': 'Manual autoridades de mesa'}\n",
      "Distancia L2: 0.5556\n",
      "Similitud coseno: 0.8456\n"
     ]
    }
   ],
   "source": [
    "# Paso 1: crear el embedding de la query\n",
    "query = \"cuando se vota\"\n",
    "query_embedding = embeddings.embed_query(query)\n",
    "\n",
    "# Paso 2: elegir un chunk específico\n",
    "chunk = chunks[257]  # por ejemplo, el chunk que quiero evaluar (ese número es el indice global que encontramos gracias a que más arriba vimos los chunks de cada documento)\n",
    "chunk_embedding = embeddings.embed_documents([chunk.page_content])[0]\n",
    "\n",
    "print(chunks[257])\n",
    "# Opción A: distancia Euclídea (L2)\n",
    "l2_distance = np.linalg.norm(np.array(query_embedding) - np.array(chunk_embedding))\n",
    "print(f\"Distancia L2: {l2_distance:.4f}\")\n",
    "\n",
    "# Opción B: similitud coseno (más alta = más similar)\n",
    "cos_sim = np.dot(query_embedding, chunk_embedding) / (\n",
    "    np.linalg.norm(query_embedding) * np.linalg.norm(chunk_embedding)\n",
    ")\n",
    "print(f\"Similitud coseno: {cos_sim:.4f}\")\n"
   ]
  },
  {
   "cell_type": "markdown",
   "id": "36ea1ced",
   "metadata": {},
   "source": []
  }
 ],
 "metadata": {
  "kernelspec": {
   "display_name": "TextMining",
   "language": "python",
   "name": "python3"
  },
  "language_info": {
   "codemirror_mode": {
    "name": "ipython",
    "version": 3
   },
   "file_extension": ".py",
   "mimetype": "text/x-python",
   "name": "python",
   "nbconvert_exporter": "python",
   "pygments_lexer": "ipython3",
   "version": "3.12.3"
  }
 },
 "nbformat": 4,
 "nbformat_minor": 5
}
