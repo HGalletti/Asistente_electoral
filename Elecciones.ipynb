{
 "cells": [
  {
   "cell_type": "markdown",
   "id": "dfe37963-1af6-44fc-a841-8e462443f5e6",
   "metadata": {},
   "source": [
    "## Bot experto en leyes electorales"
   ]
  },
  {
   "cell_type": "code",
   "execution_count": 1,
   "id": "ba2779af-84ef-4227-9e9e-6eaf0df87e77",
   "metadata": {},
   "outputs": [],
   "source": [
    "# imports\n",
    "\n",
    "import os\n",
    "import glob\n",
    "from dotenv import load_dotenv\n",
    "import gradio as gr"
   ]
  },
  {
   "cell_type": "code",
   "execution_count": 2,
   "id": "802137aa-8a74-45e0-a487-d1974927d7ca",
   "metadata": {},
   "outputs": [],
   "source": [
    "# Importamos LangChain, Chroma, Plotly y herramientas necesarias\n",
    "\n",
    "from langchain.document_loaders import DirectoryLoader, TextLoader\n",
    "from langchain.text_splitter import CharacterTextSplitter\n",
    "from langchain.schema import Document\n",
    "from langchain_openai import OpenAIEmbeddings, ChatOpenAI\n",
    "from langchain_chroma import Chroma\n",
    "import matplotlib.pyplot as plt\n",
    "from sklearn.manifold import TSNE\n",
    "import numpy as np\n",
    "import plotly.graph_objects as go\n",
    "from langchain.memory import ConversationBufferMemory\n",
    "from langchain.chains import ConversationalRetrievalChain\n",
    "from langchain.embeddings import HuggingFaceEmbeddings"
   ]
  },
  {
   "cell_type": "code",
   "execution_count": 3,
   "id": "58c85082-e417-4708-9efe-81a5d55d1424",
   "metadata": {},
   "outputs": [],
   "source": [
    "# Nombre del directorio donde se guardará la base de datos vectorial\n",
    "db_name = \"vector_db\""
   ]
  },
  {
   "cell_type": "code",
   "execution_count": 4,
   "id": "ee78efcb-60fe-449e-a944-40bab26261af",
   "metadata": {},
   "outputs": [],
   "source": [
    "# Cargar las variables de entorno desde un archivo llamado .env\n",
    "# Esto permite mantener las claves y configuraciones sensibles fuera del código fuente\n",
    "\n",
    "load_dotenv(override=True)  # 'override=True' indica que las variables del .env pueden sobrescribir las ya existentes\n",
    "\n",
    "# Obtener la clave de la API de OpenAI desde las variables de entorno\n",
    "# Si no se encuentra, se asigna un valor por defecto (útil si no estás usando un archivo .env)\n",
    "os.environ['OPENAI_API_KEY'] = os.getenv('OPENAI_API_KEY',  'your-key-if-not-using-env')\n"
   ]
  },
  {
   "cell_type": "code",
   "execution_count": 5,
   "id": "730711a9-6ffe-4eee-8f48-d6cfb7314905",
   "metadata": {},
   "outputs": [
    {
     "name": "stderr",
     "output_type": "stream",
     "text": [
      "Created a chunk of size 1931, which is longer than the specified 1000\n",
      "Created a chunk of size 1039, which is longer than the specified 1000\n",
      "Created a chunk of size 2010, which is longer than the specified 1000\n",
      "Created a chunk of size 1373, which is longer than the specified 1000\n",
      "Created a chunk of size 2203, which is longer than the specified 1000\n",
      "Created a chunk of size 1633, which is longer than the specified 1000\n",
      "Created a chunk of size 1095, which is longer than the specified 1000\n",
      "Created a chunk of size 1188, which is longer than the specified 1000\n",
      "Created a chunk of size 1197, which is longer than the specified 1000\n",
      "Created a chunk of size 1420, which is longer than the specified 1000\n",
      "Created a chunk of size 2569, which is longer than the specified 1000\n",
      "Created a chunk of size 2760, which is longer than the specified 1000\n",
      "Created a chunk of size 1307, which is longer than the specified 1000\n",
      "Created a chunk of size 1212, which is longer than the specified 1000\n",
      "Created a chunk of size 1870, which is longer than the specified 1000\n",
      "Created a chunk of size 1349, which is longer than the specified 1000\n",
      "Created a chunk of size 2385, which is longer than the specified 1000\n",
      "Created a chunk of size 2614, which is longer than the specified 1000\n",
      "Created a chunk of size 1801, which is longer than the specified 1000\n",
      "Created a chunk of size 1206, which is longer than the specified 1000\n",
      "Created a chunk of size 1146, which is longer than the specified 1000\n",
      "Created a chunk of size 2339, which is longer than the specified 1000\n",
      "Created a chunk of size 1468, which is longer than the specified 1000\n",
      "Created a chunk of size 1223, which is longer than the specified 1000\n",
      "Created a chunk of size 1744, which is longer than the specified 1000\n",
      "Created a chunk of size 2022, which is longer than the specified 1000\n",
      "Created a chunk of size 1796, which is longer than the specified 1000\n",
      "Created a chunk of size 1080, which is longer than the specified 1000\n",
      "Created a chunk of size 1344, which is longer than the specified 1000\n",
      "Created a chunk of size 2146, which is longer than the specified 1000\n",
      "Created a chunk of size 1581, which is longer than the specified 1000\n",
      "Created a chunk of size 2133, which is longer than the specified 1000\n",
      "Created a chunk of size 1146, which is longer than the specified 1000\n",
      "Created a chunk of size 1094, which is longer than the specified 1000\n",
      "Created a chunk of size 1026, which is longer than the specified 1000\n",
      "Created a chunk of size 1976, which is longer than the specified 1000\n",
      "Created a chunk of size 1136, which is longer than the specified 1000\n",
      "Created a chunk of size 1606, which is longer than the specified 1000\n",
      "Created a chunk of size 1313, which is longer than the specified 1000\n",
      "Created a chunk of size 1133, which is longer than the specified 1000\n",
      "Created a chunk of size 3207, which is longer than the specified 1000\n",
      "Created a chunk of size 1213, which is longer than the specified 1000\n",
      "Created a chunk of size 1095, which is longer than the specified 1000\n",
      "Created a chunk of size 1033, which is longer than the specified 1000\n",
      "Created a chunk of size 3186, which is longer than the specified 1000\n",
      "Created a chunk of size 1041, which is longer than the specified 1000\n",
      "Created a chunk of size 1823, which is longer than the specified 1000\n",
      "Created a chunk of size 1054, which is longer than the specified 1000\n",
      "Created a chunk of size 1154, which is longer than the specified 1000\n",
      "Created a chunk of size 1902, which is longer than the specified 1000\n",
      "Created a chunk of size 2452, which is longer than the specified 1000\n",
      "Created a chunk of size 1222, which is longer than the specified 1000\n",
      "Created a chunk of size 1631, which is longer than the specified 1000\n",
      "Created a chunk of size 1004, which is longer than the specified 1000\n",
      "Created a chunk of size 1032, which is longer than the specified 1000\n",
      "Created a chunk of size 1132, which is longer than the specified 1000\n",
      "Created a chunk of size 1607, which is longer than the specified 1000\n",
      "Created a chunk of size 1169, which is longer than the specified 1000\n"
     ]
    },
    {
     "name": "stdout",
     "output_type": "stream",
     "text": [
      "Número total de fragmentos: 266\n",
      "Tipos de documento encontrados: {'Candidatos', 'Código electoral', 'Manual autoridades de mesa'}\n"
     ]
    }
   ],
   "source": [
    "# Cargar documentos usando los cargadores (loaders) de LangChain\n",
    "# Se toma todo lo que esté en las subcarpetas dentro de \"knowledge-base\"\n",
    "\n",
    "folders = glob.glob(\"knowledge-base/*\")\n",
    "\n",
    "# Función para agregar un tipo de documento como metadato.\n",
    "# Esto permite identificar más adelante de qué subcarpeta provino cada documento.\n",
    "def agregar_metadatos(doc, tipo_doc):\n",
    "    doc.metadata[\"doc_type\"] = tipo_doc\n",
    "    return doc\n",
    "\n",
    "# Gracias a CG y Jon R (estudiantes del curso) por esta corrección necesaria para algunos usuarios\n",
    "text_loader_kwargs = {'encoding': 'utf-8'}\n",
    "# Si eso no funciona, algunos usuarios de Windows podrían necesitar descomentar esta línea en su lugar:\n",
    "# text_loader_kwargs = {'autodetect_encoding': True}\n",
    "\n",
    "# Lista donde se almacenarán todos los documentos cargados\n",
    "documents = []\n",
    "\n",
    "# Recorremos cada carpeta dentro de la base de conocimiento\n",
    "for folder in folders:\n",
    "    # El tipo de documento se extrae del nombre de la carpeta\n",
    "    tipo_doc = os.path.basename(folder)\n",
    "    \n",
    "    # Se crea un cargador para todos los archivos Markdown (*.md) dentro de la carpeta\n",
    "    loader = DirectoryLoader(\n",
    "        folder,\n",
    "        glob=\"**/*.md\",\n",
    "        loader_cls=TextLoader,\n",
    "        loader_kwargs=text_loader_kwargs\n",
    "    )\n",
    "    \n",
    "    # Se cargan los documentos desde esa carpeta\n",
    "    folder_docs = loader.load()\n",
    "    \n",
    "    # Se agregan los metadatos y se agregan a la lista principal\n",
    "    documents.extend([agregar_metadatos(doc, tipo_doc) for doc in folder_docs])\n",
    "\n",
    "# Se define cómo se dividirán los documentos en fragmentos (chunks)\n",
    "# Cada fragmento tendrá hasta 1000 caracteres y habrá una superposición de 200 caracteres entre fragmentos consecutivos\n",
    "text_splitter = CharacterTextSplitter(chunk_size=1000, chunk_overlap=200)\n",
    "\n",
    "# Versión alternativa de splitter, a ver si mejora las separaciones:\n",
    "# from langchain.text_splitter import RecursiveCharacterTextSplitter\n",
    "\n",
    "# text_splitter = RecursiveCharacterTextSplitter(\n",
    "#     chunk_size=1000,\n",
    "#     chunk_overlap=300,\n",
    "#     separators=[\"\\n# \", \"\\n## \"]\n",
    "# )\n",
    "\n",
    "chunks = text_splitter.split_documents(documents)\n",
    "\n",
    "# Imprime la cantidad total de fragmentos generados\n",
    "print(f\"Número total de fragmentos: {len(chunks)}\")\n",
    "\n",
    "# Imprime los tipos de documentos (carpetas origen) que se encontraron\n",
    "print(f\"Tipos de documento encontrados: {set(doc.metadata['doc_type'] for doc in documents)}\")\n"
   ]
  },
  {
   "cell_type": "code",
   "execution_count": 1,
   "id": "4518dffb",
   "metadata": {},
   "outputs": [],
   "source": [
    "#Miramos un poco lo que armó.\n",
    "# documents"
   ]
  },
  {
   "cell_type": "markdown",
   "id": "77f7d2a6-ccfa-425b-a1c3-5e55b23bd013",
   "metadata": {},
   "source": [
    "## Armamos los embeddings"
   ]
  },
  {
   "cell_type": "code",
   "execution_count": 7,
   "id": "78998399-ac17-4e28-b15f-0b5f51e6ee23",
   "metadata": {},
   "outputs": [
    {
     "name": "stdout",
     "output_type": "stream",
     "text": [
      "Base de datos vectorial creada con 266 documentos\n"
     ]
    }
   ],
   "source": [
    "# Importa el modelo de embeddings de OpenAI (usa representaciones vectoriales del texto)\n",
    "embeddings = OpenAIEmbeddings()\n",
    "\n",
    "# Si prefieres usar embeddings gratuitos de HuggingFace (por ejemplo, el modelo \"all-MiniLM-L6-v2\"),\n",
    "# reemplaza la línea anterior con estas dos:\n",
    "#from langchain.embeddings import HuggingFaceEmbeddings\n",
    "#embeddings = HuggingFaceEmbeddings(model_name=\"sentence-transformers/all-MiniLM-L6-v2\")\n",
    "\n",
    "# Si ya existe una base de datos vectorial con ese nombre, se elimina.\n",
    "# Esto se hace para evitar conflictos o duplicados si estás rehaciendo el proceso desde cero.\n",
    "if os.path.exists(db_name):\n",
    "    Chroma(persist_directory=db_name, embedding_function=embeddings).delete_collection()\n",
    "\n",
    "# Crea una nueva base de datos vectorial (vectorstore) a partir de los documentos fragmentados.\n",
    "# Cada fragmento es convertido en un vector usando el modelo de embeddings.\n",
    "# La base de datos se guarda en el directorio especificado por 'db_name'.\n",
    "vectorstore = Chroma.from_documents(\n",
    "    documents=chunks,\n",
    "    embedding=embeddings,\n",
    "    persist_directory=db_name\n",
    ")\n",
    "\n",
    "# Imprime cuántos documentos (fragmentos de texto) fueron almacenados en la base de datos vectorial.\n",
    "print(f\"Base de datos vectorial creada con {vectorstore._collection.count()} documentos\")"
   ]
  },
  {
   "cell_type": "code",
   "execution_count": 8,
   "id": "ff2e7687-60d4-4920-a1d7-a34b9f70a250",
   "metadata": {},
   "outputs": [
    {
     "name": "stdout",
     "output_type": "stream",
     "text": [
      "Hay 266 vectores con 1,536 dimensiones en la base de datos vectorial\n"
     ]
    }
   ],
   "source": [
    "# Vamos a investigar los vectores almacenados\n",
    "\n",
    "# Se accede directamente a la colección subyacente del almacén vectorial\n",
    "collection = vectorstore._collection\n",
    "\n",
    "# Se obtiene la cantidad total de vectores almacenados\n",
    "count = collection.count()\n",
    "\n",
    "# Se extrae un vector de ejemplo (el primero) incluyendo sus embeddings (representación numérica)\n",
    "sample_embedding = collection.get(limit=1, include=[\"embeddings\"])[\"embeddings\"][0]\n",
    "\n",
    "# Se calcula cuántas dimensiones tiene ese vector\n",
    "dimensions = len(sample_embedding)\n",
    "\n",
    "# Se imprime cuántos vectores hay y cuántas dimensiones tiene cada uno\n",
    "print(f\"Hay {count:,} vectores con {dimensions:,} dimensiones en la base de datos vectorial\")\n"
   ]
  },
  {
   "cell_type": "markdown",
   "id": "9468860b-86a2-41df-af01-b2400cc985be",
   "metadata": {},
   "source": [
    "## Unimos todo con LangChain"
   ]
  },
  {
   "cell_type": "code",
   "execution_count": 9,
   "id": "129c7d1e-0094-4479-9459-f9360b95f244",
   "metadata": {},
   "outputs": [
    {
     "name": "stderr",
     "output_type": "stream",
     "text": [
      "C:\\Users\\Usuario\\AppData\\Local\\Temp\\ipykernel_25868\\1896633166.py:12: LangChainDeprecationWarning: Please see the migration guide at: https://python.langchain.com/docs/versions/migrating_memory/\n",
      "  memory = ConversationBufferMemory(memory_key='chat_history', return_messages=True)\n"
     ]
    }
   ],
   "source": [
    "# El precio es un factor importante para nuestra empresa, por lo tanto vamos modelos de bajo costo\n",
    "\n",
    "# Crear un nuevo modelo de chat con OpenAI\n",
    "#MODEL = \"gpt-4o-mini\"  # Este modelo es una versión más económica dentro de la familia GPT-4o\n",
    "#llm = ChatOpenAI(temperature=0.7, model_name=MODEL)\n",
    "\n",
    "# Alternativa: si querés usar Ollama localmente, descomentá esta línea en su lugar\n",
    "llm = ChatOpenAI(temperature=0.7, model_name='llama3.2', base_url='http://localhost:11434/v1', api_key='ollama')\n",
    "\n",
    "# Configurar la memoria de conversación para el chat\n",
    "# Esto permite que el modelo recuerde lo que se dijo anteriormente en la conversación\n",
    "memory = ConversationBufferMemory(memory_key='chat_history', return_messages=True)\n",
    "\n",
    "# El \"retriever\" es una abstracción sobre el VectorStore que se usará durante RAG (Retrieval-Augmented Generation)\n",
    "retriever = vectorstore.as_retriever(search_kwargs={\"k\": 10})\n",
    "\n",
    "# Integración de todos los componentes:\n",
    "# Se crea una cadena de conversación que incluye:\n",
    "# - el modelo de lenguaje (llm)\n",
    "# - el sistema de recuperación de información (retriever)\n",
    "# - la memoria conversacional (memory)\n",
    "conversation_chain = ConversationalRetrievalChain.from_llm(\n",
    "    llm=llm,\n",
    "    retriever=retriever,\n",
    "    memory=memory\n",
    ")\n"
   ]
  },
  {
   "cell_type": "code",
   "execution_count": 10,
   "id": "572cdd4c",
   "metadata": {},
   "outputs": [
    {
     "name": "stdout",
     "output_type": "stream",
     "text": [
      "Total embeddings indexados: 266\n"
     ]
    }
   ],
   "source": [
    "print(\"Total embeddings indexados:\", vectorstore._collection.count())\n"
   ]
  },
  {
   "cell_type": "code",
   "execution_count": 11,
   "id": "9a2423c1",
   "metadata": {},
   "outputs": [
    {
     "name": "stdout",
     "output_type": "stream",
     "text": [
      "Counter({'Código electoral': 237, 'Candidatos': 20, 'Manual autoridades de mesa': 9})\n"
     ]
    }
   ],
   "source": [
    "from collections import Counter\n",
    "cnt = Counter(chunk.metadata.get(\"doc_type\") for chunk in chunks)\n",
    "print(cnt)\n"
   ]
  },
  {
   "cell_type": "code",
   "execution_count": 12,
   "id": "dc30ab39",
   "metadata": {},
   "outputs": [
    {
     "name": "stdout",
     "output_type": "stream",
     "text": [
      "Candidatos [(Document(id='d9737f26-a528-4615-85f8-6587bbb528b5', metadata={'doc_type': 'Candidatos', 'source': 'knowledge-base\\\\Candidatos\\\\Lista completa candidatos - Código 1.md'}, page_content='# Lista 1 – MOVIMIENTO DE INTEGRACIÓN Y DESARROLLO\\n\\n**Candidatos (lista completa)**\\n\\n1. Caruso Lombardi Ricardo Daniel  \\n2. Villar Agustina  \\n3. Arancio Miguel Angel  \\n4. Lernoud María del Pilar  \\n5. Testori Schroeder Pablo César Luciano  \\n6. Radice Andrea Carla  \\n7. Vega Osvaldo Rubén  \\n8. Young Valeria Verónica  \\n9. Devita Rodrigo Nahuel  \\n10. De Santi Mónica Emilia  \\n11. Peña Rodrigo  \\n12. Rotoli María Eugenia  \\n13. Mosquera Andrés Alberto  \\n14. Arias Pereyra Gabriela Laura  \\n15. Uz Juan Ignacio  \\n16. Albrecht María Alejandra  \\n17. Baletti Lucas Agustín  \\n18. Herrera Diana Melisa  \\n19. Buletti Carlos Alberto  \\n20. Calabrese Sandra María  \\n21. Mario Castiñeira Christian Diego  \\n22. Nappa Sol Mariana  \\n23. Ravanetti Américo Marcelo  \\n24. Pace Madelaine Aixa  \\n25. Sapia Ariel Francisco  \\n26. Bufalo Noelia  \\n27. Camba Santiago José  \\n28. Pereyra María Elisa  \\n29. Cabre Juan José Ramón  \\n30. Herrera Marisol Elizabeth'), 0.253867506980896)]\n",
      "Código electoral [(Document(id='8f5e9283-394f-444a-9c2f-a90e5b0b3f42', metadata={'doc_type': 'Código electoral', 'source': 'knowledge-base\\\\Código electoral\\\\Anexo I - Título I.md'}, page_content='# TÍTULO PRIMERO\\nÁMBITO DE APLICACIÓN, PRINCIPIOS Y DISPOSICIONES GENERALES\\n\\n## CAPÍTULO ÚNICO\\n\\n#### Artículo 1: Ámbito de aplicación. Los procesos electorales para la\\nelección de Jefe/a de Gobierno, Vicejefe/a de Gobierno, Diputados/as,\\nMiembros de Juntas Comunales y convencionales constituyentes, así como\\ntambién los que se realicen en el marco de los institutos de consulta y\\nparticipación ciudadana establecidos en el Libro Segundo, Título Segundo\\nde la Constitución de la Ciudad Autónoma de Buenos Aires, se rigen por el\\npresente Código.\\n\\n#### Artículo 2: Garantías. Se garantiza a los habitantes de la Ciudad Autónoma\\nde Buenos Aires el pleno ejercicio de sus derechos políticos inherentes\\na la ciudadanía, en los términos de la normativa vigente y conforme los\\nprincipios democrático, republicano y representativo, de acuerdo a lo\\nestablecido en el artículo 62 de la Constitución de la Ciudad Autónoma de\\nBuenos Aires.'), 0.23997220396995544)]\n",
      "Manual autoridades de mesa [(Document(id='e10e42de-1911-40bf-9e7b-4c9666bc1cad', metadata={'doc_type': 'Manual autoridades de mesa', 'source': 'knowledge-base\\\\Manual autoridades de mesa\\\\Contacto institucional.md'}, page_content='# Contacto Institucional\\n\\n- https://electoralcaba.gob.ar  \\n- https://buenosaires.gob.ar/ige  \\n- Email: ige@buenosaires.gob.ar  \\n- Teléfonos: 5030-9700 Int. 4341 / 4011-1777'), 0.1644371896982193)]\n"
     ]
    }
   ],
   "source": [
    "# ¿están todos los doc_type en el vectorstore?\n",
    "for doc_type, _ in cnt.items():\n",
    "    example = next(ch for ch in chunks if ch.metadata[\"doc_type\"] == doc_type)\n",
    "    # intenta buscar ese chunk:\n",
    "    res = vectorstore.similarity_search_with_score(example.page_content[:50], k=1)\n",
    "    print(doc_type, res)\n"
   ]
  },
  {
   "cell_type": "code",
   "execution_count": null,
   "id": "968e7bf2-e862-4679-a11f-6c1efb6ec8ca",
   "metadata": {},
   "outputs": [
    {
     "name": "stdout",
     "output_type": "stream",
     "text": [
      "No, no puedes ir a votar disfrazado de un candidato. En la mayoría de los países democráticos, el voto es un derecho fundamental que se reserva para los ciudadanos adultos inscritos en el padrón electoral y que cumplen con los requisitos legales para ejercer este derecho.\n",
      "\n",
      "Disfrazarse como un candidato o otra persona con el fin de influir en el resultado del voto es considerado una forma de fraude electoral y está estrictamente prohibido. Esto se debe a que el voto es un proceso personal y secreto, y el disfraz podría ser utilizado para engañar a otros y manipular el proceso democrático.\n",
      "\n",
      "En muchos países, hay leyes y regulaciones específicas que prohíben el fraude electoral, incluyendo el uso de disfraz para influir en el voto. Si se descubre que alguien ha intentado votar disfrazado, puede enfrentar sanciones legales graves, como multas, prisión o ambas.\n",
      "\n",
      "Es importante recordar que el voto es un derecho y una responsabilidad, y debes ejercerlo de manera honesta y respetuosa. Si estás interesado en apoyar a un candidato, debes hacerlo de manera abierta y transparente, y no intentando engañar a otros.\n",
      "\n",
      "Recuerda que la integridad del proceso electoral es fundamental para la salud de nuestra democracia, y es importante protegerla de cualquier forma de fraude o manipulación.\n"
     ]
    }
   ],
   "source": [
    "# Probamos una pregunta (no tiene el prompt de sistema)\n",
    "\n",
    "query = \"¿Puedo ir a votar disfrazado de un candidato?\"\n",
    "result = conversation_chain.invoke({\"question\": query})\n",
    "print(result[\"answer\"])"
   ]
  },
  {
   "cell_type": "code",
   "execution_count": 14,
   "id": "5b5a9013-d5d4-4e25-9e7c-cdbb4f33e319",
   "metadata": {},
   "outputs": [],
   "source": [
    "from langchain.prompts import PromptTemplate\n",
    "from langchain.chains import ConversationalRetrievalChain\n",
    "# Vamos a investigar qué se envía \"detrás de escena\" durante una consulta\n",
    "from langchain_core.callbacks import StdOutCallbackHandler\n",
    "\n",
    "memory = ConversationBufferMemory(memory_key='chat_history', return_messages=True)\n",
    "\n",
    "# Tu prompt personalizado\n",
    "# template = \"\"\"Sos un asistente electoral para las elecciones legislativas de la Ciudad de Buenos Aires (CABA) 2025, entrenado para brindar información clara y precisa sobre las leyes, normativas y procedimientos electorales en la Ciudad Autónoma de Buenos Aires.\n",
    "\n",
    "# Respondés únicamente con base en el contexto proporcionado por los documentos oficiales que tenés disponibles (como leyes electorales, reglamentos, instructivos de votación, padrones, etc.). Podés ser consultado por ciudadanos, autoridades de mesa o fiscales sobre cómo votar, cómo actuar ante distintas situaciones en el lugar de votación, y cualquier otro tema vinculado al proceso electoral.\n",
    "\n",
    "# Si una pregunta no está respondida en el contexto disponible, indicá claramente que no contás con esa información.\n",
    "\n",
    "# No inventes ni supongas respuestas. Siempre priorizá la claridad, la legalidad y la neutralidad.\n",
    "\n",
    "# Contexto:\n",
    "# {context}\n",
    "\n",
    "# Pregunta:\n",
    "# {question}\n",
    "\n",
    "# Respuesta:\"\"\"\n",
    "template = \"\"\"You are **ElectoAI**, an expert electoral assistant for the **2025 legislative elections in the City of Buenos Aires (CABA)**.\n",
    "\n",
    "**Role & Scope**  \n",
    "- Proporcionás respuestas **claras**, **precisas** y **neutrales** sobre procedimientos electorales, normativas vigentes, situaciones prácticas en el lugar de votación y candidaturas, basándote únicamente en la información provista en el contexto recuperado.  \n",
    "- El contexto puede incluir documentos oficiales (leyes, reglamentos, instructivos, padrones) y también materiales informativos confiables sobre candidatos, boletas y listas.  \n",
    "- Si no hay información suficiente en el contexto para responder, decí: “Lo siento, no dispongo de información sobre ese punto.”\n",
    "\n",
    "**Instrucciones**  \n",
    "1. **Usá solo la información incluida en la sección de contexto más abajo. No inventes ni completes por fuera.  \n",
    "2. Siempre que sea posible, **mencioná la fuente** del dato (“Según la Ley X…”, “Según el instructivo…”, “Según el material informativo…”).  \n",
    "3. Respondé primero de forma **breve y directa**, luego ampliá si es necesario (máximo 2 oraciones).  \n",
    "4. Usá un lenguaje **neutral**, **claro** y **accesible** para jueces de mesa, fiscales, autoridades y votantes.\n",
    "\n",
    "**Casos que podés responder**  \n",
    "- Procedimientos ante situaciones comunes (faltan boletas, DNI no válido, votantes enojados, etc.).  \n",
    "- Reglas sobre el acceso al local (ropa partidaria, acompañantes, animales, horarios).  \n",
    "- Información sobre **candidatos, listas y boletas**, si está presente en el contexto.  \n",
    "- Consultas de **autoridades de mesa**, como:  \n",
    "  - ¿Qué hacer si no se presenta el presidente?  \n",
    "  - ¿Quién debe firmar el acta?  \n",
    "  - ¿Quién reemplaza a quién en caso de ausencia?  \n",
    "  - ¿Quién puede asistir al escrutinio?  \n",
    "  - ¿Qué responsabilidad tiene cada cargo en la mesa?  \n",
    "  - ¿Qué se hace si falta una autoridad o un fiscal?\n",
    "\n",
    "---\n",
    "\n",
    "**Contexto**:  \n",
    "{context}\n",
    "\n",
    "**Pregunta**:  \n",
    "{question}\n",
    "\n",
    "**Respuesta**:\n",
    "\"\"\"\n",
    "\n",
    "custom_prompt = PromptTemplate.from_template(template)\n",
    "\n",
    "# Ahora lo pasás al construir la cadena\n",
    "conversation_chain = ConversationalRetrievalChain.from_llm(\n",
    "    llm=llm,\n",
    "    retriever=retriever,\n",
    "    memory=memory,\n",
    "    combine_docs_chain_kwargs={\"prompt\": custom_prompt},\n",
    "    callbacks=[StdOutCallbackHandler()]  # Este callback muestra en consola lo que se envía y recibe\n",
    ")"
   ]
  },
  {
   "cell_type": "markdown",
   "id": "bbbcb659-13ce-47ab-8a5e-01b930494964",
   "metadata": {},
   "source": [
    "Ahora vamos a levantar esto con Gradio usando la interfaz de Chat -\n"
   ]
  },
  {
   "cell_type": "code",
   "execution_count": 15,
   "id": "c3536590-85c7-4155-bd87-ae78a1467670",
   "metadata": {},
   "outputs": [],
   "source": [
    "# Encapsulamos la lógica del chat en una función\n",
    "\n",
    "def chat(pregunta, historial):\n",
    "    # Se invoca la cadena de conversación pasando la pregunta del usuario\n",
    "    resultado = conversation_chain.invoke({\"question\": pregunta})\n",
    "    \n",
    "    # Imprimimos en consola:\n",
    "    print(resultado[\"answer\"])\n",
    "    \n",
    "    # Se devuelve solo la respuesta generada por el modelo\n",
    "    return resultado[\"answer\"]\n"
   ]
  },
  {
   "cell_type": "code",
   "execution_count": 16,
   "id": "b252d8c1-61a8-406d-b57a-8f708a62b014",
   "metadata": {},
   "outputs": [
    {
     "name": "stdout",
     "output_type": "stream",
     "text": [
      "* Running on local URL:  http://127.0.0.1:7860\n",
      "* Running on public URL: https://4332827288d043f3a4.gradio.live\n",
      "\n",
      "This share link expires in 1 week. For free permanent hosting and GPU upgrades, run `gradio deploy` from the terminal in the working directory to deploy to Hugging Face Spaces (https://huggingface.co/spaces)\n"
     ]
    },
    {
     "data": {
      "text/html": [
       "<div><iframe src=\"https://4332827288d043f3a4.gradio.live\" width=\"100%\" height=\"500\" allow=\"autoplay; camera; microphone; clipboard-read; clipboard-write;\" frameborder=\"0\" allowfullscreen></iframe></div>"
      ],
      "text/plain": [
       "<IPython.core.display.HTML object>"
      ]
     },
     "metadata": {},
     "output_type": "display_data"
    }
   ],
   "source": [
    "# Y en Gradio:\n",
    "\n",
    "view = gr.ChatInterface(chat, type=\"messages\").launch(share=True)"
   ]
  },
  {
   "cell_type": "markdown",
   "id": "c4013434",
   "metadata": {},
   "source": [
    "# Debugging"
   ]
  },
  {
   "cell_type": "markdown",
   "id": "2bdd4c71",
   "metadata": {},
   "source": [
    "Diagnóstico: Chunks más relevantes de una query?"
   ]
  },
  {
   "cell_type": "code",
   "execution_count": 17,
   "id": "9c22dd07",
   "metadata": {},
   "outputs": [
    {
     "name": "stdout",
     "output_type": "stream",
     "text": [
      "\n",
      "--- Chunk 1 (índice global: 258) ---\n",
      "\n",
      "# Cuándo votamos\n",
      "\n",
      "Las elecciones locales en la Ciudad Autónoma de Buenos Aires se realizarán en una fecha distinta a la de las elecciones nacionales. No habrá elecciones Primarias Abiertas, Simultáneas y Obligatorias (PASO). La jornada electoral se llevará a cabo el día domingo del mes de mayo de 2025.\n"
     ]
    }
   ],
   "source": [
    "# Primero podemos mirar la numeración de los chunks creados a partir de un archivo. Sabiendo la pregunta, sabriamos cual sería el chunk más relevante y ahí\n",
    "# vemos si aparece en la búsqueda o que puntuación tiene que hace que no aparezca.\n",
    "nombre_archivo = \"Cuándo se vota.md\"\n",
    "\n",
    "chunks_objetivo = [\n",
    "    chunk for chunk in chunks\n",
    "    if nombre_archivo in chunk.metadata[\"source\"]\n",
    "]\n",
    "\n",
    "for i, chunk in enumerate(chunks_objetivo):\n",
    "    # Buscar su índice global dentro de todos los chunks\n",
    "    index_global = chunks.index(chunk)\n",
    "    \n",
    "    print(f\"\\n--- Chunk {i+1} (índice global: {index_global}) ---\\n\")\n",
    "    print(chunk.page_content)\n"
   ]
  },
  {
   "cell_type": "code",
   "execution_count": 18,
   "id": "30b4745a-0a6c-4544-b78b-c827cfec1fb9",
   "metadata": {},
   "outputs": [
    {
     "name": "stdout",
     "output_type": "stream",
     "text": [
      "Score: 0.28\n",
      "# Cuándo votamos\n",
      "\n",
      "Las elecciones locales en la Ciudad Autónoma de Buenos Aires se realizarán en una fecha distinta a la de las elecciones nacionales. No habrá elecciones Primarias Abiertas, Simultánea\n",
      "---\n",
      "Score: 0.31\n",
      "# Qué votamos\n",
      "\n",
      "Se elegirá una lista de candidatos/as a Diputados/as para la Legislatura de la CABA mediante el sistema de Boleta Única Electrónica (BUE). La lista estará compuesta por treinta (30) tit\n",
      "---\n",
      "Score: 0.34\n",
      "#### Artículo 210: Emisión del voto. La emisión del sufragio se lleva a cabo mediante el siguiente procedimiento:\n",
      "1) Cuando el/la elector/a se encuentre en el puesto de votación o frente al dispositiv\n",
      "---\n",
      "Score: 0.36\n",
      "#### Artículo 203: Derecho a votar. Toda persona que figure en el padrón y acredite su identidad mediante la\n",
      "exhibición del Documento Nacional de Identidad habilitante, en las condiciones establecidas\n",
      "---\n",
      "Score: 0.37\n",
      "#### Artículo 142: Opciones de voto. El dispositivo electrónico del Sistema electrónico de emisión de Boleta\n",
      "deberá presentar inicialmente al/la elector/a la opción de votar por categoría o por agrupa\n",
      "---\n",
      "Score: 0.37\n",
      "#### Artículo 216: Clausura del acto electoral. A las dieciocho horas (18 hs.) se clausurará el acto electoral y se\n",
      "dispondrá el cierre de los accesos a los establecimientos de votación, continuando s\n",
      "---\n",
      "Score: 0.37\n",
      "#### Artículo 43: Elección del/la Jefe/a y Vicejefe/a de Gobierno. Las candidaturas de Jefe/a de Gobierno y\n",
      "Vicejefe/a de Gobierno, serán consideradas candidaturas unipersonales.\n",
      "La elección del/la Je\n",
      "---\n",
      "Score: 0.37\n",
      "#### Artículo 213: Electores/as ciegos/as. En el caso que se presenten a votar electores/as ciegos/as o con\n",
      "discapacidad visual, las autoridades de mesa le facilitarán las herramientas diseñadas a tal\n",
      "---\n",
      "Score: 0.38\n",
      "#### Artículo 96: Elección del candidato/a a Jefe/a de Gobierno. La elección del/la candidato/a a Jefe/a de\n",
      "Gobierno de una agrupación política se realiza en forma directa y a simple pluralidad de suf\n",
      "---\n",
      "Score: 0.38\n",
      "#### Artículo 178: Establecimientos de votación. El Instituto de Gestión Electoral determina los establecimientos\n",
      "donde funcionarán las mesas receptoras de votos, los cuales podrán ser dependencias of\n",
      "---\n",
      "Score: 0.38\n",
      "#### Artículo 44: Ratificación. Dentro del quinto día de proclamadas las dos (2) fórmulas más votadas, éstas\n",
      "deberán ratificar por escrito ante el Tribunal Electoral su decisión de presentarse a la se\n",
      "---\n",
      "Score: 0.38\n",
      "#### Artículo 180: Cantidad de Mesas receptoras de votos por establecimiento de votación.\n",
      "Cada establecimiento contará con la cantidad de mesas receptoras de votos que permitan las condiciones\n",
      "de acce\n",
      "---\n",
      "Score: 0.38\n",
      "#### Artículo 200: Prohibiciones durante el día del comicio. Queda expresamente prohibido:\n",
      "1) A toda persona que resida dentro de un radio de ochenta (80) metros alrededor del establecimiento\n",
      "de votac\n",
      "---\n",
      "Score: 0.38\n",
      "#### Artículo 20: Inmunidad del/la elector/a. Ninguna autoridad estará facultada para reducir a prisión a un/a\n",
      "elector/a desde veinticuatro (24) horas antes de la elección hasta la clausura del comici\n",
      "---\n",
      "Score: 0.39\n",
      "#### Artículo 7: \"Elecciones primarias”, “elecciones generales” y “segunda vuelta\". La elección de Jefe/a de\n",
      "Gobierno, Vicejefe/a de Gobierno, Diputados/as y Miembros de Juntas Comunales de la Ciudad \n",
      "---\n",
      "Score: 0.39\n",
      "#### Artículo 206: Inadmisibilidad del voto. El/La Presidente de Mesa no admitirá que el/la elector/a emita\n",
      "su voto cuando se presentase sin Documento Nacional de Identidad o cuando exhibiese un ejemp\n",
      "---\n",
      "Score: 0.39\n",
      "#### Artículo 17: Exclusión de sanción por no emisión del voto. No se impondrá sanción por dejar de emitir su\n",
      "voto a los/as siguientes electores/as:\n",
      "1) Los/as electores/as mayores de setenta (70) años\n",
      "---\n",
      "Score: 0.39\n",
      "# TÍTULO SEGUNDO\n",
      "CUERPO ELECTORAL\n",
      "\n",
      "## CAPÍTULO I\n",
      "DE LA CONDICIÓN DE ELECTOR/A, DERECHOS, DEBERES E INHABILIDADES\n",
      "\n",
      "### SECCIÓN I\n",
      "ELECTORES/AS, SUS DEBERES Y DERECHOS.\n",
      "\n",
      "#### Artículo 9: Electores/as. So\n",
      "---\n",
      "Score: 0.39\n",
      "#### Artículo 177: Viáticos. Los/as Delegados/as Judiciales y los/as Coordinadores/as Técnicos/as tienen\n",
      "derecho al cobro, en concepto de viáticos, de una suma fija en pesos que será determinada en ca\n",
      "---\n",
      "Score: 0.39\n",
      "#### Artículo 117: Aprobación de diseño de la visualización de la oferta electoral. Oídos los/as apoderados/\n",
      "as e introducidos los cambios pertinentes, el Instituto de Gestión Electoral aprobará media\n",
      "---\n",
      "Score: 0.39\n",
      "#### Artículo 218: Acta de Escrutinio. El/La Presidente de Mesa generará el Acta de escrutinio donde\n",
      "consignará:\n",
      "1) La hora de cierre del comicio.\n",
      "2) El número de electores/as que sufragaron señalados\n",
      "---\n",
      "Score: 0.39\n",
      "# Cierre del Acto Electoral (18:00 h)\n",
      "\n",
      "- Cierre de puertas y recepción de votos pendientes.\n",
      "- Inicio del escrutinio por autoridades de mesa:\n",
      "  - Recuento de votantes\n",
      "  - Lectura de boletas BUE\n",
      "  - Cla\n",
      "---\n",
      "Score: 0.39\n",
      "#### Artículo 13: Prueba del carácter de elector/a. Deber de votar. La calidad de elector/a se prueba, a\n",
      "los fines del sufragio, exclusivamente por su inclusión en el padrón electoral correspondiente.\n",
      "---\n",
      "Score: 0.39\n",
      "### SECCIÓN V\n",
      "APERTURA, DESARROLLO Y CLAUSURA DEL ACTO ELECTORAL\n",
      "\n",
      "#### Artículo 202: Apertura del acto electoral. El/La Presidente de Mesa declara la apertura del acto electoral\n",
      "a las ocho horas (8:00\n",
      "---\n",
      "Score: 0.39\n",
      "#### Artículo 10: Electores/as extranjeros/as. Los extranjeros y las extranjeras, desde los dieciséis (16) años de\n",
      "edad, están habilitados/as para votar en los actos electorales convocados en el marco\n",
      "---\n",
      "Score: 0.39\n",
      "#### Artículo 246: Cómputo final. El Tribunal Electoral sumará los resultados obtenidos en cada una de las\n",
      "mesas, ateniéndose a las cifras consignadas en las actas de escrutinio, a las que se adiciona\n",
      "---\n",
      "Score: 0.39\n",
      "#### Artículo 214: Voto Asistido. Los/as electores/as ciegos o con una discapacidad o condición física\n",
      "permanente o transitoria que restrinja o dificulte el ejercicio del sufragio pueden optar por ser\n",
      "---\n",
      "Score: 0.39\n",
      "#### Artículo 40: Mesas receptoras de votos. Cada circuito se dividirá en mesas receptoras de votos, las que\n",
      "se constituirán con hasta trescientos cincuenta (350) electores/as inscriptos/as, agrupados\n",
      "---\n",
      "Score: 0.39\n",
      "#### Artículo 18: Licencia. Los/as electores/as que deban prestar tareas durante la jornada electoral tienen\n",
      "derecho a obtener una licencia especial de sus empleadores/as con el objeto de concurrir a \n",
      "---\n",
      "Score: 0.39\n",
      "#### Artículo 241: Nulidad de la mesa receptora de votos. El Tribunal Electoral declarará nula, a pedido de\n",
      "parte o de oficio, la elección realizada en una mesa receptora de votos cuando se verifique \n",
      "---\n",
      "Score: 0.39\n",
      "#### Artículo 58: Convocatoria y celebración de elecciones generales y segunda vuelta. El/la Jefe/a de\n",
      "Gobierno debe efectuar la convocatoria a elecciones generales al menos ciento ochenta y cinco (18\n",
      "---\n",
      "Score: 0.39\n",
      "#### Artículo 236: Reclamos de las agrupaciones políticas. Durante las cuarenta y ocho (48) horas siguientes\n",
      "a la elección, el Tribunal Electoral recibirá los reclamos de las agrupaciones políticas re\n",
      "---\n",
      "Score: 0.39\n",
      "#### Artículo 106: Resolución. Dentro de las cuarenta y ocho (48) horas siguientes a su presentación el Tribunal\n",
      "Electoral dictará resolución, con expresión concreta y precisa de los hechos que la fun\n",
      "---\n",
      "Score: 0.40\n",
      "#### Artículo 126: Implementación de tecnologías. El Instituto de Gestión Electoral tiene a su cargo la\n",
      "aprobación de los sistemas electrónicos a ser incorporados en los procedimientos de emisión de v\n",
      "---\n",
      "Score: 0.40\n",
      "##CAPÍTULO 1\n",
      "DE LA OFICIALIZACIÓN DE LISTAS DE CANDIDATOS/AS\n",
      "\n",
      "#### Artículo 100: Piso electoral. Sólo podrán participar en las elecciones generales las agrupaciones políticas\n",
      "que hayan obtenido:\n",
      "1) Pa\n",
      "---\n",
      "Score: 0.40\n",
      "#### Artículo 99: Selección del candidato/a a Vicejefe/a de Gobierno. Dentro de las cuarenta y ocho (48) horas\n",
      "de recibida la notificación de su proclamación, el/la candidato/a a Jefe/a de Gobierno de\n",
      "---\n",
      "Score: 0.40\n",
      "#### Artículo 171: Comunicación. El Tribunal Electoral pondrá a disposición de las agrupaciones políticas al\n",
      "menos quince (15) días antes a la elección, el listado de los/as Delegados/as Judiciales de\n",
      "---\n",
      "Score: 0.40\n",
      "#### Artículo 61: Requisitos del acto de convocatoria. La convocatoria a elección de cargos debe indicar:\n",
      "1) La fecha de la elección.\n",
      "2) La categoría y número de cargos a elegir.\n",
      "3) En su caso, fecha \n",
      "---\n",
      "Score: 0.40\n",
      "El incumplimiento sin justificación será sancionado conforme al Código Electoral de la Ciudad.\n",
      "\n",
      "# Personal en el establecimiento\n",
      "\n",
      "Participan en la jornada:\n",
      "\n",
      "- Presidente/a de Mesa\n",
      "- Auxiliar de Mesa\n",
      "-\n",
      "---\n",
      "Score: 0.40\n",
      "#### Artículo 47: Elección de los/as Diputados/as. Los/as Diputados/as de la Ciudad Autónoma de Buenos\n",
      "Aires se elegirán en forma directa por los/as electores/as, a cuyo fin el territorio de la Ciudad\n",
      "---\n",
      "Score: 0.40\n",
      "#### Artículo 188: Selección de Autoridades de mesa. El Instituto de Gestión Electoral realizará la selección de\n",
      "las autoridades de mesa que actuarán en las elecciones y remitirá al Tribunal Electoral\n",
      "---\n",
      "Score: 0.40\n",
      "# TÍTULO DECIMOPRIMERO\n",
      "DE LOS CONSEJOS CONSULTIVOS\n",
      "\n",
      "#### Artículo 290: Consejo consultivo de Partidos Políticos.\n",
      "El Instituto de Gestión Electoral convoca la conformación de un Consejo Consultivo de P\n",
      "---\n",
      "Score: 0.40\n",
      "#### Artículo 182: Requisitos. Las autoridades de las mesas receptoras de votos deben reunir los siguientes\n",
      "requisitos:\n",
      "1) Ser electores/as de la mesa en la que deben desempeñarse.\n",
      "2) Tener entre diec\n",
      "---\n",
      "Score: 0.40\n",
      "#### Artículo 116: Audiencia de Observación. El Instituto de Gestión Electoral convoca a cada agrupación\n",
      "política a participar de una Audiencia de Observación a realizarse con una antelación no menor \n",
      "---\n",
      "Score: 0.40\n",
      "#### Artículo 179: Obligación de los/as encargados/as y/o autoridades. Los/as encargados/as y/o autoridades\n",
      "de los locales indicados en el primer párrafo del artículo 178 que hubieran sido seleccionad\n",
      "---\n",
      "Score: 0.40\n",
      "#### Artículo 41: Mesas de electores/as extranjeros/as. El Instituto de Gestión Electoral propondrá al Tribunal\n",
      "Electoral los lugares de funcionamiento de las mesas de electores/as extranjeros/as en c\n",
      "---\n",
      "Score: 0.40\n",
      "#### Artículo 97: Conformación final de la lista de candidatos/as a Diputados/as y Miembros de la Junta\n",
      "Comunal. La conformación de la lista final de candidatos/as a Diputados/as y Miembros de la Junt\n",
      "---\n",
      "Score: 0.40\n",
      "#### Artículo 193: Capacitación Electoral. La capacitación integral de todos/as los/as ciudadanos/as\n",
      "designados/as como autoridades de mesa debe ser realizada por el Instituto de Gestión Electoral en \n",
      "---\n",
      "Score: 0.40\n",
      "#### Artículo 195: Obligaciones de las Autoridades de Mesa. Aquellos/as ciudadanos/as que cumplan tareas\n",
      "como autoridades de mesa deberán:\n",
      "1) Concurrir al establecimiento de votación al menos una (1) \n",
      "---\n",
      "Score: 0.40\n",
      "#### Artículo 26: Registro de Infractores/as al deber de votar. Créase el Registro de Infractores/as al deber\n",
      "de votar de la Ciudad Autónoma de Buenos Aires, que comprende a todos aquellos/as electore\n",
      "---\n"
     ]
    }
   ],
   "source": [
    "query = \"Cuándo votamos\"\n",
    "\n",
    "resultados = vectorstore.similarity_search_with_score(query, k=50)\n",
    "\n",
    "for doc, score in resultados:\n",
    "    print(f\"Score: {score:.2f}\")\n",
    "    print(doc.page_content[:200])\n",
    "    print(\"---\")\n"
   ]
  },
  {
   "cell_type": "code",
   "execution_count": 19,
   "id": "39983320",
   "metadata": {},
   "outputs": [
    {
     "name": "stdout",
     "output_type": "stream",
     "text": [
      "Distancia L2: 0.6341\n",
      "Similitud coseno: 0.7989\n"
     ]
    }
   ],
   "source": [
    "# Paso 1: crear el embedding de la query\n",
    "query = \"cuando se vota\"\n",
    "query_embedding = embeddings.embed_query(query)\n",
    "\n",
    "# Paso 2: elegir un chunk específico\n",
    "chunk = chunks[259]  # por ejemplo, el chunk que querés evaluar (ese número es el indice global que encontramos gracias a que más arriba vimos los chunks de cada documente)\n",
    "chunk_embedding = embeddings.embed_documents([chunk.page_content])[0]\n",
    "\n",
    "# Opción A: distancia Euclídea (L2)\n",
    "l2_distance = np.linalg.norm(np.array(query_embedding) - np.array(chunk_embedding))\n",
    "print(f\"Distancia L2: {l2_distance:.4f}\")\n",
    "\n",
    "# Opción B: similitud coseno (más alta = más similar)\n",
    "cos_sim = np.dot(query_embedding, chunk_embedding) / (\n",
    "    np.linalg.norm(query_embedding) * np.linalg.norm(chunk_embedding)\n",
    ")\n",
    "print(f\"Similitud coseno: {cos_sim:.4f}\")\n"
   ]
  },
  {
   "cell_type": "code",
   "execution_count": 20,
   "id": "44c4919e",
   "metadata": {},
   "outputs": [
    {
     "name": "stdout",
     "output_type": "stream",
     "text": [
      "Distancia L2: 0.5955\n",
      "Similitud coseno: 0.8227\n"
     ]
    }
   ],
   "source": [
    "# Paso 1: crear el embedding de la query\n",
    "query = \"cuando se vota\"\n",
    "query_embedding = embeddings.embed_query(query)\n",
    "\n",
    "# Paso 2: elegir un chunk específico\n",
    "chunk = chunks[262]  # por ejemplo, el chunk que querés evaluar (ese número es el indice global que encontramos gracias a que más arriba vimos los chunks de cada documente)\n",
    "chunk_embedding = embeddings.embed_documents([chunk.page_content])[0]\n",
    "\n",
    "# Opción A: distancia Euclídea (L2)\n",
    "l2_distance = np.linalg.norm(np.array(query_embedding) - np.array(chunk_embedding))\n",
    "print(f\"Distancia L2: {l2_distance:.4f}\")\n",
    "\n",
    "# Opción B: similitud coseno (más alta = más similar)\n",
    "cos_sim = np.dot(query_embedding, chunk_embedding) / (\n",
    "    np.linalg.norm(query_embedding) * np.linalg.norm(chunk_embedding)\n",
    ")\n",
    "print(f\"Similitud coseno: {cos_sim:.4f}\")"
   ]
  },
  {
   "cell_type": "markdown",
   "id": "36ea1ced",
   "metadata": {},
   "source": []
  }
 ],
 "metadata": {
  "kernelspec": {
   "display_name": "TextMining",
   "language": "python",
   "name": "python3"
  },
  "language_info": {
   "codemirror_mode": {
    "name": "ipython",
    "version": 3
   },
   "file_extension": ".py",
   "mimetype": "text/x-python",
   "name": "python",
   "nbconvert_exporter": "python",
   "pygments_lexer": "ipython3",
   "version": "3.12.3"
  }
 },
 "nbformat": 4,
 "nbformat_minor": 5
}
